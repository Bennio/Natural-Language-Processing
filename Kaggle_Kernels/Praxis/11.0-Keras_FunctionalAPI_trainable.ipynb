{
 "cells": [
  {
   "cell_type": "markdown",
   "metadata": {},
   "source": [
    "#### Purpose of this kernel\n",
    "\n",
    "- Switch from Sequential Model to Keras functional API to enable multipe inputs (e.g. for a second branch for statistical features)\n",
    "- OOV are initialized with uniform distribution [-0.25, 0.25]\n",
    "- embedding is trainable\n"
   ]
  },
  {
   "cell_type": "code",
   "execution_count": 1,
   "metadata": {},
   "outputs": [
    {
     "data": {
      "text/plain": [
       "array([ 0.2419928 , -0.0357121 , -0.18513074,  0.06602973])"
      ]
     },
     "execution_count": 1,
     "metadata": {},
     "output_type": "execute_result"
    }
   ],
   "source": [
    "import numpy as np\n",
    "np.random.uniform(-0.25,0.25,4) # creates vector of size 4"
   ]
  },
  {
   "cell_type": "markdown",
   "metadata": {},
   "source": [
    "#### Import libraries"
   ]
  },
  {
   "cell_type": "code",
   "execution_count": 2,
   "metadata": {},
   "outputs": [
    {
     "name": "stdout",
     "output_type": "stream",
     "text": [
      "\n"
     ]
    }
   ],
   "source": [
    "%%capture --no-stdout\n",
    "\n",
    "# General\n",
    "import pandas as pd\n",
    "import numpy as np\n",
    "from tqdm import tqdm, tqdm_notebook \n",
    "tqdm_notebook().pandas()\n",
    "import os\n",
    "import gc\n",
    "import sys\n",
    "import time\n",
    "\n",
    "# Preprocessing\n",
    "import seaborn as sns\n",
    "import re\n",
    "from re import *\n",
    "from keras.preprocessing.text import Tokenizer\n",
    "from keras.preprocessing.sequence import pad_sequences\n",
    "from gensim.models import KeyedVectors\n",
    "import nltk\n",
    "from nltk.stem import PorterStemmer\n",
    "from nltk.stem.lancaster import LancasterStemmer\n",
    "from nltk.stem import SnowballStemmer \n",
    "from nltk import pos_tag, word_tokenize\n",
    "from nltk.corpus import wordnet as wn\n",
    "lemmatizer = nltk.WordNetLemmatizer()\n",
    "\n",
    "# Modeling\n",
    "import tensorflow as tf\n",
    "from keras.models import Sequential\n",
    "from keras.layers import Embedding, Flatten, Dense\n",
    "from keras.layers import SimpleRNN, GRU, Bidirectional, LSTM,CuDNNLSTM, CuDNNGRU\n",
    "from keras.layers import SpatialDropout1D, Dropout\n",
    "from keras.layers.pooling import GlobalMaxPooling1D\n",
    "\n",
    "# Keras functional API\n",
    "from keras import Input, layers\n",
    "from keras.models import Model\n",
    "from keras.layers import Conv1D\n",
    "\n",
    "# Training\n",
    "# from sklearn.model_selection import StratifiedKFold\n",
    "from sklearn.model_selection import StratifiedShuffleSplit\n",
    "\n",
    "    \n",
    "# Evaluation\n",
    "from keras.callbacks import Callback\n",
    "from sklearn.metrics import f1_score, precision_score, recall_score\n",
    "import matplotlib.pyplot as plt"
   ]
  },
  {
   "cell_type": "code",
   "execution_count": 3,
   "metadata": {},
   "outputs": [
    {
     "name": "stdout",
     "output_type": "stream",
     "text": [
      "GPU on?  -  True\n",
      "Available GPUs:  /device:GPU:0\n"
     ]
    }
   ],
   "source": [
    "# Check status and availability of GPU\n",
    "import tensorflow as tf\n",
    "print(\"GPU on?  - \", tf.test.is_gpu_available())\n",
    "print(\"Available GPUs: \", tf.test.gpu_device_name())\n",
    "\n",
    "# confirm Keras sees the GPU\n",
    "from keras import backend\n",
    "assert len(backend.tensorflow_backend._get_available_gpus()) > 0"
   ]
  },
  {
   "cell_type": "markdown",
   "metadata": {},
   "source": [
    "#### Hyperparameters"
   ]
  },
  {
   "cell_type": "code",
   "execution_count": 4,
   "metadata": {},
   "outputs": [],
   "source": [
    "# Fast Run Testing\n",
    "#total_train_samples = 30000 # max is 1306122\n",
    "total_train_samples = 1306122 # max is 1306122\n",
    "\n",
    "# Preprocessing\n",
    "maxlen = 130 # 130 - covers about 75% of all bad questions completely\n",
    "max_words = 9999999 # if all words shall be used, type huge number here\n",
    "\n",
    "# Modeling\n",
    "#embedding_dim = 300 # set to 300 to be able to compare with pre-trained embeddings\n",
    "\n",
    "# Training\n",
    "kfolds = 3 # 80/20 split\n",
    "model_epochs = 10"
   ]
  },
  {
   "cell_type": "markdown",
   "metadata": {},
   "source": [
    "## Load Data"
   ]
  },
  {
   "cell_type": "code",
   "execution_count": 5,
   "metadata": {},
   "outputs": [
    {
     "data": {
      "text/plain": [
       "0"
      ]
     },
     "execution_count": 5,
     "metadata": {},
     "output_type": "execute_result"
    }
   ],
   "source": [
    "df = pd.read_csv(\"../input/train.csv\")\n",
    "str_ = 'Train data loaded'\n",
    "os.system('echo '+str_)"
   ]
  },
  {
   "cell_type": "code",
   "execution_count": 6,
   "metadata": {},
   "outputs": [
    {
     "name": "stdout",
     "output_type": "stream",
     "text": [
      "Shape for this run:  1306122 3\n",
      "Shape data tensor: (1306122,)\n",
      "Shape target tensor: (1306122,)\n"
     ]
    },
    {
     "data": {
      "text/html": [
       "<div>\n",
       "<style scoped>\n",
       "    .dataframe tbody tr th:only-of-type {\n",
       "        vertical-align: middle;\n",
       "    }\n",
       "\n",
       "    .dataframe tbody tr th {\n",
       "        vertical-align: top;\n",
       "    }\n",
       "\n",
       "    .dataframe thead th {\n",
       "        text-align: right;\n",
       "    }\n",
       "</style>\n",
       "<table border=\"1\" class=\"dataframe\">\n",
       "  <thead>\n",
       "    <tr style=\"text-align: right;\">\n",
       "      <th></th>\n",
       "      <th>qid</th>\n",
       "      <th>question_text</th>\n",
       "      <th>target</th>\n",
       "    </tr>\n",
       "  </thead>\n",
       "  <tbody>\n",
       "    <tr>\n",
       "      <th>0</th>\n",
       "      <td>00002165364db923c7e6</td>\n",
       "      <td>How did Quebec nationalists see their province as a nation in the 1960s?</td>\n",
       "      <td>0</td>\n",
       "    </tr>\n",
       "    <tr>\n",
       "      <th>1</th>\n",
       "      <td>000032939017120e6e44</td>\n",
       "      <td>Do you have an adopted dog, how would you encourage people to adopt and not shop?</td>\n",
       "      <td>0</td>\n",
       "    </tr>\n",
       "    <tr>\n",
       "      <th>2</th>\n",
       "      <td>0000412ca6e4628ce2cf</td>\n",
       "      <td>Why does velocity affect time? Does velocity affect space geometry?</td>\n",
       "      <td>0</td>\n",
       "    </tr>\n",
       "  </tbody>\n",
       "</table>\n",
       "</div>"
      ],
      "text/plain": [
       "                    qid  ...   target\n",
       "0  00002165364db923c7e6  ...        0\n",
       "1  000032939017120e6e44  ...        0\n",
       "2  0000412ca6e4628ce2cf  ...        0\n",
       "\n",
       "[3 rows x 3 columns]"
      ]
     },
     "execution_count": 6,
     "metadata": {},
     "output_type": "execute_result"
    }
   ],
   "source": [
    "df = df[:total_train_samples] # for Testing purposes\n",
    "num_samples,n = df.shape\n",
    "print(\"Shape for this run: \", num_samples, n)\n",
    "\n",
    "X = df.loc[:, 'question_text'].values\n",
    "y = df.loc[:, 'target'].values\n",
    "\n",
    "# Since Neural Networks are only able to perform transformations on tensors \n",
    "y = np.asarray(y) # Transformation target labels to numpy array \n",
    "\n",
    "print('Shape data tensor:', X.shape) \n",
    "print('Shape target tensor:', y.shape) # 1D Tensor\n",
    "del X, y; gc.collect()\n",
    "\n",
    "pd.set_option('display.max_colwidth', 1500) # inrease display column size\n",
    "df.head(3)"
   ]
  },
  {
   "cell_type": "markdown",
   "metadata": {},
   "source": [
    "## Preprocessing"
   ]
  },
  {
   "cell_type": "markdown",
   "metadata": {},
   "source": [
    "### Data Preparation (1)  - tokenization"
   ]
  },
  {
   "cell_type": "code",
   "execution_count": 7,
   "metadata": {},
   "outputs": [],
   "source": [
    "def my_tokenizer(texts):\n",
    "        tokenizer = Tokenizer() \n",
    "        tokenizer.fit_on_texts(texts) \n",
    "        sequences = tokenizer.texts_to_sequences(texts)\n",
    "        padded_seq = pad_sequences(sequences, maxlen=maxlen)  \n",
    "        word_index = tokenizer.word_index  \n",
    "        \n",
    "        return padded_seq, word_index"
   ]
  },
  {
   "cell_type": "markdown",
   "metadata": {},
   "source": [
    "### Data Preparation (2)  - Embeddings"
   ]
  },
  {
   "cell_type": "code",
   "execution_count": 8,
   "metadata": {},
   "outputs": [],
   "source": [
    "# Embeddings path\n",
    "_glove = '../input/embeddings/glove.840B.300d/glove.840B.300d.txt'\n",
    "_paragram =  '../input/embeddings/paragram_300_sl999/paragram_300_sl999.txt'\n",
    "_wiki_news = '../input/embeddings/wiki-news-300d-1M/wiki-news-300d-1M.vec'\n",
    "_google_news = '../input/embeddings/GoogleNews-vectors-negative300/GoogleNews-vectors-negative300.bin'\n",
    "\n",
    "embeddings = [\n",
    "              {'name': 'glove', 'embeddings_path': _glove},\n",
    "              {'name': 'paragram', 'embeddings_path': _paragram},\n",
    "              {'name': 'fasttext', 'embeddings_path': _wiki_news},\n",
    "              {'name': 'googlenews', 'embeddings_path': _google_news}\n",
    "                ]"
   ]
  },
  {
   "cell_type": "markdown",
   "metadata": {},
   "source": [
    "#### Definition of functions to load and analyse embeddings"
   ]
  },
  {
   "cell_type": "code",
   "execution_count": 9,
   "metadata": {},
   "outputs": [],
   "source": [
    "# Functions for lemmatization from http://textmining.wp.hs-hannover.de/Preprocessing.html\n",
    "\n",
    "def wntag(pttag):\n",
    "    if pttag in ['JJ', 'JJR', 'JJS']:\n",
    "        return wn.ADJ\n",
    "    elif pttag in ['NN', 'NNS', 'NNP', 'NNPS']:\n",
    "        return wn.NOUN\n",
    "    elif pttag in ['RB', 'RBR', 'RBS']:\n",
    "        return wn.ADV\n",
    "    elif pttag in ['VB', 'VBD', 'VBG', 'VBN', 'VBP', 'VBZ']:\n",
    "        return wn.VERB\n",
    "    return None\n",
    "\n",
    "def lemmatize(lemmatizer,word,pos):\n",
    "    if pos == None:\n",
    "        return word\n",
    "    else:\n",
    "        return lemmatizer.lemmatize(word,pos)"
   ]
  },
  {
   "cell_type": "code",
   "execution_count": 10,
   "metadata": {},
   "outputs": [],
   "source": [
    "# Function to create embedding matrix\n",
    "embedding_matrices = {}\n",
    "words_in_embedding = {}\n",
    "def create_model_embedding_matrix(embeddings_name,word_index,max_words, embeddings_dict):\n",
    "\n",
    "    embedding_dim = 300 # (vector size 300!)\n",
    "    embedding_matrix = np.zeros((max_words+1, embedding_dim))\n",
    "    unknown_words_list = []\n",
    "    num_known_words = 0  \n",
    "        \n",
    "    ps = PorterStemmer()\n",
    "    ps_counter = 0\n",
    "    lc = LancasterStemmer()\n",
    "    lc_counter = 0\n",
    "    sb = SnowballStemmer(\"english\")\n",
    "    sb_counter = 0\n",
    "    lemma_counter = 0\n",
    "\n",
    "    # Filling up matrix\n",
    "    for word, i in word_index.items(): \n",
    "        \n",
    "        if embeddings_name in ['glove', 'paragram', 'fasttext'] and i <= max_words:\n",
    "            \n",
    "            embedding_vector = embeddings_dict.get(word) # get vector for word from embedding \n",
    "            if embedding_vector is not None:\n",
    "                embedding_matrix[i] = embedding_vector\n",
    "                num_known_words +=1\n",
    "                continue # if embedding found - process next word\n",
    "                \n",
    "            word_c = word.lower()\n",
    "            embedding_vector = embeddings_dict.get(word_c)\n",
    "            if embedding_vector is not None:\n",
    "                embedding_matrix[i] = embedding_vector\n",
    "                num_known_words +=1\n",
    "                continue # if embedding found - process next word\n",
    "                \n",
    "            word_c = word.capitalize()\n",
    "            embedding_vector = embeddings_dict.get(word_c)\n",
    "            if embedding_vector is not None:\n",
    "                embedding_matrix[i] = embedding_vector\n",
    "                num_known_words +=1\n",
    "                continue # if embedding found - process next word\n",
    "                \n",
    "            word_c = word.upper()\n",
    "            embedding_vector = embeddings_dict.get(word_c)\n",
    "            if embedding_vector is not None:\n",
    "                embedding_matrix[i] = embedding_vector\n",
    "                num_known_words +=1\n",
    "                continue # if embedding found - process next word\n",
    "                \n",
    "            word_c = ps.stem(word)\n",
    "            embedding_vector = embeddings_dict.get(word_c)\n",
    "            if embedding_vector is not None:\n",
    "                embedding_matrix[i] = embedding_vector\n",
    "                num_known_words +=1\n",
    "                ps_counter +=1\n",
    "                continue # if embedding found - process next word\n",
    "                \n",
    "            word_c = lc.stem(word)\n",
    "            embedding_vector = embeddings_dict.get(word_c)\n",
    "            if embedding_vector is not None:\n",
    "                embedding_matrix[i] = embedding_vector\n",
    "                num_known_words +=1\n",
    "                lc_counter +=1\n",
    "                continue # if embedding found - process next word\n",
    "                \n",
    "            word_c = sb.stem(word)\n",
    "            embedding_vector = embeddings_dict.get(word_c)\n",
    "            if embedding_vector is not None:\n",
    "                embedding_matrix[i] = embedding_vector\n",
    "                num_known_words +=1\n",
    "                sb_counter +=1\n",
    "                continue # if embedding found - process next word\n",
    "                \n",
    "            word_c = lemmatize(lemmatizer,pos_tag([word])[0][0],wntag(pos_tag([word])[0][1]))\n",
    "            embedding_vector = embeddings_dict.get(word_c)\n",
    "            if embedding_vector is not None:\n",
    "                embedding_matrix[i] = embedding_vector\n",
    "                num_known_words +=1\n",
    "                lemma_counter +=1\n",
    "                continue # if embedding found - process next word\n",
    "                \n",
    "            else:\n",
    "                unknown_words_list.append(word)\n",
    "                embedding_matrix[i] = np.random.uniform(-0.25,0.25,300)\n",
    "                \n",
    "        if embeddings_name == 'googlenews' and i <= max_words:\n",
    "            \n",
    "            try:\n",
    "                word_c = word\n",
    "                embedding_vector = embeddings_dict[word_c]  \n",
    "                if embedding_vector is not None:\n",
    "                    embedding_matrix[i] = embedding_vector\n",
    "                    num_known_words +=1\n",
    "                    continue # if embedding found - process next word\n",
    "\n",
    "                word_c = word.lower()\n",
    "                embedding_vector = embeddings_dict[word_c]  \n",
    "                if embedding_vector is not None:\n",
    "                    embedding_matrix[i] = embedding_vector\n",
    "                    num_known_words +=1\n",
    "                    continue # if embedding found - process next word\n",
    "                \n",
    "                word_c = word.capitalize()\n",
    "                embedding_vector = embeddings_dict[word_c]\n",
    "                if embedding_vector is not None:\n",
    "                    embedding_matrix[i] = embedding_vector\n",
    "                    num_known_words +=1 \n",
    "                    continue # if embedding found - process next word\n",
    "                \n",
    "                word_c = word.upper()\n",
    "                embedding_vector = embeddings_dict[word_c]   \n",
    "                if embedding_vector is not None:\n",
    "                    embedding_matrix[i] = embedding_vector\n",
    "                    num_known_words +=1\n",
    "                    continue # if embedding found - process next word\n",
    "                    \n",
    "                word_c = ps.stem(word)\n",
    "                embedding_vector = embeddings_dict[word_c]  \n",
    "                if embedding_vector is not None:\n",
    "                    embedding_matrix[i] = embedding_vector\n",
    "                    num_known_words +=1\n",
    "                    ps_counter +=1\n",
    "                    continue # if embedding found - process next word\n",
    "                    \n",
    "                word_c = lc.stem(word)\n",
    "                embedding_vector = embeddings_dict[word_c] \n",
    "                if embedding_vector is not None:\n",
    "                    embedding_matrix[i] = embedding_vector\n",
    "                    num_known_words +=1\n",
    "                    lc_counter +=1\n",
    "                    continue # if embedding found - process next word\n",
    "                    \n",
    "                word_c = sb.stem(word)\n",
    "                embedding_vector = embeddings_dict[word_c] \n",
    "                if embedding_vector is not None:\n",
    "                    embedding_matrix[i] = embedding_vector\n",
    "                    num_known_words +=1\n",
    "                    sb_counter +=1\n",
    "                    continue # if embedding found - process next word\n",
    "                    \n",
    "                word_c = lemmatize(lemmatizer,pos_tag([word])[0][0],wntag(pos_tag([word])[0][1]))\n",
    "                embedding_vector = embeddings_dict[word_c] \n",
    "                if embedding_vector is not None:\n",
    "                    embedding_matrix[i] = embedding_vector\n",
    "                    num_known_words +=1\n",
    "                    lemma_counter +=1\n",
    "                    continue # if embedding found - process next word\n",
    "                    \n",
    "            except:\n",
    "                unknown_words_list.append(word)\n",
    "                embedding_matrix[i] = np.random.uniform(-0.25,0.25,300)\n",
    "                \n",
    "    #try: \n",
    "   #     words_in_embedding[embeddings_name] = list(embeddings_dict.keys())\n",
    "    #except:\n",
    "    #    try:\n",
    "     #       words_in_embedding[embeddings_name] = list(embeddings_dict.wv.vocab)\n",
    "      #  except:\n",
    "      #      print(\"Error during generation of key list {}\".format(embeddings_name))\n",
    "      #      print(sys.exc_info()[0])\n",
    "    \n",
    "   \n",
    "    print('  Embeddings_matrix created')\n",
    "    print('  Shape embedding_matrix: {}'.format(embedding_matrix.shape))\n",
    "    print('  Found Embeddings for {:.2f}% of all words'\n",
    "          .format((num_known_words / max_words)*100))\n",
    "    print(\"  num_known_words :\", num_known_words)\n",
    "    print(\"  num words in word_index: \", max_words)\n",
    "    print('  Unknown Words: {:.2f}%'.\n",
    "          format(((len(unknown_words_list)) / max_words)*100))\n",
    "    print(\"  Words found by PorterStemmer: {}\".format(ps_counter))\n",
    "    print(\"  Words found by LancasterStemmer: {}\".format(lc_counter))\n",
    "    print(\"  Words found by SnowballStemmer: {}\".format(sb_counter))\n",
    "    print(\"  Words found by Lemmatisation: {}\".format(lemma_counter))\n",
    "          \n",
    "    # Top 50 unknown words\n",
    "    print(\"  Top 50 unknown words:\\n {}\\n\".format(unknown_words_list[:50]))\n",
    "    \n",
    "    del num_known_words, unknown_words_list,ps,lc,sb, ps_counter, lc_counter, sb_counter\n",
    "    del lemma_counter; gc.collect()\n",
    "    \n",
    "    return embedding_matrix"
   ]
  },
  {
   "cell_type": "code",
   "execution_count": 11,
   "metadata": {},
   "outputs": [],
   "source": [
    "# Function to load + analyze Embeddings\n",
    "def load_and_analyse_Embeddings(embeddings_name, embeddings_path, max_words):\n",
    "    \n",
    "    if embeddings_name in ['glove', 'paragram', 'fasttext']:  \n",
    "        embeddings_dict = {} # create empty embedding dictionary\n",
    "        embedding_file = open(embeddings_path, encoding =\"utf8\", errors = 'ignore') # load embedding from path\n",
    "\n",
    "        # Fill embedding dict with word: vector(coefs) pairs\n",
    "        for line in embedding_file:\n",
    "            line_values = line.split(' ') # read in values of respective line (= vector)\n",
    "            word = line_values[0] #  # first value in line represents the word\n",
    "            coefs = np.asarray(line_values[1:], dtype='float32') # all values represent vector\n",
    "            embeddings_dict[word] = coefs # add key(word), value(vector) pairs to dict\n",
    "\n",
    "        embedding_file.close() \n",
    "        \n",
    "        os.system('echo '+ embeddings_name + 'loaded')\n",
    "        print('  ',embeddings_name, 'loaded')\n",
    "        print('  {} word vectors within {} dict'.format(len(embeddings_dict),embeddings_name))\n",
    "        \n",
    "        # Use pre-trained embedding to create final embeddings matrix\n",
    "        embedding_matrix = create_model_embedding_matrix(embeddings_name,word_index,max_words, embeddings_dict)\n",
    "        del embeddings_dict, line_values,word,coefs\n",
    "                \n",
    "    if embeddings_name == 'googlenews':\n",
    "        embeddings_file = KeyedVectors.load_word2vec_format(embeddings_path, binary=True)\n",
    "        \n",
    "        os.system('echo '+ embeddings_name + 'loaded')\n",
    "        print('  ',embeddings_name, 'loaded')\n",
    "        \n",
    "        # Use pre-trained embedding to create final embeddings matrix\n",
    "        embedding_matrix = create_model_embedding_matrix(embeddings_name,word_index,max_words, embeddings_file)\n",
    "        del embeddings_file\n",
    "        \n",
    "    # MEMORY MANAGEMENT!\n",
    "    del embeddings_name, embeddings_path\n",
    "    gc.collect()\n",
    "    \n",
    "    return embedding_matrix"
   ]
  },
  {
   "cell_type": "code",
   "execution_count": 12,
   "metadata": {},
   "outputs": [],
   "source": [
    "def concatenate_embeddings(conc_embedding, embedding_matrix):\n",
    "    \n",
    "    if conc_embedding is not None:\n",
    "        conc_embedding = np.concatenate((conc_embedding,embedding_matrix), axis = 1 )\n",
    "        print(\"Added embedding. New shape: {}\".format(conc_embedding.shape))\n",
    "    else:\n",
    "        conc_embedding = embedding_matrix\n",
    "        print(\"Added embedding. First shape: {}\".format(conc_embedding.shape))\n",
    "        \n",
    "    del embedding_matrix; gc.collect()\n",
    "    return conc_embedding"
   ]
  },
  {
   "cell_type": "markdown",
   "metadata": {},
   "source": [
    "### Data Preparation (3)  - Data Cleaning"
   ]
  },
  {
   "cell_type": "markdown",
   "metadata": {},
   "source": [
    "#### Definition mapping and functions"
   ]
  },
  {
   "cell_type": "code",
   "execution_count": 13,
   "metadata": {},
   "outputs": [],
   "source": [
    "contraction_mapping = {\"ain't\": \"is not\", \"aren't\": \"are not\",\"can't\": \"cannot\", \"'cause\": \"because\", \n",
    "                       \"could've\": \"could have\", \"couldn't\": \"could not\", \"didn't\": \"did not\",  \n",
    "                       \"doesn't\": \"does not\", \"don't\": \"do not\", \"hadn't\": \"had not\", \"hasn't\": \"has not\", \n",
    "                       \"haven't\": \"have not\", \"he'd\": \"he would\",\"he'll\": \"he will\", \"he's\": \"he is\", \n",
    "                       \"how'd\": \"how did\", \"how'd'y\": \"how do you\", \"how'll\": \"how will\", \"how's\": \"how is\",  \n",
    "                       \"I'd\": \"I would\", \"I'd've\": \"I would have\", \"I'll\": \"I will\", \"I'll've\": \"I will have\",\n",
    "                       \"I'm\": \"I am\",\"i'm\": \"i am\", \"I've\": \"I have\", \"i'd\": \"i would\", \"i'd've\": \"i would have\", \n",
    "                       \"i'll\": \"i will\",  \"i'll've\": \"i will have\",\"i'm\": \"i am\", \"i've\": \"i have\", \n",
    "                       \"isn't\": \"is not\", \"it'd\": \"it would\", \"it'd've\": \"it would have\", \"it'll\": \"it will\", \n",
    "                       \"it'll've\": \"it will have\",\"it's\": \"it is\", \"let's\": \"let us\", \"ma'am\": \"madam\", \n",
    "                       \"mayn't\": \"may not\", \"might've\": \"might have\",\"mightn't\": \"might not\",\n",
    "                       \"mightn't've\": \"might not have\", \"must've\": \"must have\", \"mustn't\": \"must not\", \n",
    "                       \"mustn't've\": \"must not have\", \"needn't\": \"need not\", \"needn't've\": \"need not have\",\n",
    "                       \"o'clock\": \"of the clock\", \"oughtn't\": \"ought not\", \"oughtn't've\": \"ought not have\", \n",
    "                       \"shan't\": \"shall not\", \"sha'n't\": \"shall not\", \"shan't've\": \"shall not have\", \n",
    "                       \"she'd\": \"she would\", \"she'd've\": \"she would have\", \"she'll\": \"she will\", \n",
    "                       \"she'll've\": \"she will have\", \"she's\": \"she is\", \"should've\": \"should have\", \n",
    "                       \"shouldn't\": \"should not\", \"shouldn't've\": \"should not have\", \"so've\": \"so have\",\n",
    "                       \"so's\": \"so as\", \"this's\": \"this is\",\"that'd\": \"that would\", \n",
    "                       \"that'd've\": \"that would have\", \"that's\": \"that is\", \"there'd\": \"there would\", \n",
    "                       \"there'd've\": \"there would have\", \"there's\": \"there is\", \"here's\": \"here is\",\n",
    "                       \"they'd\": \"they would\", \"they'd've\": \"they would have\", \"they'll\": \"they will\", \n",
    "                       \"they'll've\": \"they will have\", \"they're\": \"they are\", \"they've\": \"they have\", \n",
    "                       \"to've\": \"to have\", \"wasn't\": \"was not\", \"we'd\": \"we would\", \"we'd've\": \"we would have\", \n",
    "                       \"we'll\": \"we will\", \"we'll've\": \"we will have\", \"we're\": \"we are\", \"we've\": \"we have\", \n",
    "                       \"weren't\": \"were not\",\"what`s\": \"what is\", \"what'll\": \"what will\", \"what'll've\": \"what will have\", \n",
    "                       \"what're\": \"what are\",  \"what's\": \"what is\", \"what've\": \"what have\", \"when's\": \"when is\", \n",
    "                       \"when've\": \"when have\", \"where'd\": \"where did\", \"where's\": \"where is\", \n",
    "                       \"where've\": \"where have\", \"who'll\": \"who will\", \"who'll've\": \"who will have\", \n",
    "                       \"who's\": \"who is\", \"who've\": \"who have\", \"why's\": \"why is\", \"why've\": \"why have\", \n",
    "                       \"will've\": \"will have\", \"won't\": \"will not\", \"won't've\": \"will not have\", \n",
    "                       \"would've\": \"would have\", \"wouldn't\": \"would not\", \"wouldn't've\": \"would not have\", \n",
    "                       \"y'all\": \"you all\", \"y'all'd\": \"you all would\",\"y'all'd've\": \"you all would have\",\n",
    "                       \"y'all're\": \"you all are\",\"y'all've\": \"you all have\",\"you'd\": \"you would\", \n",
    "                       \"you'd've\": \"you would have\", \"you'll\": \"you will\", \"you'll've\": \"you will have\", \n",
    "                       \"you're\": \"you are\", \"you've\": \"you have\"}\n",
    "\n",
    "# dict from https://www.kaggle.com/theoviel/improve-your-score-with-text-preprocessing-v2 \n",
    "correct_spell_dict = {'colour': 'color', 'centre': 'center', 'favourite': 'favorite',\n",
    "                    'travelling': 'traveling', 'counselling': 'counseling', 'theatre': 'theater',\n",
    "                    'cancelled': 'canceled', 'labour': 'labor', 'organisation': 'organization',\n",
    "                    'wwii': 'world war 2', 'citicise': 'criticize', 'youtu ': 'youtube ',\n",
    "                    'Qoura': 'Quora', 'sallary': 'salary', 'Whta': 'What',\n",
    "                    'narcisist': 'narcissist', 'howdo': 'how do', 'whatare': 'what are',\n",
    "                    'howcan': 'how can', 'howmuch': 'how much', 'howmany': 'how many',\n",
    "                    'whydo': 'why do', 'doI': 'do I', 'theBest': 'the best',\n",
    "                    'howdoes': 'how does', 'mastrubation': 'masturbation',\n",
    "                    'mastrubate': 'masturbate', \"mastrubating\": 'masturbating',\n",
    "                    \"mcdonald's\":'mcdonalds',\n",
    "                    'pennis': 'penis', 'Etherium': 'Ethereum', 'narcissit': 'narcissist',\n",
    "                    'bigdata': 'big data', '2k17': '2017', '2k18': '2018', 'qouta': 'quota', \n",
    "                    'exboyfriend': 'ex boyfriend', 'airhostess': 'air hostess', \"whst\": 'what',\n",
    "                    'watsapp': 'whatsapp', 'demonitisation': 'demonetization',\n",
    "                    'demonitization': 'demonetization', 'demonetisation': 'demonetization',\n",
    "                    'pokémon': 'pokemon', 'quoras': 'quora', 'quorans': 'quora'}\n",
    "\n",
    "# Kernel \"fork-embeddings-keras-v04\"\n",
    "specials_mapping = {\"‘\": \"'\", \"₹\": \"e\", \"´\": \"'\", \"°\": \"\", \"€\": \"e\", \"™\": \"tm\", \"√\": \" sqrt \", \"×\": \"x\", \n",
    "                 \"²\": \"2\", \"—\": \"-\", \"–\": \"-\", \"’\": \"'\", \"_\": \"-\", \"`\": \"'\", '“': '\"', '”': '\"', \n",
    "                 '“': '\"', \"£\": \"e\", '∞': 'infinity', 'θ': 'theta', '÷': '/', 'α': 'alpha', '•': '.', \n",
    "                 'à': 'a', '−': '-', 'β': 'beta', '∅': '', '³': '3', 'π': 'pi', '\\u200b': ' ',\n",
    "                 '…': ' ... ', '\\ufeff': '', 'करना': '', 'है': '', 'ε−': ''}\n",
    "\n",
    "punct = \"/-?!.,#$%\\()*+-/:;<=>@[\\\\]^_`{|}~\" + '\"\"“”’' + '∞θ÷α•à−β∅³π‘₹´°£€\\×™√²—–&' + '\\''"
   ]
  },
  {
   "cell_type": "code",
   "execution_count": 14,
   "metadata": {},
   "outputs": [],
   "source": [
    "def preprocessing(x):\n",
    "    x = str(x)\n",
    "    x = re.sub('[’‘´`]', \"'\", x) \n",
    "    \n",
    "    # replaces one digit by #, two following digits by ## etc.\n",
    "    x = re.sub('[0-9]{5,}', '#####', str(x)) \n",
    "    x = re.sub('[0-9]{4}', '####', x)\n",
    "    x = re.sub('[0-9]{3}', '###', x)\n",
    "    x = re.sub('[0-9]{2}', '##', x)\n",
    "    x = re.sub('[0-9]\\'[0-9]', 'feet inches', x) # e.g. 5'5 → feet inches\n",
    "    \n",
    "    for word in x.split():\n",
    "        if word.lower() in contraction_mapping.keys():\n",
    "            x = x.replace(word, contraction_mapping[word.lower()])\n",
    "        if word in correct_spell_dict.keys():\n",
    "            x = x.replace(word, correct_spell_dict[word])\n",
    "        if word in specials_mapping.keys():\n",
    "            x = x.replace(word, specials_mapping[word])\n",
    "        if word[0] in punct and len(word) != 1: # remove punctuation directly in front of word\n",
    "            x = x.replace(word[0], '') \n",
    "        \n",
    "    x = ' '.join(word_tokenize(x)) # separates puncutation from words\n",
    "               \n",
    "    return x"
   ]
  },
  {
   "cell_type": "markdown",
   "metadata": {},
   "source": [
    "#### Apply preprocessing functions"
   ]
  },
  {
   "cell_type": "code",
   "execution_count": 15,
   "metadata": {},
   "outputs": [
    {
     "data": {
      "application/vnd.jupyter.widget-view+json": {
       "model_id": "35bfcc5d37054b7eaa11712332ce397e",
       "version_major": 2,
       "version_minor": 0
      },
      "text/plain": [
       "HBox(children=(IntProgress(value=0, max=1306122), HTML(value='')))"
      ]
     },
     "metadata": {},
     "output_type": "display_data"
    },
    {
     "name": "stdout",
     "output_type": "stream",
     "text": [
      "\n",
      " Number of words in word_index:  189036\n"
     ]
    },
    {
     "data": {
      "text/plain": [
       "0"
      ]
     },
     "execution_count": 15,
     "metadata": {},
     "output_type": "execute_result"
    }
   ],
   "source": [
    "os.system('echo Applying preprocessing functions..')\n",
    "df[\"question_text\"] = df[\"question_text\"].fillna(\"_nan_\").progress_apply(lambda x: preprocessing(x))\n",
    "os.system('echo prepocessing done')\n",
    "\n",
    "X = df.loc[:, 'question_text'].values\n",
    "y = np.asarray(df.loc[:, 'target'].values)\n",
    "\n",
    "padded_seq, word_index = my_tokenizer(X) # translate text to numerical values\n",
    "max_words = min(max_words, len(word_index)) # e.g.10k words or all words\n",
    "      # index +1 because fill process of matrix starts at 1\n",
    "print(\" Number of words in word_index: \", len(word_index))\n",
    "os.system('echo Tokenization completed')"
   ]
  },
  {
   "cell_type": "markdown",
   "metadata": {},
   "source": [
    "#### Iteration loop to compare different embeddings (3)"
   ]
  },
  {
   "cell_type": "code",
   "execution_count": 16,
   "metadata": {},
   "outputs": [
    {
     "name": "stdout",
     "output_type": "stream",
     "text": [
      "Running procedure on glove:\n",
      "   glove loaded\n",
      "  2196016 word vectors within glove dict\n",
      "  Embeddings_matrix created\n",
      "  Shape embedding_matrix: (189037, 300)\n",
      "  Found Embeddings for 77.41% of all words\n",
      "  num_known_words : 146341\n",
      "  num words in word_index:  189036\n",
      "  Unknown Words: 22.59%\n",
      "  Words found by PorterStemmer: 3504\n",
      "  Words found by LancasterStemmer: 4721\n",
      "  Words found by SnowballStemmer: 87\n",
      "  Words found by Lemmatisation: 81\n",
      "  Top 50 unknown words:\n",
      " ['brexit', 'cryptocurrencies', 'redmi', 'coinbase', 'oneplus', 'upwork', 'machedo', 'gdpr', 'adityanath', 'boruto', 'bnbr', 'alshamsi', 'dceu', 'litecoin', 'unacademy', 'iiest', \"qur'an\", 'zerodha', 'tensorflow', 'doklam', 'kavalireddi', 'lnmiit', 'muoet', 'etc…', 'nicmar', 'vajiram', '°c', 'zebpay', 'srmjee', 'elitmus', 'altcoins', 'altcoin', 'hackerrank', 'awdhesh', 'ryzen', 'baahubali', 'koinex', 'demonetisation', 'mhcet', 'byju', 'srmjeee', 'sgsits', 'ftre', 'skripal', 'nanodegree', 'gurugram', 'hotstar', 'mhtcet', 'x²', 'bmsce']\n",
      "\n",
      "Added embedding. First shape: (189037, 300)\n",
      "Running procedure on paragram:\n",
      "   paragram loaded\n",
      "  1703755 word vectors within paragram dict\n",
      "  Embeddings_matrix created\n",
      "  Shape embedding_matrix: (189037, 300)\n",
      "  Found Embeddings for 78.83% of all words\n",
      "  num_known_words : 149009\n",
      "  num words in word_index:  189036\n",
      "  Unknown Words: 21.17%\n",
      "  Words found by PorterStemmer: 4308\n",
      "  Words found by LancasterStemmer: 5359\n",
      "  Words found by SnowballStemmer: 90\n",
      "  Words found by Lemmatisation: 79\n",
      "  Top 50 unknown words:\n",
      " ['brexit', 'cryptocurrencies', 'redmi', 'coinbase', 'oneplus', 'upwork', 'machedo', 'gdpr', 'adityanath', 'boruto', 'bnbr', 'alshamsi', 'dceu', 'litecoin', 'unacademy', 'iiest', \"qur'an\", 'zerodha', 'tensorflow', 'doklam', 'kavalireddi', 'lnmiit', 'muoet', 'etc…', 'nicmar', 'vajiram', '°c', 'zebpay', 'srmjee', 'elitmus', 'altcoins', 'altcoin', 'hackerrank', 'awdhesh', 'baahubali', 'koinex', 'demonetisation', 'mhcet', 'byju', 'srmjeee', 'sgsits', 'ftre', 'skripal', 'nanodegree', 'gurugram', 'hotstar', 'mhtcet', 'x²', 'bmsce', 'what\\u200b']\n",
      "\n",
      "Added embedding. New shape: (189037, 600)\n",
      "Running procedure on fasttext:\n",
      "   fasttext loaded\n",
      "  999995 word vectors within fasttext dict\n",
      "  Embeddings_matrix created\n",
      "  Shape embedding_matrix: (189037, 300)\n",
      "  Found Embeddings for 71.67% of all words\n",
      "  num_known_words : 135479\n",
      "  num words in word_index:  189036\n",
      "  Unknown Words: 28.33%\n",
      "  Words found by PorterStemmer: 3433\n",
      "  Words found by LancasterStemmer: 5013\n",
      "  Words found by SnowballStemmer: 79\n",
      "  Words found by Lemmatisation: 146\n",
      "  Top 50 unknown words:\n",
      " [\"''\", \"n't\", 'quorans', 'comedk', 'kvpy', 'quoran', 'wbjee', 'fortnite', 'marksheet', 'oneplus', 'uceed', 'bhakts', 'machedo', 'bnbr', 'chsl', 'naoh', 'josaa', 'alshamsi', 'devops', 'unacademy', 'sjws', 'aliexpress', \"qur'an\", 'zerodha', 'nmat', 'mongodb', 'tensorflow', 'intps', 'hairfall', 'jiit', 'doklam', 'kavalireddi', 'lnmiit', 'muoet', 'angularjs', 'etc…', 'woocommerce', \"d'angelo\", 'metoo', 'nicmar', 'vajiram', '°c', 'adhaar', 'modiji', 'zebpay', 'srmjee', 'elitmus', 'infjs', 'pubg', 'hackerrank']\n",
      "\n",
      "Added embedding. New shape: (189037, 900)\n"
     ]
    },
    {
     "name": "stderr",
     "output_type": "stream",
     "text": [
      "/opt/conda/lib/python3.6/site-packages/smart_open/smart_open_lib.py:398: UserWarning: This function is deprecated, use smart_open.open instead. See the migration notes for details: https://github.com/RaRe-Technologies/smart_open/blob/master/README.rst#migrating-to-the-new-open-function\n",
      "  'See the migration notes for details: %s' % _MIGRATION_NOTES_URL\n"
     ]
    },
    {
     "name": "stdout",
     "output_type": "stream",
     "text": [
      "Running procedure on googlenews:\n",
      "   googlenews loaded\n",
      "  Embeddings_matrix created\n",
      "  Shape embedding_matrix: (189037, 300)\n",
      "  Found Embeddings for 40.62% of all words\n",
      "  num_known_words : 76784\n",
      "  num words in word_index:  189036\n",
      "  Unknown Words: 59.38%\n",
      "  Words found by PorterStemmer: 0\n",
      "  Words found by LancasterStemmer: 0\n",
      "  Words found by SnowballStemmer: 0\n",
      "  Words found by Lemmatisation: 0\n",
      "  Top 50 unknown words:\n",
      " ['a', 'to', 'of', 'and', \"'s\", 'quora', '”', \"'\", 'instagram', 'upsc', 'bitcoin', 'mbbs', 'whatsapp', \"''\", 'ece', 'aiims', 'iim', 'sbi', 'cgl', 'cryptocurrency', 'quorans', 'btech', 'snapchat', 'obc', 'jio', 'manipal', 'bba', 'icse', 'tcs', 'srm', 'wwii', 'blockchain', 'narendra', 'elon', 'iiit', 'bitsat', 'cgpa', 'ielts', 'brexit', 'mtech', 'iits', 'cryptocurrencies', 'ncert', 'behaviour', 'programme', 'clat', 'isro', 'upvotes', 'bca', 'defence']\n",
      "\n",
      "Added embedding. New shape: (189037, 1200)\n"
     ]
    },
    {
     "data": {
      "text/plain": [
       "0"
      ]
     },
     "execution_count": 16,
     "metadata": {},
     "output_type": "execute_result"
    }
   ],
   "source": [
    "conc_embedding = None\n",
    "\n",
    "for embedding in embeddings:\n",
    "    emb_name = embedding['name']\n",
    "    emb_path = embedding['embeddings_path']\n",
    "    print(\"Running procedure on {}:\".format(emb_name))\n",
    "    \n",
    "    # loading embedding\n",
    "    embedding_matrix = load_and_analyse_Embeddings(emb_name, emb_path, max_words) \n",
    "\n",
    "    # concatenation embeddings \n",
    "    conc_embedding = concatenate_embeddings(conc_embedding, embedding_matrix)\n",
    "    del embedding_matrix; gc.collect()\n",
    "\n",
    "os.system(\"echo embedding created\")"
   ]
  },
  {
   "cell_type": "markdown",
   "metadata": {},
   "source": [
    "## Modeling\n",
    "\n",
    "* starting with a simple neural network\n",
    "* model is encapsulated into a function for clarity reasons and to make model easier for later submission \n",
    "* literature recommends not to use pre-trained embeddings in case of the availability of a large dataset. 1.3 million questions are available in the train-set, which should be worth a try. The Embedding Layer tries to derive optimal vectors for the input words. After training the weights of the Embedding Layer represent these vectors.\n",
    "* state-of-the-art loss function for binary classification tasks: **binary_crossentropy**\n",
    "* **optimizer rmsprop** is in most-cases a good choice according to current research literature\n",
    "* using the default learning rate of rmsprop is recommended and applied here"
   ]
  },
  {
   "cell_type": "code",
   "execution_count": 17,
   "metadata": {},
   "outputs": [
    {
     "name": "stdout",
     "output_type": "stream",
     "text": [
      "_________________________________________________________________\n",
      "Layer (type)                 Output Shape              Param #   \n",
      "=================================================================\n",
      "input_1 (InputLayer)         (None, 130)               0         \n",
      "_________________________________________________________________\n",
      "embedding_1 (Embedding)      (None, 130, 1200)         226844400 \n",
      "_________________________________________________________________\n",
      "spatial_dropout1d_1 (Spatial (None, 130, 1200)         0         \n",
      "_________________________________________________________________\n",
      "bidirectional_1 (Bidirection (None, 130, 64)           315904    \n",
      "_________________________________________________________________\n",
      "conv1d_1 (Conv1D)            (None, 130, 32)           2080      \n",
      "_________________________________________________________________\n",
      "global_max_pooling1d_1 (Glob (None, 32)                0         \n",
      "_________________________________________________________________\n",
      "dense_1 (Dense)              (None, 1)                 33        \n",
      "=================================================================\n",
      "Total params: 227,162,417\n",
      "Trainable params: 227,162,417\n",
      "Non-trainable params: 0\n",
      "_________________________________________________________________\n"
     ]
    }
   ],
   "source": [
    "def get_keras_model():\n",
    "    \n",
    "    input_seq = Input(shape=(maxlen, )) # 130 dimensional vector per sample (padding included)\n",
    "\n",
    "    x = Embedding(input_dim = max_words+1, # 10k different words/integers\n",
    "                    output_dim = conc_embedding.shape[1], \n",
    "                    weights = [conc_embedding],\n",
    "                    trainable = True)(input_seq)\n",
    "    \n",
    "    x = SpatialDropout1D(0.3)(x) # Dropout accros random channels\n",
    "    \n",
    "    x = Bidirectional(CuDNNLSTM(32, return_sequences=True))(x) # Vectors of encoding in a SINGLE vector\n",
    "    x = Conv1D(filters = 32, kernel_size = 1, activation='relu')(x)\n",
    "    x = GlobalMaxPooling1D()(x)\n",
    "    predictions = Dense(1, activation='sigmoid')(x) # final -  binary classifier\n",
    "    \n",
    "    model = Model(inputs = input_seq, outputs = predictions)\n",
    "    \n",
    "    model.compile(optimizer='rmsprop',\n",
    "                  loss='binary_crossentropy',\n",
    "                  metrics=['accuracy'])\n",
    "        \n",
    "    return model\n",
    "\n",
    "get_keras_model().summary()"
   ]
  },
  {
   "cell_type": "markdown",
   "metadata": {},
   "source": [
    "### Training + Evaluation\n",
    "\n",
    "* Input for model are batches of sequences\n",
    "        * Input shape: 2D tensor(matrix): (batch_size, sequence_length).\n",
    "* each sequence has a maximum length of maxlen (here: 100)\n",
    "* Embedding Layer translates Integers of each sequence into dense vectors\n",
    "  (comp. https://keras.io/layers/embeddings/)\n",
    "      * input_length: Length of input sequence\n",
    "* embedding_matrix translates integers into into 3D Tensores of shape:\n",
    "      * Output shape: (batch_size, sequence_length, output_dim)\n",
    "\n",
    "\n",
    "* accuracy metric is not suitable is cases target classes are quite unequal distributed\n",
    "* ROC-AUC is also not applicable for the same reason\n",
    "* Suitable Evaluation metrics: Precision, Recall and F1-Score as combination of both. Since these metric functions were removed in Keras 2.0, they are implemented within an own callback below. # class based on:\n",
    "https://medium.com/@thongonary/how-to-compute-f1-score-for-each-epoch-in-keras-a1acd17715a2"
   ]
  },
  {
   "cell_type": "code",
   "execution_count": 18,
   "metadata": {},
   "outputs": [],
   "source": [
    "class CustomMetric(Callback):\n",
    "\n",
    "    # Create Instance at the beginning of each epoch\n",
    "    def on_train_begin(self, logs={}):\n",
    "        self.best_val_f1s = [] # collects best f1 after each epoch with best threshold\n",
    "    \n",
    "    # Function called at the end of ery epoch\n",
    "    def on_epoch_end(self, epoch, logs={}):\n",
    "        t0 = time.time()\n",
    "        \n",
    "        val_predict = np.asarray(self.model.predict(self.validation_data[0])) \n",
    "        val_target = self.validation_data[1]\n",
    "        \n",
    "        # Find best threshold for prediction\n",
    "        best_f1 = 0               \n",
    "        for threshold in np.arange(0.2,0.401, 0.01):\n",
    "            val_f1 = f1_score(y_true = val_target, y_pred = val_predict > threshold)\n",
    "            if val_f1 > best_f1:\n",
    "                best_f1 = val_f1\n",
    "\n",
    "        self.best_val_f1s.append(best_f1)\n",
    "        \n",
    "        t1 = time.time()\n",
    "        if epoch % 2 == 0:\n",
    "            print(\"  -- epoch: {}\".format(epoch))  \n",
    "            print(\"Execution time on_epoch_end {}\".format(t1-t0))\n",
    "            os.system(\"echo  -- epoch: {}\".format(epoch))\n",
    "            os.system(\"echo Execution time on_epoch_end {}\".format(t1-t0))\n",
    "        return"
   ]
  },
  {
   "cell_type": "markdown",
   "metadata": {},
   "source": [
    "* StratifiedKFold: training is performed \"kfold\"- time, within each fold several epochs are run."
   ]
  },
  {
   "cell_type": "code",
   "execution_count": 19,
   "metadata": {},
   "outputs": [
    {
     "name": "stdout",
     "output_type": "stream",
     "text": [
      "\n",
      "Split: 0  \n",
      " \n"
     ]
    },
    {
     "name": "stderr",
     "output_type": "stream",
     "text": [
      "/opt/conda/lib/python3.6/site-packages/tensorflow/python/ops/gradients_impl.py:107: UserWarning: Converting sparse IndexedSlices to a dense Tensor with 226844400 elements. This may consume a large amount of memory.\n",
      "  num_elements)\n",
      "/opt/conda/lib/python3.6/site-packages/tensorflow/python/ops/gradients_impl.py:107: UserWarning: Converting sparse IndexedSlices to a dense Tensor with 226844400 elements. This may consume a large amount of memory.\n",
      "  num_elements)\n"
     ]
    },
    {
     "name": "stdout",
     "output_type": "stream",
     "text": [
      "  -- epoch: 0\n",
      "Execution time on_epoch_end 44.8223192691803\n",
      "  -- epoch: 2\n",
      "Execution time on_epoch_end 44.82541489601135\n",
      "  -- epoch: 4\n",
      "Execution time on_epoch_end 44.82134437561035\n",
      "  -- epoch: 6\n",
      "Execution time on_epoch_end 44.639121770858765\n",
      "  -- epoch: 8\n",
      "Execution time on_epoch_end 45.08280277252197\n",
      "Execution time Fold 0: 3250.9599697589874.\n",
      "\n",
      "Split: 1  \n",
      " \n"
     ]
    },
    {
     "name": "stderr",
     "output_type": "stream",
     "text": [
      "/opt/conda/lib/python3.6/site-packages/tensorflow/python/ops/gradients_impl.py:107: UserWarning: Converting sparse IndexedSlices to a dense Tensor with 226844400 elements. This may consume a large amount of memory.\n",
      "  num_elements)\n",
      "/opt/conda/lib/python3.6/site-packages/tensorflow/python/ops/gradients_impl.py:107: UserWarning: Converting sparse IndexedSlices to a dense Tensor with 226844400 elements. This may consume a large amount of memory.\n",
      "  num_elements)\n"
     ]
    },
    {
     "name": "stdout",
     "output_type": "stream",
     "text": [
      "  -- epoch: 0\n",
      "Execution time on_epoch_end 45.211570501327515\n",
      "  -- epoch: 2\n",
      "Execution time on_epoch_end 44.79364776611328\n",
      "  -- epoch: 4\n",
      "Execution time on_epoch_end 45.023911237716675\n",
      "  -- epoch: 6\n",
      "Execution time on_epoch_end 44.6070351600647\n",
      "  -- epoch: 8\n",
      "Execution time on_epoch_end 44.68765878677368\n",
      "Execution time Fold 1: 3258.114118337631.\n",
      "\n",
      "Split: 2  \n",
      " \n"
     ]
    },
    {
     "name": "stderr",
     "output_type": "stream",
     "text": [
      "/opt/conda/lib/python3.6/site-packages/tensorflow/python/ops/gradients_impl.py:107: UserWarning: Converting sparse IndexedSlices to a dense Tensor with 226844400 elements. This may consume a large amount of memory.\n",
      "  num_elements)\n",
      "/opt/conda/lib/python3.6/site-packages/tensorflow/python/ops/gradients_impl.py:107: UserWarning: Converting sparse IndexedSlices to a dense Tensor with 226844400 elements. This may consume a large amount of memory.\n",
      "  num_elements)\n"
     ]
    },
    {
     "name": "stdout",
     "output_type": "stream",
     "text": [
      "  -- epoch: 0\n",
      "Execution time on_epoch_end 45.604907274246216\n",
      "  -- epoch: 2\n",
      "Execution time on_epoch_end 44.90912914276123\n",
      "  -- epoch: 4\n",
      "Execution time on_epoch_end 44.83603000640869\n",
      "  -- epoch: 6\n",
      "Execution time on_epoch_end 44.707016706466675\n",
      "  -- epoch: 8\n",
      "Execution time on_epoch_end 44.86224436759949\n",
      "Execution time Fold 2: 3261.624674797058.\n"
     ]
    }
   ],
   "source": [
    "my_y_val_preds = {} # dictionary to collect model predictions at the end of each split\n",
    "my_y_val_targets = {} # dictionary of true classes at the end of each split\n",
    "my_history_dict = {} # to collect accuracy of each epoch\n",
    "my_metrics_dict = {} # to collect best f1 of each epoch\n",
    "best_f1_dict = {} # final evaluation at the end of training (after last epoch)\n",
    "best_threshold_dict = {} # final evaluation at the end of training (after last epoch)\n",
    "\n",
    "# fold_list contains train and validation indices (folds) for each split\n",
    "# fold_list contains train and validation indices (folds) for each split\n",
    "folds = StratifiedShuffleSplit(n_splits=kfolds, test_size=0.2, random_state=123).split(padded_seq, y)\n",
    "\n",
    "tf.logging.set_verbosity(tf.logging.ERROR) # dont show warnings (e.g. tensorflow version problems)\n",
    "for i, (train_indices, val_indices) in enumerate(folds):\n",
    "    start_fold = time.time()\n",
    "    \n",
    "    print('\\nSplit: {}  \\n '.format(i))\n",
    "    os.system(\"echo running split {}\".format(i))\n",
    "    X_train, X_val = padded_seq[train_indices], padded_seq[val_indices] \n",
    "    y_train, y_val = y[train_indices], y[val_indices] \n",
    "\n",
    "    model = get_keras_model() # create new model for current split\n",
    "    my_metrics = CustomMetric() # create new metrics instance\n",
    " \n",
    "    # Training process is logged in history object for visualisation purposes\n",
    "    # within each split setting the model is trained several epochs (complete fit)\n",
    "    history = model.fit(X_train, y_train,\n",
    "                        epochs = model_epochs, \n",
    "                        batch_size= 512,\n",
    "                        verbose = 0, \n",
    "                        validation_data=(X_val, y_val),\n",
    "                        callbacks = [my_metrics])\n",
    "    \n",
    "    ############## at the end of each training process: ##################\n",
    "    \n",
    "    my_history_dict[i] = history\n",
    "    my_metrics_dict[i] = my_metrics\n",
    "        \n",
    "    y_val_pred = model.predict(X_val) # prediction on \n",
    "    my_y_val_preds[i] = y_val_pred \n",
    "    my_y_val_targets[i] = y_val\n",
    "    \n",
    "    # Find best threshold for prediction\n",
    "    best_f1 = 0\n",
    "    best_threshold = 0\n",
    "    for threshold in np.arange(0.1,0.5, 0.01):\n",
    "        # calucate f1 score for allowed thresholds\n",
    "        f1_score_threshold = f1_score(y_true = y_val ,\n",
    "                                              y_pred = y_val_pred > threshold) # 0 or 1\n",
    "        if f1_score_threshold > best_f1:\n",
    "            best_f1 = f1_score_threshold\n",
    "            best_threshold = threshold\n",
    "            best_f1_dict[i] = best_f1\n",
    "            best_threshold_dict[i] = best_threshold\n",
    "            \n",
    "    stop_fold = time.time()\n",
    "    print(\"Execution time Fold {}: {}.\".format(i, (stop_fold - start_fold)))\n",
    "    os.system(\"echo Execution time Fold {}: {}.\".format(i, (stop_fold - start_fold)))"
   ]
  },
  {
   "cell_type": "code",
   "execution_count": 20,
   "metadata": {},
   "outputs": [
    {
     "name": "stdout",
     "output_type": "stream",
     "text": [
      "Split: 0 : Best F1 score: 0.6518 reached with a threshold of 0.1900\n",
      "Split: 1 : Best F1 score: 0.6498 reached with a threshold of 0.2500\n",
      "Split: 2 : Best F1 score: 0.6507 reached with a threshold of 0.1900\n",
      "\n",
      "Threshold for prediction: 0.2100\n",
      "Average F1-Score: 0.651\n"
     ]
    }
   ],
   "source": [
    "thresh_avg = 0\n",
    "thresh_sum = 0\n",
    "f1_avg = 0\n",
    "f1_sum = 0\n",
    "\n",
    "for key, value in best_f1_dict.items():\n",
    "    print(\"Split: {} : Best F1 score: {:6.4f} reached with a threshold of {:6.4f}\"\n",
    "          .format(key, best_f1_dict[key], best_threshold_dict[key]))\n",
    "    thresh_sum += best_threshold_dict[key] \n",
    "    thresh_avg = thresh_sum/kfolds\n",
    "    f1_sum += best_f1_dict[key] \n",
    "    f1_avg = f1_sum/kfolds\n",
    "   \n",
    "print(\"\")\n",
    "print(\"Threshold for prediction: {:6.4f}\".format(thresh_avg))\n",
    "print(\"Average F1-Score: {:5.3f}\".format(f1_avg))"
   ]
  },
  {
   "cell_type": "markdown",
   "metadata": {},
   "source": [
    "## Evaluation\n",
    "\n",
    "* For the evaluation of unbalanced datasets the accuracy as e.g. implemented in SKLEARN's function cross_val_score() is NOT recommended\n",
    "* A high F1 score is the target in this competition and combines precision and recall\n",
    "* **Plotting information captured during training by History Object and Callback Object**"
   ]
  },
  {
   "cell_type": "code",
   "execution_count": 21,
   "metadata": {},
   "outputs": [
    {
     "name": "stdout",
     "output_type": "stream",
     "text": [
      "Split: 0 \n"
     ]
    },
    {
     "data": {
      "image/png": "[encoded data removed]",
      "text/plain": [
       "<Figure size 720x216 with 2 Axes>"
      ]
     },
     "metadata": {
      "needs_background": "light"
     },
     "output_type": "display_data"
    },
    {
     "name": "stdout",
     "output_type": "stream",
     "text": [
      "Split: 1 \n"
     ]
    },
    {
     "data": {
      "image/png": "[encoded data removed]",
      "text/plain": [
       "<Figure size 720x216 with 2 Axes>"
      ]
     },
     "metadata": {
      "needs_background": "light"
     },
     "output_type": "display_data"
    },
    {
     "name": "stdout",
     "output_type": "stream",
     "text": [
      "Split: 2 \n"
     ]
    },
    {
     "data": {
      "image/png": "[encoded data removed]",
      "text/plain": [
       "<Figure size 720x216 with 2 Axes>"
      ]
     },
     "metadata": {
      "needs_background": "light"
     },
     "output_type": "display_data"
    }
   ],
   "source": [
    "for i in my_history_dict:\n",
    "    \n",
    "    print('Split: {} '.format(i))\n",
    "    loss = my_history_dict[i].history['loss']\n",
    "    val_loss = my_history_dict[i].history['val_loss']\n",
    "    epochs = np.arange(1, len(loss) +1, 1) # x-axis\n",
    "\n",
    "    # Plotting:\n",
    "    f = plt.figure(figsize=(10,3))\n",
    "    # plots loss\n",
    "    f.add_subplot(1, 2, 1) # number of rows, number of columns,subplot you're currently on.\n",
    "    plt.xticks(epochs)\n",
    "    plt.plot(epochs, loss, 'bo', label='Loss Training', color = 'black')\n",
    "    plt.plot(epochs, val_loss, 'b', label='Loss Validation')\n",
    "    plt.title('Loss function Training / Validation')\n",
    "    plt.legend()\n",
    " \n",
    "    # plots f1 score\n",
    "    f.add_subplot(1, 2, 2)\n",
    "    best_val_f1s = my_metrics_dict[i].best_val_f1s\n",
    "   # plt.figure()\n",
    "    plt.xticks(epochs)\n",
    "    plt.plot(epochs, best_val_f1s, 'b', label='F1 Validation')\n",
    "    plt.title('F1 Validation')\n",
    "    plt.legend()\n",
    "    \n",
    "    #plt.subplots_adjust(wspace=0.30) # width reserved for blank space between subplots\n",
    "    f.tight_layout()\n",
    "    plt.show()"
   ]
  }
 ],
 "metadata": {
  "kernelspec": {
   "display_name": "Python 3",
   "language": "python",
   "name": "python3"
  },
  "language_info": {
   "codemirror_mode": {
    "name": "ipython",
    "version": 3
   },
   "file_extension": ".py",
   "mimetype": "text/x-python",
   "name": "python",
   "nbconvert_exporter": "python",
   "pygments_lexer": "ipython3",
   "version": "3.6.6"
  },
  "widgets": {
   "application/vnd.jupyter.widget-state+json": {
    "state": {
     "0d1bde479b8a43b98ca7d5659de96862": {
      "model_module": "@jupyter-widgets/base",
      "model_module_version": "1.1.0",
      "model_name": "LayoutModel",
      "state": {
       "_model_module": "@jupyter-widgets/base",
       "_model_module_version": "1.1.0",
       "_model_name": "LayoutModel",
       "_view_count": null,
       "_view_module": "@jupyter-widgets/base",
       "_view_module_version": "1.1.0",
       "_view_name": "LayoutView",
       "align_content": null,
       "align_items": null,
       "align_self": null,
       "border": null,
       "bottom": null,
       "display": null,
       "flex": null,
       "flex_flow": null,
       "grid_area": null,
       "grid_auto_columns": null,
       "grid_auto_flow": null,
       "grid_auto_rows": null,
       "grid_column": null,
       "grid_gap": null,
       "grid_row": null,
       "grid_template_areas": null,
       "grid_template_columns": null,
       "grid_template_rows": null,
       "height": null,
       "justify_content": null,
       "left": null,
       "margin": null,
       "max_height": null,
       "max_width": null,
       "min_height": null,
       "min_width": null,
       "order": null,
       "overflow": null,
       "overflow_x": null,
       "overflow_y": null,
       "padding": null,
       "right": null,
       "top": null,
       "visibility": null,
       "width": null
      }
     },
     "1c0771b063594d929dd0f4d71320db81": {
      "model_module": "@jupyter-widgets/base",
      "model_module_version": "1.1.0",
      "model_name": "LayoutModel",
      "state": {
       "_model_module": "@jupyter-widgets/base",
       "_model_module_version": "1.1.0",
       "_model_name": "LayoutModel",
       "_view_count": null,
       "_view_module": "@jupyter-widgets/base",
       "_view_module_version": "1.1.0",
       "_view_name": "LayoutView",
       "align_content": null,
       "align_items": null,
       "align_self": null,
       "border": null,
       "bottom": null,
       "display": null,
       "flex": null,
       "flex_flow": null,
       "grid_area": null,
       "grid_auto_columns": null,
       "grid_auto_flow": null,
       "grid_auto_rows": null,
       "grid_column": null,
       "grid_gap": null,
       "grid_row": null,
       "grid_template_areas": null,
       "grid_template_columns": null,
       "grid_template_rows": null,
       "height": null,
       "justify_content": null,
       "left": null,
       "margin": null,
       "max_height": null,
       "max_width": null,
       "min_height": null,
       "min_width": null,
       "order": null,
       "overflow": null,
       "overflow_x": null,
       "overflow_y": null,
       "padding": null,
       "right": null,
       "top": null,
       "visibility": null,
       "width": null
      }
     },
     "3417cf60dc084a83a22ecb64acbbc0fb": {
      "model_module": "@jupyter-widgets/base",
      "model_module_version": "1.1.0",
      "model_name": "LayoutModel",
      "state": {
       "_model_module": "@jupyter-widgets/base",
       "_model_module_version": "1.1.0",
       "_model_name": "LayoutModel",
       "_view_count": null,
       "_view_module": "@jupyter-widgets/base",
       "_view_module_version": "1.1.0",
       "_view_name": "LayoutView",
       "align_content": null,
       "align_items": null,
       "align_self": null,
       "border": null,
       "bottom": null,
       "display": null,
       "flex": null,
       "flex_flow": null,
       "grid_area": null,
       "grid_auto_columns": null,
       "grid_auto_flow": null,
       "grid_auto_rows": null,
       "grid_column": null,
       "grid_gap": null,
       "grid_row": null,
       "grid_template_areas": null,
       "grid_template_columns": null,
       "grid_template_rows": null,
       "height": null,
       "justify_content": null,
       "left": null,
       "margin": null,
       "max_height": null,
       "max_width": null,
       "min_height": null,
       "min_width": null,
       "order": null,
       "overflow": null,
       "overflow_x": null,
       "overflow_y": null,
       "padding": null,
       "right": null,
       "top": null,
       "visibility": null,
       "width": null
      }
     },
     "35bfcc5d37054b7eaa11712332ce397e": {
      "model_module": "@jupyter-widgets/controls",
      "model_module_version": "1.4.0",
      "model_name": "HBoxModel",
      "state": {
       "_dom_classes": [],
       "_model_module": "@jupyter-widgets/controls",
       "_model_module_version": "1.4.0",
       "_model_name": "HBoxModel",
       "_view_count": null,
       "_view_module": "@jupyter-widgets/controls",
       "_view_module_version": "1.4.0",
       "_view_name": "HBoxView",
       "box_style": "",
       "children": [
        "IPY_MODEL_8569980e0c5745a486fc713271d49937",
        "IPY_MODEL_4d1a51d8f29a4a9e9ae56a64574e3465"
       ],
       "layout": "IPY_MODEL_e195acb5a1e64e189048c12d1c7d207f"
      }
     },
     "3e888adaa4ce4629801930cb7899a2a4": {
      "model_module": "@jupyter-widgets/controls",
      "model_module_version": "1.4.0",
      "model_name": "HBoxModel",
      "state": {
       "_dom_classes": [],
       "_model_module": "@jupyter-widgets/controls",
       "_model_module_version": "1.4.0",
       "_model_name": "HBoxModel",
       "_view_count": null,
       "_view_module": "@jupyter-widgets/controls",
       "_view_module_version": "1.4.0",
       "_view_name": "HBoxView",
       "box_style": "",
       "children": [
        "IPY_MODEL_73e14cc8e1cf4524b67f7b60d0c0f22a",
        "IPY_MODEL_d10ffe0cc2dd474096e11f9a851ab818"
       ],
       "layout": "IPY_MODEL_ff0ce3ce73d9463c820659a07e72cc76"
      }
     },
     "4d1a51d8f29a4a9e9ae56a64574e3465": {
      "model_module": "@jupyter-widgets/controls",
      "model_module_version": "1.4.0",
      "model_name": "HTMLModel",
      "state": {
       "_dom_classes": [],
       "_model_module": "@jupyter-widgets/controls",
       "_model_module_version": "1.4.0",
       "_model_name": "HTMLModel",
       "_view_count": null,
       "_view_module": "@jupyter-widgets/controls",
       "_view_module_version": "1.4.0",
       "_view_name": "HTMLView",
       "description": "",
       "description_tooltip": null,
       "layout": "IPY_MODEL_e70eb5b9437a47db8ea9bbed46d7edc6",
       "placeholder": "​",
       "style": "IPY_MODEL_9d23c76304a248649a6c1828392988e1",
       "value": "100% 1306122/1306122 [03:56&lt;00:00, 5527.80it/s]"
      }
     },
     "6bfca90b822247d99ba6e3ba67476d5c": {
      "model_module": "@jupyter-widgets/controls",
      "model_module_version": "1.4.0",
      "model_name": "DescriptionStyleModel",
      "state": {
       "_model_module": "@jupyter-widgets/controls",
       "_model_module_version": "1.4.0",
       "_model_name": "DescriptionStyleModel",
       "_view_count": null,
       "_view_module": "@jupyter-widgets/base",
       "_view_module_version": "1.1.0",
       "_view_name": "StyleView",
       "description_width": ""
      }
     },
     "73e14cc8e1cf4524b67f7b60d0c0f22a": {
      "model_module": "@jupyter-widgets/controls",
      "model_module_version": "1.4.0",
      "model_name": "IntProgressModel",
      "state": {
       "_dom_classes": [],
       "_model_module": "@jupyter-widgets/controls",
       "_model_module_version": "1.4.0",
       "_model_name": "IntProgressModel",
       "_view_count": null,
       "_view_module": "@jupyter-widgets/controls",
       "_view_module_version": "1.4.0",
       "_view_name": "ProgressView",
       "bar_style": "success",
       "description": "",
       "description_tooltip": null,
       "layout": "IPY_MODEL_1c0771b063594d929dd0f4d71320db81",
       "max": 1,
       "min": 0,
       "orientation": "horizontal",
       "style": "IPY_MODEL_7bfbccf5ad1149f29e577a646b57c790",
       "value": 1
      }
     },
     "78eecdcdfb17450387c5d1b960a80eb5": {
      "model_module": "@jupyter-widgets/controls",
      "model_module_version": "1.4.0",
      "model_name": "ProgressStyleModel",
      "state": {
       "_model_module": "@jupyter-widgets/controls",
       "_model_module_version": "1.4.0",
       "_model_name": "ProgressStyleModel",
       "_view_count": null,
       "_view_module": "@jupyter-widgets/base",
       "_view_module_version": "1.1.0",
       "_view_name": "StyleView",
       "bar_color": null,
       "description_width": ""
      }
     },
     "7bfbccf5ad1149f29e577a646b57c790": {
      "model_module": "@jupyter-widgets/controls",
      "model_module_version": "1.4.0",
      "model_name": "ProgressStyleModel",
      "state": {
       "_model_module": "@jupyter-widgets/controls",
       "_model_module_version": "1.4.0",
       "_model_name": "ProgressStyleModel",
       "_view_count": null,
       "_view_module": "@jupyter-widgets/base",
       "_view_module_version": "1.1.0",
       "_view_name": "StyleView",
       "bar_color": null,
       "description_width": ""
      }
     },
     "8569980e0c5745a486fc713271d49937": {
      "model_module": "@jupyter-widgets/controls",
      "model_module_version": "1.4.0",
      "model_name": "IntProgressModel",
      "state": {
       "_dom_classes": [],
       "_model_module": "@jupyter-widgets/controls",
       "_model_module_version": "1.4.0",
       "_model_name": "IntProgressModel",
       "_view_count": null,
       "_view_module": "@jupyter-widgets/controls",
       "_view_module_version": "1.4.0",
       "_view_name": "ProgressView",
       "bar_style": "success",
       "description": "",
       "description_tooltip": null,
       "layout": "IPY_MODEL_3417cf60dc084a83a22ecb64acbbc0fb",
       "max": 1306122,
       "min": 0,
       "orientation": "horizontal",
       "style": "IPY_MODEL_78eecdcdfb17450387c5d1b960a80eb5",
       "value": 1306122
      }
     },
     "9d23c76304a248649a6c1828392988e1": {
      "model_module": "@jupyter-widgets/controls",
      "model_module_version": "1.4.0",
      "model_name": "DescriptionStyleModel",
      "state": {
       "_model_module": "@jupyter-widgets/controls",
       "_model_module_version": "1.4.0",
       "_model_name": "DescriptionStyleModel",
       "_view_count": null,
       "_view_module": "@jupyter-widgets/base",
       "_view_module_version": "1.1.0",
       "_view_name": "StyleView",
       "description_width": ""
      }
     },
     "d10ffe0cc2dd474096e11f9a851ab818": {
      "model_module": "@jupyter-widgets/controls",
      "model_module_version": "1.4.0",
      "model_name": "HTMLModel",
      "state": {
       "_dom_classes": [],
       "_model_module": "@jupyter-widgets/controls",
       "_model_module_version": "1.4.0",
       "_model_name": "HTMLModel",
       "_view_count": null,
       "_view_module": "@jupyter-widgets/controls",
       "_view_module_version": "1.4.0",
       "_view_name": "HTMLView",
       "description": "",
       "description_tooltip": null,
       "layout": "IPY_MODEL_0d1bde479b8a43b98ca7d5659de96862",
       "placeholder": "​",
       "style": "IPY_MODEL_6bfca90b822247d99ba6e3ba67476d5c",
       "value": "0/|/| 0/? [00:00&lt;?, ?it/s]"
      }
     },
     "e195acb5a1e64e189048c12d1c7d207f": {
      "model_module": "@jupyter-widgets/base",
      "model_module_version": "1.1.0",
      "model_name": "LayoutModel",
      "state": {
       "_model_module": "@jupyter-widgets/base",
       "_model_module_version": "1.1.0",
       "_model_name": "LayoutModel",
       "_view_count": null,
       "_view_module": "@jupyter-widgets/base",
       "_view_module_version": "1.1.0",
       "_view_name": "LayoutView",
       "align_content": null,
       "align_items": null,
       "align_self": null,
       "border": null,
       "bottom": null,
       "display": null,
       "flex": null,
       "flex_flow": null,
       "grid_area": null,
       "grid_auto_columns": null,
       "grid_auto_flow": null,
       "grid_auto_rows": null,
       "grid_column": null,
       "grid_gap": null,
       "grid_row": null,
       "grid_template_areas": null,
       "grid_template_columns": null,
       "grid_template_rows": null,
       "height": null,
       "justify_content": null,
       "left": null,
       "margin": null,
       "max_height": null,
       "max_width": null,
       "min_height": null,
       "min_width": null,
       "order": null,
       "overflow": null,
       "overflow_x": null,
       "overflow_y": null,
       "padding": null,
       "right": null,
       "top": null,
       "visibility": null,
       "width": null
      }
     },
     "e70eb5b9437a47db8ea9bbed46d7edc6": {
      "model_module": "@jupyter-widgets/base",
      "model_module_version": "1.1.0",
      "model_name": "LayoutModel",
      "state": {
       "_model_module": "@jupyter-widgets/base",
       "_model_module_version": "1.1.0",
       "_model_name": "LayoutModel",
       "_view_count": null,
       "_view_module": "@jupyter-widgets/base",
       "_view_module_version": "1.1.0",
       "_view_name": "LayoutView",
       "align_content": null,
       "align_items": null,
       "align_self": null,
       "border": null,
       "bottom": null,
       "display": null,
       "flex": null,
       "flex_flow": null,
       "grid_area": null,
       "grid_auto_columns": null,
       "grid_auto_flow": null,
       "grid_auto_rows": null,
       "grid_column": null,
       "grid_gap": null,
       "grid_row": null,
       "grid_template_areas": null,
       "grid_template_columns": null,
       "grid_template_rows": null,
       "height": null,
       "justify_content": null,
       "left": null,
       "margin": null,
       "max_height": null,
       "max_width": null,
       "min_height": null,
       "min_width": null,
       "order": null,
       "overflow": null,
       "overflow_x": null,
       "overflow_y": null,
       "padding": null,
       "right": null,
       "top": null,
       "visibility": null,
       "width": null
      }
     },
     "ff0ce3ce73d9463c820659a07e72cc76": {
      "model_module": "@jupyter-widgets/base",
      "model_module_version": "1.1.0",
      "model_name": "LayoutModel",
      "state": {
       "_model_module": "@jupyter-widgets/base",
       "_model_module_version": "1.1.0",
       "_model_name": "LayoutModel",
       "_view_count": null,
       "_view_module": "@jupyter-widgets/base",
       "_view_module_version": "1.1.0",
       "_view_name": "LayoutView",
       "align_content": null,
       "align_items": null,
       "align_self": null,
       "border": null,
       "bottom": null,
       "display": null,
       "flex": null,
       "flex_flow": null,
       "grid_area": null,
       "grid_auto_columns": null,
       "grid_auto_flow": null,
       "grid_auto_rows": null,
       "grid_column": null,
       "grid_gap": null,
       "grid_row": null,
       "grid_template_areas": null,
       "grid_template_columns": null,
       "grid_template_rows": null,
       "height": null,
       "justify_content": null,
       "left": null,
       "margin": null,
       "max_height": null,
       "max_width": null,
       "min_height": null,
       "min_width": null,
       "order": null,
       "overflow": null,
       "overflow_x": null,
       "overflow_y": null,
       "padding": null,
       "right": null,
       "top": null,
       "visibility": null,
       "width": null
      }
     }
    },
    "version_major": 2,
    "version_minor": 0
   }
  }
 },
 "nbformat": 4,
 "nbformat_minor": 1
}
