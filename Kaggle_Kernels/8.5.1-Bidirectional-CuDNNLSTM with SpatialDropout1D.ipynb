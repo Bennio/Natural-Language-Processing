{
 "cells": [
  {
   "cell_type": "markdown",
   "metadata": {},
   "source": [
    "#### Purpose of this kernel\n",
    "\n",
    "- Encounter Overfitting of CuDNNLSTM\n",
    "- Problem CuDNNLSTM implementation does not offer parameters such as \"dropout\" and \"recurrent_dropout\"\n",
    "- Issue was discussed here: https://github.com/keras-team/keras/issues/8935\n",
    "- \"Dropout\" determines input neurons of Bidirectional Layer\n",
    "- Classical Dropout is NOT RECOMMENDED for RNNs and downgrades model performance [https://proquest.techbus.safaribooksonline.de/9783958458406/01_html#X2ludGVybmFsX0h0bWxWaWV3P3htbGlkPTk3ODM5NTg0NTg0MDYlMkZzaWdpbF90b2NfaWRfMTQ4X2h0bWwmcXVlcnk9] \n",
    "- trying SpatialDropout as discussed in this paper: http://poleval.pl/files/poleval2019.pdf#page=111"
   ]
  },
  {
   "cell_type": "markdown",
   "metadata": {},
   "source": [
    "#### Import libraries"
   ]
  },
  {
   "cell_type": "code",
   "execution_count": 1,
   "metadata": {},
   "outputs": [
    {
     "name": "stdout",
     "output_type": "stream",
     "text": [
      "\n"
     ]
    }
   ],
   "source": [
    "%%capture --no-stdout\n",
    "\n",
    "# General\n",
    "import pandas as pd\n",
    "import numpy as np\n",
    "from tqdm import tqdm, tqdm_notebook \n",
    "tqdm_notebook().pandas()\n",
    "import os\n",
    "import gc\n",
    "import sys\n",
    "import time\n",
    "\n",
    "# Preprocessing\n",
    "import seaborn as sns\n",
    "import re\n",
    "from re import *\n",
    "from keras.preprocessing.text import Tokenizer\n",
    "from keras.preprocessing.sequence import pad_sequences\n",
    "from gensim.models import KeyedVectors\n",
    "import nltk\n",
    "from nltk.stem import PorterStemmer\n",
    "from nltk.stem.lancaster import LancasterStemmer\n",
    "from nltk.stem import SnowballStemmer \n",
    "from nltk import pos_tag, word_tokenize\n",
    "from nltk.corpus import wordnet as wn\n",
    "lemmatizer = nltk.WordNetLemmatizer()\n",
    "\n",
    "# Modeling\n",
    "import tensorflow as tf\n",
    "from keras.models import Sequential\n",
    "from keras.layers import Embedding, Flatten, Dense\n",
    "from keras.layers import SimpleRNN, GRU, Bidirectional, LSTM,CuDNNLSTM, CuDNNGRU\n",
    "from keras.layers import SpatialDropout1D\n",
    "\n",
    "# Training\n",
    "from sklearn.model_selection import StratifiedKFold\n",
    "  # splits train-set into into train and validation folds\n",
    "    \n",
    "# Evaluation\n",
    "from keras.callbacks import Callback\n",
    "from sklearn.metrics import f1_score, precision_score, recall_score\n",
    "import matplotlib.pyplot as plt"
   ]
  },
  {
   "cell_type": "code",
   "execution_count": 2,
   "metadata": {},
   "outputs": [
    {
     "name": "stdout",
     "output_type": "stream",
     "text": [
      "GPU on?  -  True\n",
      "Available GPUs:  /device:GPU:0\n"
     ]
    }
   ],
   "source": [
    "# Check status and availability of GPU\n",
    "import tensorflow as tf\n",
    "print(\"GPU on?  - \", tf.test.is_gpu_available())\n",
    "print(\"Available GPUs: \", tf.test.gpu_device_name())\n",
    "\n",
    "# confirm Keras sees the GPU\n",
    "from keras import backend\n",
    "assert len(backend.tensorflow_backend._get_available_gpus()) > 0"
   ]
  },
  {
   "cell_type": "markdown",
   "metadata": {},
   "source": [
    "#### Hyperparameters"
   ]
  },
  {
   "cell_type": "code",
   "execution_count": 3,
   "metadata": {},
   "outputs": [],
   "source": [
    "# Fast Run Testing\n",
    "#total_train_samples = 100000 # max is 1306122\n",
    "#total_test_samples = 2000 # max is 375806\n",
    "total_train_samples = 1306122 # max is 1306122\n",
    "total_test_samples = 375806 # max is 375806\n",
    "\n",
    "# Preprocessing\n",
    "maxlen = 130 # 130 - covers about 75% of all bad questions completely\n",
    "max_words = 9999999 # if all words shall be used, type huge number here\n",
    "\n",
    "# Modeling\n",
    "embedding_dim = 300 # set to 300 to be able to compare with pre-trained embeddings\n",
    "\n",
    "# Training\n",
    "kfolds = 5 # 80/20 split\n",
    "model_epochs = 10"
   ]
  },
  {
   "cell_type": "markdown",
   "metadata": {},
   "source": [
    "## Load Data"
   ]
  },
  {
   "cell_type": "code",
   "execution_count": 4,
   "metadata": {},
   "outputs": [
    {
     "data": {
      "text/plain": [
       "0"
      ]
     },
     "execution_count": 4,
     "metadata": {},
     "output_type": "execute_result"
    }
   ],
   "source": [
    "df = pd.read_csv(\"../input/train.csv\")\n",
    "str_ = 'Train data loaded'\n",
    "os.system('echo '+str_)"
   ]
  },
  {
   "cell_type": "code",
   "execution_count": 5,
   "metadata": {},
   "outputs": [
    {
     "name": "stdout",
     "output_type": "stream",
     "text": [
      "Shape for this run:  1306122 3\n",
      "Shape data tensor: (1306122,)\n",
      "Shape target tensor: (1306122,)\n"
     ]
    },
    {
     "data": {
      "text/html": [
       "<div>\n",
       "<style scoped>\n",
       "    .dataframe tbody tr th:only-of-type {\n",
       "        vertical-align: middle;\n",
       "    }\n",
       "\n",
       "    .dataframe tbody tr th {\n",
       "        vertical-align: top;\n",
       "    }\n",
       "\n",
       "    .dataframe thead th {\n",
       "        text-align: right;\n",
       "    }\n",
       "</style>\n",
       "<table border=\"1\" class=\"dataframe\">\n",
       "  <thead>\n",
       "    <tr style=\"text-align: right;\">\n",
       "      <th></th>\n",
       "      <th>qid</th>\n",
       "      <th>question_text</th>\n",
       "      <th>target</th>\n",
       "    </tr>\n",
       "  </thead>\n",
       "  <tbody>\n",
       "    <tr>\n",
       "      <th>0</th>\n",
       "      <td>00002165364db923c7e6</td>\n",
       "      <td>How did Quebec nationalists see their province as a nation in the 1960s?</td>\n",
       "      <td>0</td>\n",
       "    </tr>\n",
       "    <tr>\n",
       "      <th>1</th>\n",
       "      <td>000032939017120e6e44</td>\n",
       "      <td>Do you have an adopted dog, how would you encourage people to adopt and not shop?</td>\n",
       "      <td>0</td>\n",
       "    </tr>\n",
       "    <tr>\n",
       "      <th>2</th>\n",
       "      <td>0000412ca6e4628ce2cf</td>\n",
       "      <td>Why does velocity affect time? Does velocity affect space geometry?</td>\n",
       "      <td>0</td>\n",
       "    </tr>\n",
       "  </tbody>\n",
       "</table>\n",
       "</div>"
      ],
      "text/plain": [
       "                    qid  ...   target\n",
       "0  00002165364db923c7e6  ...        0\n",
       "1  000032939017120e6e44  ...        0\n",
       "2  0000412ca6e4628ce2cf  ...        0\n",
       "\n",
       "[3 rows x 3 columns]"
      ]
     },
     "execution_count": 5,
     "metadata": {},
     "output_type": "execute_result"
    }
   ],
   "source": [
    "df = df[:total_train_samples] # for Testing purposes\n",
    "num_samples,n = df.shape\n",
    "print(\"Shape for this run: \", num_samples, n)\n",
    "\n",
    "X = df.loc[:, 'question_text'].values\n",
    "y = df.loc[:, 'target'].values\n",
    "\n",
    "# Since Neural Networks are only able to perform transformations on tensors \n",
    "y = np.asarray(y) # Transformation target labels to numpy array \n",
    "\n",
    "print('Shape data tensor:', X.shape) \n",
    "print('Shape target tensor:', y.shape) # 1D Tensor\n",
    "\n",
    "pd.set_option('display.max_colwidth', 1500) # inrease display column size\n",
    "df.head(3)"
   ]
  },
  {
   "cell_type": "markdown",
   "metadata": {},
   "source": [
    "## Preprocessing"
   ]
  },
  {
   "cell_type": "markdown",
   "metadata": {},
   "source": [
    "### Data Preparation (1)  - tokenization"
   ]
  },
  {
   "cell_type": "code",
   "execution_count": 6,
   "metadata": {},
   "outputs": [],
   "source": [
    "def my_tokenizer(texts):\n",
    "        tokenizer = Tokenizer() \n",
    "        tokenizer.fit_on_texts(texts) \n",
    "        sequences = tokenizer.texts_to_sequences(texts)\n",
    "        padded_seq = pad_sequences(sequences, maxlen=maxlen)  \n",
    "        word_index = tokenizer.word_index  \n",
    "        \n",
    "        return padded_seq, word_index"
   ]
  },
  {
   "cell_type": "markdown",
   "metadata": {},
   "source": [
    "### Data Preparation (2)  - Embeddings"
   ]
  },
  {
   "cell_type": "code",
   "execution_count": 7,
   "metadata": {},
   "outputs": [],
   "source": [
    "# Embeddings path\n",
    "_glove = '../input/embeddings/glove.840B.300d/glove.840B.300d.txt'\n",
    "_paragram =  '../input/embeddings/paragram_300_sl999/paragram_300_sl999.txt'\n",
    "_wiki_news = '../input/embeddings/wiki-news-300d-1M/wiki-news-300d-1M.vec'\n",
    "_google_news = '../input/embeddings/GoogleNews-vectors-negative300/GoogleNews-vectors-negative300.bin'\n",
    "\n",
    "embeddings = [\n",
    "                #{'name': 'glove', 'embeddings_path': _glove},\n",
    "              {'name': 'paragram', 'embeddings_path': _paragram}#,\n",
    "              #{'name': 'fasttext', 'embeddings_path': _wiki_news},\n",
    "              #{'name': 'googlenews', 'embeddings_path': _google_news}\n",
    "                ]"
   ]
  },
  {
   "cell_type": "markdown",
   "metadata": {},
   "source": [
    "#### Definition of functions to load and analyse embeddings"
   ]
  },
  {
   "cell_type": "code",
   "execution_count": 8,
   "metadata": {},
   "outputs": [],
   "source": [
    "# Functions for lemmatization from http://textmining.wp.hs-hannover.de/Preprocessing.html\n",
    "\n",
    "def wntag(pttag):\n",
    "    if pttag in ['JJ', 'JJR', 'JJS']:\n",
    "        return wn.ADJ\n",
    "    elif pttag in ['NN', 'NNS', 'NNP', 'NNPS']:\n",
    "        return wn.NOUN\n",
    "    elif pttag in ['RB', 'RBR', 'RBS']:\n",
    "        return wn.ADV\n",
    "    elif pttag in ['VB', 'VBD', 'VBG', 'VBN', 'VBP', 'VBZ']:\n",
    "        return wn.VERB\n",
    "    return None\n",
    "\n",
    "def lemmatize(lemmatizer,word,pos):\n",
    "    if pos == None:\n",
    "        return word\n",
    "    else:\n",
    "        return lemmatizer.lemmatize(word,pos)"
   ]
  },
  {
   "cell_type": "code",
   "execution_count": 9,
   "metadata": {},
   "outputs": [],
   "source": [
    "# Function to create embedding matrix\n",
    "embedding_matrices = {}\n",
    "words_in_embedding = {}\n",
    "def create_model_embedding_matrix(embeddings_name,word_index,max_words, embeddings_dict):\n",
    "\n",
    "    embedding_dim = 300 # (vector size 300!)\n",
    "    embedding_matrix = np.zeros((max_words+1, embedding_dim))\n",
    "    unknown_words_list = []\n",
    "    num_known_words = 0  \n",
    "        \n",
    "    ps = PorterStemmer()\n",
    "    ps_counter = 0\n",
    "    lc = LancasterStemmer()\n",
    "    lc_counter = 0\n",
    "    sb = SnowballStemmer(\"english\")\n",
    "    sb_counter = 0\n",
    "    lemma_counter = 0\n",
    "\n",
    "    # Filling up matrix\n",
    "    for word, i in word_index.items(): \n",
    "        \n",
    "        if embeddings_name in ['glove', 'paragram', 'fasttext'] and i <= max_words:\n",
    "            \n",
    "            embedding_vector = embeddings_dict.get(word) # get vector for word from embedding \n",
    "            if embedding_vector is not None:\n",
    "                embedding_matrix[i] = embedding_vector\n",
    "                num_known_words +=1\n",
    "                continue # if embedding found - process next word\n",
    "                \n",
    "            word_c = word.lower()\n",
    "            embedding_vector = embeddings_dict.get(word_c)\n",
    "            if embedding_vector is not None:\n",
    "                embedding_matrix[i] = embedding_vector\n",
    "                num_known_words +=1\n",
    "                continue # if embedding found - process next word\n",
    "                \n",
    "            word_c = word.capitalize()\n",
    "            embedding_vector = embeddings_dict.get(word_c)\n",
    "            if embedding_vector is not None:\n",
    "                embedding_matrix[i] = embedding_vector\n",
    "                num_known_words +=1\n",
    "                continue # if embedding found - process next word\n",
    "                \n",
    "            word_c = word.upper()\n",
    "            embedding_vector = embeddings_dict.get(word_c)\n",
    "            if embedding_vector is not None:\n",
    "                embedding_matrix[i] = embedding_vector\n",
    "                num_known_words +=1\n",
    "                continue # if embedding found - process next word\n",
    "                \n",
    "            word_c = ps.stem(word)\n",
    "            embedding_vector = embeddings_dict.get(word_c)\n",
    "            if embedding_vector is not None:\n",
    "                embedding_matrix[i] = embedding_vector\n",
    "                num_known_words +=1\n",
    "                ps_counter +=1\n",
    "                continue # if embedding found - process next word\n",
    "                \n",
    "            word_c = lc.stem(word)\n",
    "            embedding_vector = embeddings_dict.get(word_c)\n",
    "            if embedding_vector is not None:\n",
    "                embedding_matrix[i] = embedding_vector\n",
    "                num_known_words +=1\n",
    "                lc_counter +=1\n",
    "                continue # if embedding found - process next word\n",
    "                \n",
    "            word_c = sb.stem(word)\n",
    "            embedding_vector = embeddings_dict.get(word_c)\n",
    "            if embedding_vector is not None:\n",
    "                embedding_matrix[i] = embedding_vector\n",
    "                num_known_words +=1\n",
    "                sb_counter +=1\n",
    "                continue # if embedding found - process next word\n",
    "                \n",
    "            word_c = lemmatize(lemmatizer,pos_tag([word])[0][0],wntag(pos_tag([word])[0][1]))\n",
    "            embedding_vector = embeddings_dict.get(word_c)\n",
    "            if embedding_vector is not None:\n",
    "                embedding_matrix[i] = embedding_vector\n",
    "                num_known_words +=1\n",
    "                lemma_counter +=1\n",
    "                continue # if embedding found - process next word\n",
    "                \n",
    "            else:\n",
    "                unknown_words_list.append(word)\n",
    "                \n",
    "        if embeddings_name == 'googlenews' and i <= max_words:\n",
    "            \n",
    "            try:\n",
    "                word_c = word\n",
    "                embedding_vector = embeddings_dict[word_c]  \n",
    "                if embedding_vector is not None:\n",
    "                    embedding_matrix[i] = embedding_vector\n",
    "                    num_known_words +=1\n",
    "                    continue # if embedding found - process next word\n",
    "\n",
    "                word_c = word.lower()\n",
    "                embedding_vector = embeddings_dict[word_c]  \n",
    "                if embedding_vector is not None:\n",
    "                    embedding_matrix[i] = embedding_vector\n",
    "                    num_known_words +=1\n",
    "                    continue # if embedding found - process next word\n",
    "                \n",
    "                word_c = word.capitalize()\n",
    "                embedding_vector = embeddings_dict[word_c]\n",
    "                if embedding_vector is not None:\n",
    "                    embedding_matrix[i] = embedding_vector\n",
    "                    num_known_words +=1 \n",
    "                    continue # if embedding found - process next word\n",
    "                \n",
    "                word_c = word.upper()\n",
    "                embedding_vector = embeddings_dict[word_c]   \n",
    "                if embedding_vector is not None:\n",
    "                    embedding_matrix[i] = embedding_vector\n",
    "                    num_known_words +=1\n",
    "                    continue # if embedding found - process next word\n",
    "                    \n",
    "                word_c = ps.stem(word)\n",
    "                embedding_vector = embeddings_dict[word_c]  \n",
    "                if embedding_vector is not None:\n",
    "                    embedding_matrix[i] = embedding_vector\n",
    "                    num_known_words +=1\n",
    "                    ps_counter +=1\n",
    "                    continue # if embedding found - process next word\n",
    "                    \n",
    "                word_c = lc.stem(word)\n",
    "                embedding_vector = embeddings_dict[word_c] \n",
    "                if embedding_vector is not None:\n",
    "                    embedding_matrix[i] = embedding_vector\n",
    "                    num_known_words +=1\n",
    "                    lc_counter +=1\n",
    "                    continue # if embedding found - process next word\n",
    "                    \n",
    "                word_c = sb.stem(word)\n",
    "                embedding_vector = embeddings_dict[word_c] \n",
    "                if embedding_vector is not None:\n",
    "                    embedding_matrix[i] = embedding_vector\n",
    "                    num_known_words +=1\n",
    "                    sb_counter +=1\n",
    "                    continue # if embedding found - process next word\n",
    "                    \n",
    "                word_c = lemmatize(lemmatizer,pos_tag([word])[0][0],wntag(pos_tag([word])[0][1]))\n",
    "                embedding_vector = embeddings_dict[word_c] \n",
    "                if embedding_vector is not None:\n",
    "                    embedding_matrix[i] = embedding_vector\n",
    "                    num_known_words +=1\n",
    "                    lemma_counter +=1\n",
    "                    continue # if embedding found - process next word\n",
    "                    \n",
    "            except:\n",
    "                unknown_words_list.append(word)\n",
    "                \n",
    "    try: \n",
    "        words_in_embedding[embeddings_name] = list(embeddings_dict.keys())\n",
    "    except:\n",
    "        try:\n",
    "            words_in_embedding[embeddings_name] = list(embeddings_dict.wv.vocab)\n",
    "        except:\n",
    "            print(\"Error during generation of key list {}\".format(embeddings_name))\n",
    "            print(sys.exc_info()[0])\n",
    "    \n",
    "    # Save embedding matrix:\n",
    "    embedding_matrices[embeddings_name] = embedding_matrix\n",
    "    \n",
    "    \n",
    "    print('  Embeddings_matrix created')\n",
    "    print('  Shape embedding_matrix: {}'.format(embedding_matrix.shape))\n",
    "    print('  Found Embeddings for {:.2f}% of all words'\n",
    "          .format((num_known_words / max_words)*100))\n",
    "    print(\"  num_known_words :\", num_known_words)\n",
    "    print(\"  num words in word_index: \", max_words)\n",
    "    print('  Unknown Words: {:.2f}%'.\n",
    "          format(((len(unknown_words_list)) / max_words)*100))\n",
    "    print(\"  Words found by PorterStemmer: {}\".format(ps_counter))\n",
    "    print(\"  Words found by LancasterStemmer: {}\".format(lc_counter))\n",
    "    print(\"  Words found by SnowballStemmer: {}\".format(sb_counter))\n",
    "    print(\"  Words found by Lemmatisation: {}\".format(lemma_counter))\n",
    "          \n",
    "    # Top 50 unknown words\n",
    "    print(\"  Top 50 unknown words:\\n {}\\n\".format(unknown_words_list[:50]))\n",
    "    \n",
    "    del num_known_words, unknown_words_list,ps,lc,sb, ps_counter, lc_counter, sb_counter\n",
    "    del embedding_matrix, lemma_counter; gc.collect() "
   ]
  },
  {
   "cell_type": "code",
   "execution_count": 10,
   "metadata": {},
   "outputs": [],
   "source": [
    "# Function to load + analyze Embeddings\n",
    "def load_and_analyse_Embeddings(embeddings_name, embeddings_path, max_words):\n",
    "    \n",
    "    if embeddings_name in ['glove', 'paragram', 'fasttext']:  \n",
    "        embeddings_dict = {} # create empty embedding dictionary\n",
    "        embedding_file = open(embeddings_path, encoding =\"utf8\", errors = 'ignore') # load embedding from path\n",
    "\n",
    "        # Fill embedding dict with word: vector(coefs) pairs\n",
    "        for line in embedding_file:\n",
    "            line_values = line.split(' ') # read in values of respective line (= vector)\n",
    "            word = line_values[0] #  # first value in line represents the word\n",
    "            coefs = np.asarray(line_values[1:], dtype='float32') # all values represent vector\n",
    "            embeddings_dict[word] = coefs # add key(word), value(vector) pairs to dict\n",
    "\n",
    "        embedding_file.close() \n",
    "        \n",
    "        os.system('echo '+ embeddings_name + 'loaded')\n",
    "        print('  ',embeddings_name, 'loaded')\n",
    "        print('  {} word vectors within {} dict'.format(len(embeddings_dict),embeddings_name))\n",
    "        \n",
    "        # Use pre-trained embedding to create final embeddings matrix\n",
    "        create_model_embedding_matrix(embeddings_name,word_index,max_words, embeddings_dict)\n",
    "        del embeddings_dict, line_values,word,coefs\n",
    "                \n",
    "    if embeddings_name == 'googlenews':\n",
    "        embeddings_file = KeyedVectors.load_word2vec_format(embeddings_path, binary=True)\n",
    "        \n",
    "        os.system('echo '+ embeddings_name + 'loaded')\n",
    "        print('  ',embeddings_name, 'loaded')\n",
    "        \n",
    "        # Use pre-trained embedding to create final embeddings matrix\n",
    "        create_model_embedding_matrix(embeddings_name,word_index,max_words, embeddings_file)\n",
    "        del embeddings_file\n",
    "        \n",
    "    # MEMORY MANAGEMENT!\n",
    "    del embeddings_name, embeddings_path\n",
    "    gc.collect()\n",
    "    \n",
    "   # return embeddings_dict"
   ]
  },
  {
   "cell_type": "markdown",
   "metadata": {},
   "source": [
    "### Data Preparation (3)  - Data Cleaning"
   ]
  },
  {
   "cell_type": "markdown",
   "metadata": {},
   "source": [
    "#### Definition mapping and functions"
   ]
  },
  {
   "cell_type": "code",
   "execution_count": 11,
   "metadata": {},
   "outputs": [],
   "source": [
    "contraction_mapping = {\"ain't\": \"is not\", \"aren't\": \"are not\",\"can't\": \"cannot\", \"'cause\": \"because\", \n",
    "                       \"could've\": \"could have\", \"couldn't\": \"could not\", \"didn't\": \"did not\",  \n",
    "                       \"doesn't\": \"does not\", \"don't\": \"do not\", \"hadn't\": \"had not\", \"hasn't\": \"has not\", \n",
    "                       \"haven't\": \"have not\", \"he'd\": \"he would\",\"he'll\": \"he will\", \"he's\": \"he is\", \n",
    "                       \"how'd\": \"how did\", \"how'd'y\": \"how do you\", \"how'll\": \"how will\", \"how's\": \"how is\",  \n",
    "                       \"I'd\": \"I would\", \"I'd've\": \"I would have\", \"I'll\": \"I will\", \"I'll've\": \"I will have\",\n",
    "                       \"I'm\": \"I am\",\"i'm\": \"i am\", \"I've\": \"I have\", \"i'd\": \"i would\", \"i'd've\": \"i would have\", \n",
    "                       \"i'll\": \"i will\",  \"i'll've\": \"i will have\",\"i'm\": \"i am\", \"i've\": \"i have\", \n",
    "                       \"isn't\": \"is not\", \"it'd\": \"it would\", \"it'd've\": \"it would have\", \"it'll\": \"it will\", \n",
    "                       \"it'll've\": \"it will have\",\"it's\": \"it is\", \"let's\": \"let us\", \"ma'am\": \"madam\", \n",
    "                       \"mayn't\": \"may not\", \"might've\": \"might have\",\"mightn't\": \"might not\",\n",
    "                       \"mightn't've\": \"might not have\", \"must've\": \"must have\", \"mustn't\": \"must not\", \n",
    "                       \"mustn't've\": \"must not have\", \"needn't\": \"need not\", \"needn't've\": \"need not have\",\n",
    "                       \"o'clock\": \"of the clock\", \"oughtn't\": \"ought not\", \"oughtn't've\": \"ought not have\", \n",
    "                       \"shan't\": \"shall not\", \"sha'n't\": \"shall not\", \"shan't've\": \"shall not have\", \n",
    "                       \"she'd\": \"she would\", \"she'd've\": \"she would have\", \"she'll\": \"she will\", \n",
    "                       \"she'll've\": \"she will have\", \"she's\": \"she is\", \"should've\": \"should have\", \n",
    "                       \"shouldn't\": \"should not\", \"shouldn't've\": \"should not have\", \"so've\": \"so have\",\n",
    "                       \"so's\": \"so as\", \"this's\": \"this is\",\"that'd\": \"that would\", \n",
    "                       \"that'd've\": \"that would have\", \"that's\": \"that is\", \"there'd\": \"there would\", \n",
    "                       \"there'd've\": \"there would have\", \"there's\": \"there is\", \"here's\": \"here is\",\n",
    "                       \"they'd\": \"they would\", \"they'd've\": \"they would have\", \"they'll\": \"they will\", \n",
    "                       \"they'll've\": \"they will have\", \"they're\": \"they are\", \"they've\": \"they have\", \n",
    "                       \"to've\": \"to have\", \"wasn't\": \"was not\", \"we'd\": \"we would\", \"we'd've\": \"we would have\", \n",
    "                       \"we'll\": \"we will\", \"we'll've\": \"we will have\", \"we're\": \"we are\", \"we've\": \"we have\", \n",
    "                       \"weren't\": \"were not\",\"what`s\": \"what is\", \"what'll\": \"what will\", \"what'll've\": \"what will have\", \n",
    "                       \"what're\": \"what are\",  \"what's\": \"what is\", \"what've\": \"what have\", \"when's\": \"when is\", \n",
    "                       \"when've\": \"when have\", \"where'd\": \"where did\", \"where's\": \"where is\", \n",
    "                       \"where've\": \"where have\", \"who'll\": \"who will\", \"who'll've\": \"who will have\", \n",
    "                       \"who's\": \"who is\", \"who've\": \"who have\", \"why's\": \"why is\", \"why've\": \"why have\", \n",
    "                       \"will've\": \"will have\", \"won't\": \"will not\", \"won't've\": \"will not have\", \n",
    "                       \"would've\": \"would have\", \"wouldn't\": \"would not\", \"wouldn't've\": \"would not have\", \n",
    "                       \"y'all\": \"you all\", \"y'all'd\": \"you all would\",\"y'all'd've\": \"you all would have\",\n",
    "                       \"y'all're\": \"you all are\",\"y'all've\": \"you all have\",\"you'd\": \"you would\", \n",
    "                       \"you'd've\": \"you would have\", \"you'll\": \"you will\", \"you'll've\": \"you will have\", \n",
    "                       \"you're\": \"you are\", \"you've\": \"you have\"}\n",
    "\n",
    "# dict from https://www.kaggle.com/theoviel/improve-your-score-with-text-preprocessing-v2 \n",
    "correct_spell_dict = {'colour': 'color', 'centre': 'center', 'favourite': 'favorite',\n",
    "                    'travelling': 'traveling', 'counselling': 'counseling', 'theatre': 'theater',\n",
    "                    'cancelled': 'canceled', 'labour': 'labor', 'organisation': 'organization',\n",
    "                    'wwii': 'world war 2', 'citicise': 'criticize', 'youtu ': 'youtube ',\n",
    "                    'Qoura': 'Quora', 'sallary': 'salary', 'Whta': 'What',\n",
    "                    'narcisist': 'narcissist', 'howdo': 'how do', 'whatare': 'what are',\n",
    "                    'howcan': 'how can', 'howmuch': 'how much', 'howmany': 'how many',\n",
    "                    'whydo': 'why do', 'doI': 'do I', 'theBest': 'the best',\n",
    "                    'howdoes': 'how does', 'mastrubation': 'masturbation',\n",
    "                    'mastrubate': 'masturbate', \"mastrubating\": 'masturbating',\n",
    "                    \"mcdonald's\":'mcdonalds',\n",
    "                    'pennis': 'penis', 'Etherium': 'Ethereum', 'narcissit': 'narcissist',\n",
    "                    'bigdata': 'big data', '2k17': '2017', '2k18': '2018', 'qouta': 'quota', \n",
    "                    'exboyfriend': 'ex boyfriend', 'airhostess': 'air hostess', \"whst\": 'what',\n",
    "                    'watsapp': 'whatsapp', 'demonitisation': 'demonetization',\n",
    "                    'demonitization': 'demonetization', 'demonetisation': 'demonetization',\n",
    "                    'pokémon': 'pokemon', 'quoras': 'quora', 'quorans': 'quora'}\n",
    "\n",
    "# Kernel \"fork-embeddings-keras-v04\"\n",
    "specials_mapping = {\"‘\": \"'\", \"₹\": \"e\", \"´\": \"'\", \"°\": \"\", \"€\": \"e\", \"™\": \"tm\", \"√\": \" sqrt \", \"×\": \"x\", \n",
    "                 \"²\": \"2\", \"—\": \"-\", \"–\": \"-\", \"’\": \"'\", \"_\": \"-\", \"`\": \"'\", '“': '\"', '”': '\"', \n",
    "                 '“': '\"', \"£\": \"e\", '∞': 'infinity', 'θ': 'theta', '÷': '/', 'α': 'alpha', '•': '.', \n",
    "                 'à': 'a', '−': '-', 'β': 'beta', '∅': '', '³': '3', 'π': 'pi', '\\u200b': ' ',\n",
    "                 '…': ' ... ', '\\ufeff': '', 'करना': '', 'है': '', 'ε−': ''}\n",
    "\n",
    "punct = \"/-?!.,#$%\\()*+-/:;<=>@[\\\\]^_`{|}~\" + '\"\"“”’' + '∞θ÷α•à−β∅³π‘₹´°£€\\×™√²—–&' + '\\''"
   ]
  },
  {
   "cell_type": "code",
   "execution_count": 12,
   "metadata": {},
   "outputs": [],
   "source": [
    "def preprocessing(x):\n",
    "    x = str(x)\n",
    "    x = re.sub('[’‘´`]', \"'\", x) \n",
    "    \n",
    "    # replaces one digit by #, two following digits by ## etc.\n",
    "    x = re.sub('[0-9]{5,}', '#####', str(x)) \n",
    "    x = re.sub('[0-9]{4}', '####', x)\n",
    "    x = re.sub('[0-9]{3}', '###', x)\n",
    "    x = re.sub('[0-9]{2}', '##', x)\n",
    "    x = re.sub('[0-9]\\'[0-9]', 'feet inches', x) # e.g. 5'5 → feet inches\n",
    "    \n",
    "    for word in x.split():\n",
    "        if word.lower() in contraction_mapping.keys():\n",
    "            x = x.replace(word, contraction_mapping[word.lower()])\n",
    "        if word in correct_spell_dict.keys():\n",
    "            x = x.replace(word, correct_spell_dict[word])\n",
    "        if word in specials_mapping.keys():\n",
    "            x = x.replace(word, specials_mapping[word])\n",
    "        if word[0] in punct and len(word) != 1: # remove punctuation directly in front of word\n",
    "            x = x.replace(word[0], '') \n",
    "        \n",
    "    x = ' '.join(word_tokenize(x)) # separates puncutation from words\n",
    "               \n",
    "    return x"
   ]
  },
  {
   "cell_type": "markdown",
   "metadata": {},
   "source": [
    "#### Apply preprocessing functions"
   ]
  },
  {
   "cell_type": "code",
   "execution_count": 13,
   "metadata": {},
   "outputs": [
    {
     "data": {
      "application/vnd.jupyter.widget-view+json": {
       "model_id": "3436561f67cc4a0284fbff6bee241704",
       "version_major": 2,
       "version_minor": 0
      },
      "text/plain": [
       "HBox(children=(IntProgress(value=0, max=1306122), HTML(value='')))"
      ]
     },
     "metadata": {},
     "output_type": "display_data"
    },
    {
     "name": "stdout",
     "output_type": "stream",
     "text": [
      "\n",
      " Number of words in word_index:  189036\n"
     ]
    },
    {
     "data": {
      "text/plain": [
       "0"
      ]
     },
     "execution_count": 13,
     "metadata": {},
     "output_type": "execute_result"
    }
   ],
   "source": [
    "os.system('echo Applying preprocessing functions..')\n",
    "df[\"question_text\"] = df[\"question_text\"].fillna(\"_nan_\").progress_apply(lambda x: preprocessing(x))\n",
    "os.system('echo prepocessing done')\n",
    "\n",
    "X = df.loc[:, 'question_text'].values\n",
    "y = np.asarray(df.loc[:, 'target'].values)\n",
    "\n",
    "padded_seq, word_index = my_tokenizer(X) # translate text to numerical values\n",
    "max_words = min(max_words, len(word_index)) # e.g.10k words or all words\n",
    "      # index +1 because fill process of matrix starts at 1\n",
    "print(\" Number of words in word_index: \", len(word_index))\n",
    "os.system('echo Tokenization completed')"
   ]
  },
  {
   "cell_type": "markdown",
   "metadata": {},
   "source": [
    "#### Iteration loop to compare different embeddings (3)"
   ]
  },
  {
   "cell_type": "code",
   "execution_count": 14,
   "metadata": {},
   "outputs": [
    {
     "name": "stdout",
     "output_type": "stream",
     "text": [
      "Running procedure on paragram:\n",
      "   paragram loaded\n",
      "  1703755 word vectors within paragram dict\n",
      "  Embeddings_matrix created\n",
      "  Shape embedding_matrix: (189037, 300)\n",
      "  Found Embeddings for 78.83% of all words\n",
      "  num_known_words : 149009\n",
      "  num words in word_index:  189036\n",
      "  Unknown Words: 21.17%\n",
      "  Words found by PorterStemmer: 4308\n",
      "  Words found by LancasterStemmer: 5359\n",
      "  Words found by SnowballStemmer: 90\n",
      "  Words found by Lemmatisation: 79\n",
      "  Top 50 unknown words:\n",
      " ['brexit', 'cryptocurrencies', 'redmi', 'coinbase', 'oneplus', 'upwork', 'machedo', 'gdpr', 'adityanath', 'boruto', 'bnbr', 'alshamsi', 'dceu', 'litecoin', 'unacademy', 'iiest', \"qur'an\", 'zerodha', 'tensorflow', 'doklam', 'kavalireddi', 'lnmiit', 'muoet', 'etc…', 'nicmar', 'vajiram', '°c', 'zebpay', 'srmjee', 'elitmus', 'altcoins', 'altcoin', 'hackerrank', 'awdhesh', 'baahubali', 'koinex', 'demonetisation', 'mhcet', 'byju', 'srmjeee', 'sgsits', 'ftre', 'skripal', 'nanodegree', 'gurugram', 'hotstar', 'mhtcet', 'x²', 'bmsce', 'what\\u200b']\n",
      "\n"
     ]
    },
    {
     "data": {
      "text/plain": [
       "0"
      ]
     },
     "execution_count": 14,
     "metadata": {},
     "output_type": "execute_result"
    }
   ],
   "source": [
    "for embedding in embeddings:\n",
    "    emb_name = embedding['name']\n",
    "    emb_path = embedding['embeddings_path']\n",
    "    print(\"Running procedure on {}:\".format(emb_name))\n",
    "    \n",
    "    load_and_analyse_Embeddings(emb_name, emb_path, max_words) # loading embedding\n",
    "\n",
    "os.system(\"echo load_and_analyse_Embeddings done\")"
   ]
  },
  {
   "cell_type": "markdown",
   "metadata": {},
   "source": [
    "## Modeling\n",
    "\n",
    "* starting with a simple neural network\n",
    "* model is encapsulated into a function for clarity reasons and to make model easier for later submission \n",
    "* literature recommends not to use pre-trained embeddings in case of the availability of a large dataset. 1.3 million questions are available in the train-set, which should be worth a try. The Embedding Layer tries to derive optimal vectors for the input words. After training the weights of the Embedding Layer represent these vectors.\n",
    "* state-of-the-art loss function for binary classification tasks: **binary_crossentropy**\n",
    "* **optimizer rmsprop** is in most-cases a good choice according to current research literature\n",
    "* using the default learning rate of rmsprop is recommended and applied here"
   ]
  },
  {
   "cell_type": "code",
   "execution_count": 15,
   "metadata": {},
   "outputs": [
    {
     "name": "stdout",
     "output_type": "stream",
     "text": [
      "WARNING:tensorflow:From /opt/conda/lib/python3.6/site-packages/tensorflow/python/framework/op_def_library.py:263: colocate_with (from tensorflow.python.framework.ops) is deprecated and will be removed in a future version.\n",
      "Instructions for updating:\n",
      "Colocations handled automatically by placer.\n",
      "WARNING:tensorflow:From /opt/conda/lib/python3.6/site-packages/keras/backend/tensorflow_backend.py:3445: calling dropout (from tensorflow.python.ops.nn_ops) with keep_prob is deprecated and will be removed in a future version.\n",
      "Instructions for updating:\n",
      "Please use `rate` instead of `keep_prob`. Rate should be set to `rate = 1 - keep_prob`.\n",
      "_________________________________________________________________\n",
      "Layer (type)                 Output Shape              Param #   \n",
      "=================================================================\n",
      "embedding_1 (Embedding)      (None, None, 300)         56711100  \n",
      "_________________________________________________________________\n",
      "spatial_dropout1d_1 (Spatial (None, None, 300)         0         \n",
      "_________________________________________________________________\n",
      "bidirectional_1 (Bidirection (None, 64)                85504     \n",
      "_________________________________________________________________\n",
      "dense_1 (Dense)              (None, 1)                 65        \n",
      "=================================================================\n",
      "Total params: 56,796,669\n",
      "Trainable params: 85,569\n",
      "Non-trainable params: 56,711,100\n",
      "_________________________________________________________________\n"
     ]
    }
   ],
   "source": [
    "def get_keras_model():\n",
    "    model = Sequential()\n",
    "    model.add(Embedding(input_dim = max_words+1, # 10k different words/integers\n",
    "                        output_dim = embedding_dim, \n",
    "                        weights = [embedding_matrices['paragram']],\n",
    "                        trainable = False)) \n",
    "    \n",
    "    model.add(SpatialDropout1D(0.3))\n",
    "    model.add(Bidirectional(CuDNNLSTM(32)))\n",
    "    model.add(Dense(1, activation='sigmoid')) # final -  binary classifier\n",
    "    \n",
    "    model.compile(optimizer='rmsprop',\n",
    "                  loss='binary_crossentropy',\n",
    "                  metrics=['accuracy'])\n",
    "        \n",
    "    return model\n",
    "\n",
    "get_keras_model().summary()"
   ]
  },
  {
   "cell_type": "markdown",
   "metadata": {},
   "source": [
    "### Training + Evaluation\n",
    "\n",
    "* Input for model are batches of sequences\n",
    "        * Input shape: 2D tensor(matrix): (batch_size, sequence_length).\n",
    "* each sequence has a maximum length of maxlen (here: 100)\n",
    "* Embedding Layer translates Integers of each sequence into dense vectors\n",
    "  (comp. https://keras.io/layers/embeddings/)\n",
    "      * input_length: Length of input sequence\n",
    "* embedding_matrix translates integers into into 3D Tensores of shape:\n",
    "      * Output shape: (batch_size, sequence_length, output_dim)\n",
    "\n",
    "\n",
    "* accuracy metric is not suitable is cases target classes are quite unequal distributed\n",
    "* ROC-AUC is also not applicable for the same reason\n",
    "* Suitable Evaluation metrics: Precision, Recall and F1-Score as combination of both. Since these metric functions were removed in Keras 2.0, they are implemented within an own callback below. # class based on:\n",
    "https://medium.com/@thongonary/how-to-compute-f1-score-for-each-epoch-in-keras-a1acd17715a2"
   ]
  },
  {
   "cell_type": "code",
   "execution_count": 16,
   "metadata": {},
   "outputs": [],
   "source": [
    "class CustomMetric(Callback):\n",
    "\n",
    "    # Create Instance at the beginning of each epoch\n",
    "    def on_train_begin(self, logs={}):\n",
    "        self.best_val_f1s = [] # collects best f1 after each epoch with best threshold\n",
    "    \n",
    "    # Function called at the end of ery epoch\n",
    "    def on_epoch_end(self, epoch, logs={}):\n",
    "        t0 = time.time()\n",
    "        \n",
    "        val_predict = np.asarray(self.model.predict(self.validation_data[0])) \n",
    "        val_target = self.validation_data[1]\n",
    "        \n",
    "        # Find best threshold for prediction\n",
    "        best_f1 = 0               \n",
    "        for threshold in np.arange(0.2,0.401, 0.01):\n",
    "            val_f1 = f1_score(y_true = val_target, y_pred = val_predict > threshold)\n",
    "            if val_f1 > best_f1:\n",
    "                best_f1 = val_f1\n",
    "\n",
    "        self.best_val_f1s.append(best_f1)\n",
    "        \n",
    "        t1 = time.time()\n",
    "        #if epoch % 2 == 0:\n",
    "        print(\"  -- epoch: {}\".format(epoch))  \n",
    "        print(\"Execution time on_epoch_end {}\".format(t1-t0))\n",
    "        os.system(\"echo  -- epoch: {}\".format(epoch))\n",
    "        os.system(\"echo Execution time on_epoch_end {}\".format(t1-t0))\n",
    "        return"
   ]
  },
  {
   "cell_type": "markdown",
   "metadata": {},
   "source": [
    "* StratifiedKFold: training is performed \"kfold\"- time, within each fold several epochs are run."
   ]
  },
  {
   "cell_type": "code",
   "execution_count": 17,
   "metadata": {},
   "outputs": [
    {
     "name": "stdout",
     "output_type": "stream",
     "text": [
      "\n",
      "Split: 0  \n",
      " \n",
      "Train on 1044897 samples, validate on 261225 samples\n",
      "Epoch 1/10\n",
      "1044897/1044897 [==============================] - 59s 56us/step - loss: 0.1311 - acc: 0.9499 - val_loss: 0.1132 - val_acc: 0.9555\n",
      "  -- epoch: 0\n",
      "Execution time on_epoch_end 33.47428369522095\n",
      "Epoch 2/10\n",
      "1044897/1044897 [==============================] - 56s 54us/step - loss: 0.1147 - acc: 0.9550 - val_loss: 0.1088 - val_acc: 0.9570\n",
      "  -- epoch: 1\n",
      "Execution time on_epoch_end 33.34303092956543\n",
      "Epoch 3/10\n",
      "1044897/1044897 [==============================] - 56s 54us/step - loss: 0.1113 - acc: 0.9563 - val_loss: 0.1063 - val_acc: 0.9581\n",
      "  -- epoch: 2\n",
      "Execution time on_epoch_end 33.46694254875183\n",
      "Epoch 4/10\n",
      "1044897/1044897 [==============================] - 56s 54us/step - loss: 0.1121 - acc: 0.9554 - val_loss: 0.1064 - val_acc: 0.9578\n",
      "  -- epoch: 3\n",
      "Execution time on_epoch_end 33.649537801742554\n",
      "Epoch 5/10\n",
      "1044897/1044897 [==============================] - 56s 54us/step - loss: 0.1074 - acc: 0.9574 - val_loss: 0.1044 - val_acc: 0.9587\n",
      "  -- epoch: 4\n",
      "Execution time on_epoch_end 34.201316118240356\n",
      "Epoch 6/10\n",
      "1044897/1044897 [==============================] - 56s 53us/step - loss: 0.1053 - acc: 0.9584 - val_loss: 0.1039 - val_acc: 0.9588\n",
      "  -- epoch: 5\n",
      "Execution time on_epoch_end 34.25578045845032\n",
      "Epoch 7/10\n",
      "1044897/1044897 [==============================] - 56s 54us/step - loss: 0.1044 - acc: 0.9588 - val_loss: 0.1032 - val_acc: 0.9590\n",
      "  -- epoch: 6\n",
      "Execution time on_epoch_end 33.24447226524353\n",
      "Epoch 8/10\n",
      "1044897/1044897 [==============================] - 56s 54us/step - loss: 0.1037 - acc: 0.9591 - val_loss: 0.1031 - val_acc: 0.9588\n",
      "  -- epoch: 7\n",
      "Execution time on_epoch_end 34.45424246788025\n",
      "Epoch 9/10\n",
      "1044897/1044897 [==============================] - 56s 54us/step - loss: 0.1036 - acc: 0.9590 - val_loss: 0.1033 - val_acc: 0.9593\n",
      "  -- epoch: 8\n",
      "Execution time on_epoch_end 33.34199666976929\n",
      "Epoch 10/10\n",
      "1044897/1044897 [==============================] - 56s 54us/step - loss: 0.1027 - acc: 0.9596 - val_loss: 0.1034 - val_acc: 0.9592\n",
      "  -- epoch: 9\n",
      "Execution time on_epoch_end 33.3597617149353\n",
      "Execution time Fold 0: 937.7383296489716.\n",
      "\n",
      "Split: 1  \n",
      " \n",
      "Train on 1044897 samples, validate on 261225 samples\n",
      "Epoch 1/10\n",
      "1044897/1044897 [==============================] - 57s 54us/step - loss: 0.1307 - acc: 0.9501 - val_loss: 0.1145 - val_acc: 0.9550\n",
      "  -- epoch: 0\n",
      "Execution time on_epoch_end 33.30026602745056\n",
      "Epoch 2/10\n",
      "1044897/1044897 [==============================] - 56s 54us/step - loss: 0.1170 - acc: 0.9538 - val_loss: 0.1097 - val_acc: 0.9567\n",
      "  -- epoch: 1\n",
      "Execution time on_epoch_end 34.08649444580078\n",
      "Epoch 3/10\n",
      "1044897/1044897 [==============================] - 56s 54us/step - loss: 0.1112 - acc: 0.9563 - val_loss: 0.1064 - val_acc: 0.9579\n",
      "  -- epoch: 2\n",
      "Execution time on_epoch_end 34.00433015823364\n",
      "Epoch 4/10\n",
      "1044897/1044897 [==============================] - 56s 53us/step - loss: 0.1096 - acc: 0.9564 - val_loss: 0.1068 - val_acc: 0.9581\n",
      "  -- epoch: 3\n",
      "Execution time on_epoch_end 34.69917559623718\n",
      "Epoch 5/10\n",
      "1044897/1044897 [==============================] - 56s 54us/step - loss: 0.1069 - acc: 0.9580 - val_loss: 0.1049 - val_acc: 0.9584\n",
      "  -- epoch: 4\n",
      "Execution time on_epoch_end 33.10422992706299\n",
      "Epoch 6/10\n",
      "1044897/1044897 [==============================] - 56s 54us/step - loss: 0.1057 - acc: 0.9583 - val_loss: 0.1038 - val_acc: 0.9588\n",
      "  -- epoch: 5\n",
      "Execution time on_epoch_end 33.317336559295654\n",
      "Epoch 7/10\n",
      " 417280/1044897 [==========>...................] - ETA: 30s - loss: 0.1046 - acc: 0.9586"
     ]
    }
   ],
   "source": [
    "my_y_val_preds = {} # dictionary to collect model predictions at the end of each split\n",
    "my_y_val_targets = {} # dictionary of true classes at the end of each split\n",
    "my_history_dict = {} # to collect accuracy of each epoch\n",
    "my_metrics_dict = {} # to collect best f1 of each epoch\n",
    "best_f1_dict = {} # final evaluation at the end of training (after last epoch)\n",
    "best_threshold_dict = {} # final evaluation at the end of training (after last epoch)\n",
    "\n",
    "# fold_list contains train and validation indices (folds) for each split\n",
    "folds = list(StratifiedKFold(n_splits=kfolds, shuffle= True, random_state=123)\n",
    "             .split(padded_seq, y))\n",
    "\n",
    "tf.logging.set_verbosity(tf.logging.ERROR) # dont show warnings (e.g. tensorflow version problems)\n",
    "for i, (train_indices, val_indices) in enumerate(folds):\n",
    "    start_fold = time.time()\n",
    "    \n",
    "    print('\\nSplit: {}  \\n '.format(i))\n",
    "    os.system(\"echo running split {}\".format(i))\n",
    "    X_train, X_val = padded_seq[train_indices], padded_seq[val_indices] \n",
    "    y_train, y_val = y[train_indices], y[val_indices] \n",
    "\n",
    "    model = get_keras_model() # create new model for current split\n",
    "    my_metrics = CustomMetric() # create new metrics instance\n",
    " \n",
    "    # Training process is logged in history object for visualisation purposes\n",
    "    # within each split setting the model is trained several epochs (complete fit)\n",
    "    history = model.fit(X_train, y_train,\n",
    "                        epochs = model_epochs, \n",
    "                        batch_size= 512,\n",
    "                        verbose = 1, \n",
    "                        validation_data=(X_val, y_val),\n",
    "                        callbacks = [my_metrics])\n",
    "    \n",
    "    ############## at the end of each training process: ##################\n",
    "    \n",
    "    my_history_dict[i] = history\n",
    "    my_metrics_dict[i] = my_metrics\n",
    "        \n",
    "    y_val_pred = model.predict(X_val) # prediction on \n",
    "    my_y_val_preds[i] = y_val_pred \n",
    "    my_y_val_targets[i] = y_val\n",
    "    \n",
    "    # Find best threshold for prediction\n",
    "    best_f1 = 0\n",
    "    best_threshold = 0\n",
    "    for threshold in np.arange(0.1,0.5, 0.01):\n",
    "        # calucate f1 score for allowed thresholds\n",
    "        f1_score_threshold = f1_score(y_true = y_val ,\n",
    "                                              y_pred = y_val_pred > threshold) # 0 or 1\n",
    "        if f1_score_threshold > best_f1:\n",
    "            best_f1 = f1_score_threshold\n",
    "            best_threshold = threshold\n",
    "            best_f1_dict[i] = best_f1\n",
    "            best_threshold_dict[i] = best_threshold\n",
    "            \n",
    "    stop_fold = time.time()\n",
    "    print(\"Execution time Fold {}: {}.\".format(i, (stop_fold - start_fold)))\n",
    "    os.system(\"echo Execution time Fold {}: {}.\".format(i, (stop_fold - start_fold)))"
   ]
  },
  {
   "cell_type": "code",
   "execution_count": 18,
   "metadata": {},
   "outputs": [
    {
     "name": "stdout",
     "output_type": "stream",
     "text": [
      "Split: 0 : Best F1 score: 0.6689 reached with a threshold of 0.3200\n",
      "Split: 1 : Best F1 score: 0.6679 reached with a threshold of 0.2700\n",
      "Split: 2 : Best F1 score: 0.6658 reached with a threshold of 0.3100\n",
      "Split: 3 : Best F1 score: 0.6665 reached with a threshold of 0.3200\n",
      "Split: 4 : Best F1 score: 0.6678 reached with a threshold of 0.3700\n",
      "\n",
      "Threshold for prediction: 0.3180\n",
      "Average F1-Score: 0.667\n"
     ]
    }
   ],
   "source": [
    "thresh_avg = 0\n",
    "thresh_sum = 0\n",
    "f1_avg = 0\n",
    "f1_sum = 0\n",
    "\n",
    "for key, value in best_f1_dict.items():\n",
    "    print(\"Split: {} : Best F1 score: {:6.4f} reached with a threshold of {:6.4f}\"\n",
    "          .format(key, best_f1_dict[key], best_threshold_dict[key]))\n",
    "    thresh_sum += best_threshold_dict[key] \n",
    "    thresh_avg = thresh_sum/kfolds\n",
    "    f1_sum += best_f1_dict[key] \n",
    "    f1_avg = f1_sum/kfolds\n",
    "   \n",
    "print(\"\")\n",
    "print(\"Threshold for prediction: {:6.4f}\".format(thresh_avg))\n",
    "print(\"Average F1-Score: {:5.3f}\".format(f1_avg))"
   ]
  },
  {
   "cell_type": "markdown",
   "metadata": {},
   "source": [
    "## Evaluation\n",
    "\n",
    "* For the evaluation of unbalanced datasets the accuracy as e.g. implemented in SKLEARN's function cross_val_score() is NOT recommended\n",
    "* A high F1 score is the target in this competition and combines precision and recall\n",
    "* **Plotting information captured during training by History Object and Callback Object**"
   ]
  },
  {
   "cell_type": "code",
   "execution_count": 19,
   "metadata": {},
   "outputs": [
    {
     "name": "stdout",
     "output_type": "stream",
     "text": [
      "Split: 0 \n"
     ]
    },
    {
     "data": {
      "image/png": "[encoded data removed]",
      "text/plain": [
       "<Figure size 720x216 with 2 Axes>"
      ]
     },
     "metadata": {},
     "output_type": "display_data"
    },
    {
     "name": "stdout",
     "output_type": "stream",
     "text": [
      "Split: 1 \n"
     ]
    },
    {
     "data": {
      "image/png": "[encoded data removed]",
      "text/plain": [
       "<Figure size 720x216 with 2 Axes>"
      ]
     },
     "metadata": {},
     "output_type": "display_data"
    },
    {
     "name": "stdout",
     "output_type": "stream",
     "text": [
      "Split: 2 \n"
     ]
    },
    {
     "data": {
      "image/png": "[encoded data removed]",
      "text/plain": [
       "<Figure size 720x216 with 2 Axes>"
      ]
     },
     "metadata": {},
     "output_type": "display_data"
    },
    {
     "name": "stdout",
     "output_type": "stream",
     "text": [
      "Split: 3 \n"
     ]
    },
    {
     "data": {
      "image/png": "[encoded data removed]",
      "text/plain": [
       "<Figure size 720x216 with 2 Axes>"
      ]
     },
     "metadata": {},
     "output_type": "display_data"
    },
    {
     "name": "stdout",
     "output_type": "stream",
     "text": [
      "Split: 4 \n"
     ]
    },
    {
     "data": {
      "image/png": "[encoded data removed]",
      "text/plain": [
       "<Figure size 720x216 with 2 Axes>"
      ]
     },
     "metadata": {},
     "output_type": "display_data"
    }
   ],
   "source": [
    "for i in my_history_dict:\n",
    "    \n",
    "    print('Split: {} '.format(i))\n",
    "    loss = my_history_dict[i].history['loss']\n",
    "    val_loss = my_history_dict[i].history['val_loss']\n",
    "    epochs = np.arange(1, len(loss) +1, 1) # x-axis\n",
    "\n",
    "    # Plotting:\n",
    "    f = plt.figure(figsize=(10,3))\n",
    "    # plots loss\n",
    "    f.add_subplot(1, 2, 1) # number of rows, number of columns,subplot you're currently on.\n",
    "    plt.xticks(epochs)\n",
    "    plt.plot(epochs, loss, 'bo', label='Loss Training', color = 'black')\n",
    "    plt.plot(epochs, val_loss, 'b', label='Loss Validation')\n",
    "    plt.title('Loss function Training / Validation')\n",
    "    plt.legend()\n",
    " \n",
    "    # plots f1 score\n",
    "    f.add_subplot(1, 2, 2)\n",
    "    best_val_f1s = my_metrics_dict[i].best_val_f1s\n",
    "   # plt.figure()\n",
    "    plt.xticks(epochs)\n",
    "    plt.plot(epochs, best_val_f1s, 'b', label='F1 Validation')\n",
    "    plt.title('F1 Validation')\n",
    "    plt.legend()\n",
    "    \n",
    "    #plt.subplots_adjust(wspace=0.30) # width reserved for blank space between subplots\n",
    "    f.tight_layout()\n",
    "    plt.show()"
   ]
  }
 ],
 "metadata": {
  "kernelspec": {
   "display_name": "Python 3",
   "language": "python",
   "name": "python3"
  },
  "language_info": {
   "codemirror_mode": {
    "name": "ipython",
    "version": 3
   },
   "file_extension": ".py",
   "mimetype": "text/x-python",
   "name": "python",
   "nbconvert_exporter": "python",
   "pygments_lexer": "ipython3",
   "version": "3.6.4"
  }
 },
 "nbformat": 4,
 "nbformat_minor": 1
}
