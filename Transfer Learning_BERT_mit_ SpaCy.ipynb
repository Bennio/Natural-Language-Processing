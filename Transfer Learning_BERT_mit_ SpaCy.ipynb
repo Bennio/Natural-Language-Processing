{
  "nbformat": 4,
  "nbformat_minor": 0,
  "metadata": {
    "colab": {
      "name": "BERT_Spacy_V1.ipynb",
      "provenance": []
    },
    "kernelspec": {
      "name": "python3",
      "display_name": "Python 3"
    },
    "accelerator": "GPU"
  },
  "cells": [
    {
      "cell_type": "markdown",
      "metadata": {
        "id": "ZQkVgxE26yNT",
        "colab_type": "text"
      },
      "source": [
        "**Purpose of this Notebook**\n",
        "\n",
        "As stated in chapter 4.1.3, **Transfer Learning** has set a new state-of-the-art in Natural Language Processing (incl. NLU and NLG comp. chapter 2.2). The idea behind Transfer Learning, which has its origin in Computer Vision, has led to major breakthroughs for NLP in the last two years. Powerful language models were created by training them on a large corpus of unlabeled text data. The result are neural networks which are able to capture general facets/aspects of language by using their internal word and character representations.<br>\n",
        "The developers of the NLP-library spaCy have incorporated state-of-the-art-transformer architecturs such as BERT and XLNet in their model pipeline. **In this notebook the pipeline is used to illustrate how \"Bidirectional Encoder Representations from Transformers (BERT)\" can be used for text classification in the Quora Case.** \n",
        "\n",
        "* BERT Paper: https://arxiv.org/abs/1810.04805\n",
        "\n",
        "\n",
        "Further resources:\n",
        "*   https://github.com/explosion/spacy-transformers\n",
        "*   https://github.com/huggingface/transformers (spacy developers wrapped Hugging Face's transformers)\n",
        "\n",
        "\n",
        "\n"
      ]
    },
    {
      "cell_type": "markdown",
      "metadata": {
        "id": "0Lo3wWVau_1d",
        "colab_type": "text"
      },
      "source": [
        "Inspecting available RAM\n",
        "\n",
        "\n",
        "*   Sometimes Colab does not offer enough RAM (the batches for quora questions to not fit into RAM)\n",
        "*   Topic was discussed here: https://stackoverflow.com/questions/48750199/google-colaboratory-misleading-information-about-its-gpu-only-5-ram-available\n",
        "* The Code below checks avalable GPU RAM"
      ]
    },
    {
      "cell_type": "markdown",
      "metadata": {
        "id": "t5E4lZnh6yHI",
        "colab_type": "text"
      },
      "source": [
        "\n",
        "\n",
        "---\n",
        "\n"
      ]
    },
    {
      "cell_type": "code",
      "metadata": {
        "id": "79vI_1CX-tR6",
        "colab_type": "code",
        "outputId": "1d042387-f778-4c7c-f23f-3ba57246259e",
        "colab": {
          "base_uri": "https://localhost:8080/",
          "height": 239
        }
      },
      "source": [
        "# memory footprint support libraries/code\n",
        "!ln -sf /opt/bin/nvidia-smi /usr/bin/nvidia-smi\n",
        "!pip install gputil\n",
        "!pip install psutil\n",
        "!pip install humanize\n",
        "import psutil\n",
        "import humanize\n",
        "import os\n",
        "import GPUtil as GPU\n",
        "GPUs = GPU.getGPUs()\n",
        "gpu = GPUs[0]"
      ],
      "execution_count": 1,
      "outputs": [
        {
          "output_type": "stream",
          "text": [
            "Collecting gputil\n",
            "  Downloading https://files.pythonhosted.org/packages/ed/0e/5c61eedde9f6c87713e89d794f01e378cfd9565847d4576fa627d758c554/GPUtil-1.4.0.tar.gz\n",
            "Building wheels for collected packages: gputil\n",
            "  Building wheel for gputil (setup.py) ... \u001b[?25l\u001b[?25hdone\n",
            "  Created wheel for gputil: filename=GPUtil-1.4.0-cp36-none-any.whl size=7410 sha256=2f8d54420509baaa97113af4d7aa4dbbc351f82ccfcc1de33ac822eb4d5ff23c\n",
            "  Stored in directory: /root/.cache/pip/wheels/3d/77/07/80562de4bb0786e5ea186911a2c831fdd0018bda69beab71fd\n",
            "Successfully built gputil\n",
            "Installing collected packages: gputil\n",
            "Successfully installed gputil-1.4.0\n",
            "Requirement already satisfied: psutil in /usr/local/lib/python3.6/dist-packages (5.4.8)\n",
            "Requirement already satisfied: humanize in /usr/local/lib/python3.6/dist-packages (0.5.1)\n"
          ],
          "name": "stdout"
        }
      ]
    },
    {
      "cell_type": "code",
      "metadata": {
        "id": "q6Lj18Biu-JQ",
        "colab_type": "code",
        "outputId": "7d7a494c-5e3d-4597-afa4-64afddbc904c",
        "colab": {
          "base_uri": "https://localhost:8080/",
          "height": 54
        }
      },
      "source": [
        "def printm():\n",
        " process = psutil.Process(os.getpid())\n",
        " print(\"Gen RAM Free: \" + humanize.naturalsize( psutil.virtual_memory().available ), \" | Proc size: \" + humanize.naturalsize( process.memory_info().rss))\n",
        " print(\"GPU RAM Free: {0:.0f}MB | Used: {1:.0f}MB | Util {2:3.0f}% | Total {3:.0f}MB\".format(gpu.memoryFree, gpu.memoryUsed, gpu.memoryUtil*100, gpu.memoryTotal))\n",
        " \n",
        "printm()"
      ],
      "execution_count": 2,
      "outputs": [
        {
          "output_type": "stream",
          "text": [
            "Gen RAM Free: 12.8 GB  | Proc size: 155.8 MB\n",
            "GPU RAM Free: 11441MB | Used: 0MB | Util   0% | Total 11441MB\n"
          ],
          "name": "stdout"
        }
      ]
    },
    {
      "cell_type": "markdown",
      "metadata": {
        "id": "Qe6pWFWnBf2u",
        "colab_type": "text"
      },
      "source": [
        "Expectd result: GPU RAM Free: 11441MB"
      ]
    },
    {
      "cell_type": "markdown",
      "metadata": {
        "id": "9DKJwzd3aOmG",
        "colab_type": "text"
      },
      "source": [
        "### **Step 1: Install State-of-the-Art language model BERT**\n",
        "\n",
        "*   https://explosion.ai/blog/spacy-transformers?ref=Welcome.AI\n",
        "\n"
      ]
    },
    {
      "cell_type": "code",
      "metadata": {
        "id": "MFLEtAoB6Vtw",
        "colab_type": "code",
        "colab": {}
      },
      "source": [
        "#!pip install --upgrade spacy"
      ],
      "execution_count": 0,
      "outputs": []
    },
    {
      "cell_type": "code",
      "metadata": {
        "id": "eOjws8NE7Lsi",
        "colab_type": "code",
        "outputId": "1f9de8c3-6a1b-4ce7-e003-78d16ece9622",
        "colab": {
          "base_uri": "https://localhost:8080/",
          "height": 35
        }
      },
      "source": [
        "import spacy\n",
        "print(\"Spacy Version: \", spacy.__version__) # Version 2.2.2 needed"
      ],
      "execution_count": 2,
      "outputs": [
        {
          "output_type": "stream",
          "text": [
            "Spacy Version:  2.2.2\n"
          ],
          "name": "stdout"
        }
      ]
    },
    {
      "cell_type": "code",
      "metadata": {
        "id": "rXDdRHoEZsdO",
        "colab_type": "code",
        "colab": {}
      },
      "source": [
        "#!pip install torch==1.1.0\n",
        "#!pip install spacy-pytorch-transformers[cuda100]==0.5.1\n",
        "#!python -m spacy download en_trf_xlnetbasecased_lg\n",
        "#!python -m spacy download en_trf_bertbaseuncased_lg # only BERT is used in this Notebook"
      ],
      "execution_count": 0,
      "outputs": []
    },
    {
      "cell_type": "markdown",
      "metadata": {
        "id": "sZnby8EjaIcU",
        "colab_type": "text"
      },
      "source": [
        "### **Step 2: Load necessary libraries**"
      ]
    },
    {
      "cell_type": "code",
      "metadata": {
        "id": "3dL5KN81aFvP",
        "colab_type": "code",
        "colab": {}
      },
      "source": [
        "import thinc\n",
        "import random\n",
        "import spacy\n",
        "import GPUtil\n",
        "import torch\n",
        "from spacy.util import minibatch\n",
        "from tqdm.auto import tqdm\n",
        "import unicodedata\n",
        "import wasabi\n",
        "import numpy\n",
        "from collections import Counter\n",
        "import pandas as pd\n",
        "import numpy as np\n",
        "from sklearn.utils import shuffle"
      ],
      "execution_count": 0,
      "outputs": []
    },
    {
      "cell_type": "code",
      "metadata": {
        "id": "W-uAhvKkaK0d",
        "colab_type": "code",
        "outputId": "b197bb3d-2e34-45c1-c923-519ee8268334",
        "colab": {
          "base_uri": "https://localhost:8080/",
          "height": 54
        }
      },
      "source": [
        "print(\"Spacy Version: \", spacy.__version__)\n",
        "print(\"Torch version: \", torch.__version__)"
      ],
      "execution_count": 2,
      "outputs": [
        {
          "output_type": "stream",
          "text": [
            "Spacy Version:  2.2.2\n",
            "Torch version:  1.1.0\n"
          ],
          "name": "stdout"
        }
      ]
    },
    {
      "cell_type": "code",
      "metadata": {
        "id": "W7cQejkKbM6m",
        "colab_type": "code",
        "outputId": "d7fe214c-e4c9-4d8b-84d7-363dc6c60478",
        "colab": {
          "base_uri": "https://localhost:8080/",
          "height": 127
        }
      },
      "source": [
        "# Ensure that GPU is used \n",
        "spacy.util.fix_random_seed(0)\n",
        "is_using_gpu = spacy.prefer_gpu()\n",
        "if is_using_gpu:\n",
        "    print(\"GPU ON!\\n\")\n",
        "    torch.set_default_tensor_type(\"torch.cuda.FloatTensor\")\n",
        "    print(\"GPU Usage\")\n",
        "    GPUtil.showUtilization()"
      ],
      "execution_count": 3,
      "outputs": [
        {
          "output_type": "stream",
          "text": [
            "GPU ON!\n",
            "\n",
            "GPU Usage\n",
            "| ID | GPU | MEM |\n",
            "------------------\n",
            "|  0 |  0% |  1% |\n"
          ],
          "name": "stdout"
        }
      ]
    },
    {
      "cell_type": "markdown",
      "metadata": {
        "id": "tPurjXaDbfxJ",
        "colab_type": "text"
      },
      "source": [
        "### **Step 3: Load Quora dataset**"
      ]
    },
    {
      "cell_type": "code",
      "metadata": {
        "id": "t-WU4K6WbXfM",
        "colab_type": "code",
        "outputId": "daaf0930-01f4-45aa-e098-98e4e1bc408a",
        "colab": {
          "base_uri": "https://localhost:8080/",
          "height": 243
        }
      },
      "source": [
        "from google.colab import drive\n",
        "drive.mount('/content/drive') # Trainset locates in Google Drive. Has to be made available by mounting.\n",
        "df = pd.read_csv(\"/content/drive/My Drive/Colab Notebooks/train.csv\", nrows = 10000) \n",
        "print(df.shape)\n",
        "pd.set_option('display.max_colwidth', 1500)\n",
        "df.head()"
      ],
      "execution_count": 25,
      "outputs": [
        {
          "output_type": "stream",
          "text": [
            "Drive already mounted at /content/drive; to attempt to forcibly remount, call drive.mount(\"/content/drive\", force_remount=True).\n",
            "(10000, 3)\n"
          ],
          "name": "stdout"
        },
        {
          "output_type": "execute_result",
          "data": {
            "text/html": [
              "<div>\n",
              "<style scoped>\n",
              "    .dataframe tbody tr th:only-of-type {\n",
              "        vertical-align: middle;\n",
              "    }\n",
              "\n",
              "    .dataframe tbody tr th {\n",
              "        vertical-align: top;\n",
              "    }\n",
              "\n",
              "    .dataframe thead th {\n",
              "        text-align: right;\n",
              "    }\n",
              "</style>\n",
              "<table border=\"1\" class=\"dataframe\">\n",
              "  <thead>\n",
              "    <tr style=\"text-align: right;\">\n",
              "      <th></th>\n",
              "      <th>qid</th>\n",
              "      <th>question_text</th>\n",
              "      <th>target</th>\n",
              "    </tr>\n",
              "  </thead>\n",
              "  <tbody>\n",
              "    <tr>\n",
              "      <th>0</th>\n",
              "      <td>00002165364db923c7e6</td>\n",
              "      <td>How did Quebec nationalists see their province as a nation in the 1960s?</td>\n",
              "      <td>0</td>\n",
              "    </tr>\n",
              "    <tr>\n",
              "      <th>1</th>\n",
              "      <td>000032939017120e6e44</td>\n",
              "      <td>Do you have an adopted dog, how would you encourage people to adopt and not shop?</td>\n",
              "      <td>0</td>\n",
              "    </tr>\n",
              "    <tr>\n",
              "      <th>2</th>\n",
              "      <td>0000412ca6e4628ce2cf</td>\n",
              "      <td>Why does velocity affect time? Does velocity affect space geometry?</td>\n",
              "      <td>0</td>\n",
              "    </tr>\n",
              "    <tr>\n",
              "      <th>3</th>\n",
              "      <td>000042bf85aa498cd78e</td>\n",
              "      <td>How did Otto von Guericke used the Magdeburg hemispheres?</td>\n",
              "      <td>0</td>\n",
              "    </tr>\n",
              "    <tr>\n",
              "      <th>4</th>\n",
              "      <td>0000455dfa3e01eae3af</td>\n",
              "      <td>Can I convert montra helicon D to a mountain bike by just changing the tyres?</td>\n",
              "      <td>0</td>\n",
              "    </tr>\n",
              "  </tbody>\n",
              "</table>\n",
              "</div>"
            ],
            "text/plain": [
              "                    qid  ... target\n",
              "0  00002165364db923c7e6  ...      0\n",
              "1  000032939017120e6e44  ...      0\n",
              "2  0000412ca6e4628ce2cf  ...      0\n",
              "3  000042bf85aa498cd78e  ...      0\n",
              "4  0000455dfa3e01eae3af  ...      0\n",
              "\n",
              "[5 rows x 3 columns]"
            ]
          },
          "metadata": {
            "tags": []
          },
          "execution_count": 25
        }
      ]
    },
    {
      "cell_type": "markdown",
      "metadata": {
        "id": "oFXFShWUgUZW",
        "colab_type": "text"
      },
      "source": [
        "If the inputs to the transformer don't match how it was pretrained, it will have to rely much more on your small labelled training corpus, leading to lower accuracies."
      ]
    },
    {
      "cell_type": "code",
      "metadata": {
        "id": "igdrtHpr8UMy",
        "colab_type": "code",
        "colab": {}
      },
      "source": [
        "from sklearn.model_selection import train_test_split"
      ],
      "execution_count": 0,
      "outputs": []
    },
    {
      "cell_type": "code",
      "metadata": {
        "id": "lIQONY3zooTj",
        "colab_type": "code",
        "colab": {}
      },
      "source": [
        "def _prepare_partition(text_label_tuples, *, preprocess=False):\n",
        "    texts, labels = zip(*text_label_tuples)\n",
        "    # positive = 0 sincere\n",
        "    # negative = 1 insincere\n",
        "    cats = [{\"POSITIVE\": float(bool(y)), \"NEGATIVE\": float(not bool(y))} for y in labels]\n",
        "    return texts, cats\n",
        "\n",
        "def load_data(df):\n",
        "  # transform data as expected by the Spacy Model\n",
        "  # Create datasets (Only take up to max_seq_length words for memory)\n",
        "  max_seq_length = 130\n",
        "\n",
        "  # Shuffle df\n",
        "  df = shuffle(df)\n",
        "\n",
        "  # Extract relevant data for classification\n",
        "  df_texts = df['question_text'].tolist()\n",
        "  df_texts_padded = [question[:max_seq_length] for question in df_texts]\n",
        "  df_labels = df['target'].tolist()\n",
        "\n",
        "  # Create train-validation split\n",
        "  train_texts_padded, dev_texts_padded, train_labels, dev_labels = train_test_split(df_texts, df_labels, test_size=0.2,\n",
        "                                                                                    stratify = df_labels, random_state=90)\n",
        "\n",
        "  # Create tuples\n",
        "  train_data= zip(train_texts_padded, train_labels)\n",
        "  dev_data = zip(dev_texts_padded, dev_labels)\n",
        "\n",
        "  train_texts, train_labels = _prepare_partition(train_data, preprocess=False)\n",
        "  dev_texts, dev_labels = _prepare_partition(dev_data, preprocess=False)\n",
        "  return (train_texts, train_labels), (dev_texts, dev_labels)"
      ],
      "execution_count": 0,
      "outputs": []
    },
    {
      "cell_type": "code",
      "metadata": {
        "id": "wrA-gqVOoLWJ",
        "colab_type": "code",
        "colab": {}
      },
      "source": [
        "(train_texts, train_cats), (eval_texts, eval_cats) = load_data(df)"
      ],
      "execution_count": 0,
      "outputs": []
    },
    {
      "cell_type": "code",
      "metadata": {
        "id": "va6Yi6kqpvJG",
        "colab_type": "code",
        "outputId": "659d5370-4dfe-4043-fd0a-4bdd070cc2c9",
        "colab": {
          "base_uri": "https://localhost:8080/",
          "height": 54
        }
      },
      "source": [
        "print(eval_texts[0])\n",
        "print(eval_cats[0]) # negative: NOT toxic, insincere"
      ],
      "execution_count": 29,
      "outputs": [
        {
          "output_type": "stream",
          "text": [
            "How can I stop being passive, fatalist, and resigned at 22 years old?\n",
            "{'POSITIVE': 0.0, 'NEGATIVE': 1.0}\n"
          ],
          "name": "stdout"
        }
      ]
    },
    {
      "cell_type": "markdown",
      "metadata": {
        "id": "A-Cmq7sKeWRI",
        "colab_type": "text"
      },
      "source": [
        "### **Step 4: Load Spacy Model and prepare Pipeline**"
      ]
    },
    {
      "cell_type": "code",
      "metadata": {
        "id": "wWWDsCAxebO_",
        "colab_type": "code",
        "outputId": "b765830e-75cc-481a-a07a-06b4c5a7be92",
        "colab": {
          "base_uri": "https://localhost:8080/",
          "height": 54
        }
      },
      "source": [
        "model_choice = \"en_trf_bertbaseuncased_lg\" #  [\"en_trf_bertbaseuncased_lg\", \"en_trf_xlnetbasecased_lg\"]\n",
        "max_wpb = 1000 # number of tokens\n",
        "\n",
        "nlp = spacy.load(model_choice)\n",
        "print(f\"Loaded model '{model_choice}'\")\n",
        "print(nlp.pipe_names)\n",
        "if model_choice == \"en_trf_xlnetbasecased_lg\":\n",
        "  textcat = nlp.create_pipe(\n",
        "          \"trf_textcat\", #config={\"exclusive_classes\": True} #  \"trf_textcat\",\n",
        "        config={\"architecture\": \"softmax_last_hidden\", \"words_per_batch\": max_wpb}\n",
        "      )\n",
        "elif model_choice == \"en_trf_bertbaseuncased_lg\":\n",
        "  textcat = nlp.create_pipe(\n",
        "          \"trf_textcat\", config = {\"architecture\": \"softmax_last_hidden\", \"words_per_batch\": max_wpb}\n",
        "      )\n",
        "else: \n",
        "  print(\"Choose a supported transformer model\")"
      ],
      "execution_count": 30,
      "outputs": [
        {
          "output_type": "stream",
          "text": [
            "Loaded model 'en_trf_bertbaseuncased_lg'\n",
            "['sentencizer', 'trf_wordpiecer', 'trf_tok2vec']\n"
          ],
          "name": "stdout"
        }
      ]
    },
    {
      "cell_type": "markdown",
      "metadata": {
        "id": "Y0ZFjYsmdZyS",
        "colab_type": "text"
      },
      "source": [
        "![alt text](https://d33wubrfki0l68.cloudfront.net/39251284c89675c9f1db57a109d804077e06620e/9ecfb/blog/img/spacy-trf_pipeline.svg)"
      ]
    },
    {
      "cell_type": "markdown",
      "metadata": {
        "id": "m7dvA1hsdKdh",
        "colab_type": "text"
      },
      "source": [
        "A spacy pipline with the following components was created:\n",
        "\n",
        "*  **sentencizer:** splits sentences on punctuation like ., ! or ? [https://spacy.io/usage/linguistic-features#sbd-component]\n",
        "*  **pytt_wordpiecer:** performs the model's wordpiece pre-processing\n",
        "* **pytt_tok2vec**: runs the transformer over the doc, and saves the results into the built-in doc.tensor attribute and several extension attributes \n",
        "* More info: https://explosion.ai/blog/spacy-transformers\n",
        "\n",
        "One Component is still missing: The component for text categorization: *trf_textcat*\n",
        "\n",
        "*  **trf_textcat** is based on spaCys [textCategorizer](https://spacy.io/api/textcategorizer).\n",
        "* The last component in the current pipeline translates the tokens of a sentence in contextual token representations (vectors)\n",
        "* These vectors are then used by trf_textcat to perform the binary classification task for Quora"
      ]
    },
    {
      "cell_type": "code",
      "metadata": {
        "id": "sjproXUOc5xj",
        "colab_type": "code",
        "outputId": "7bed7bd0-ae84-4e67-f30e-6627a9a7c063",
        "colab": {
          "base_uri": "https://localhost:8080/",
          "height": 35
        }
      },
      "source": [
        "# trf_textcat was already initialized above\n",
        "\n",
        "# add label to text classifier\n",
        "textcat.add_label(\"POSITIVE\")\n",
        "textcat.add_label(\"NEGATIVE\")\n",
        "\n",
        "# Add trf_textcat as last pipeline component\n",
        "nlp.add_pipe(textcat, last=True)\n",
        "print(nlp.pipe_names) # pipeline looks like this now"
      ],
      "execution_count": 31,
      "outputs": [
        {
          "output_type": "stream",
          "text": [
            "['sentencizer', 'trf_wordpiecer', 'trf_tok2vec', 'trf_textcat']\n"
          ],
          "name": "stdout"
        }
      ]
    },
    {
      "cell_type": "markdown",
      "metadata": {
        "id": "aCN-x5katTjP",
        "colab_type": "text"
      },
      "source": [
        "### **Step 5: Setting up model hyperparameters**"
      ]
    },
    {
      "cell_type": "code",
      "metadata": {
        "id": "dbN1cRXjs0W6",
        "colab_type": "code",
        "colab": {}
      },
      "source": [
        "n_iter= 10 # = number of epochs\n",
        "# n_texts=75 # Changed number of texts to 75 to relieve pressue on GPU memory\n",
        "batch_size= 64 # batch-szie changed to 4 to relieve pressure on GPU memory\n",
        "learn_rate=1e-5\n",
        "pos_label=\"NEGATIVE\""
      ],
      "execution_count": 0,
      "outputs": []
    },
    {
      "cell_type": "markdown",
      "metadata": {
        "id": "h54Ar91ztahU",
        "colab_type": "text"
      },
      "source": [
        "### **Step 6: Create Evaluation function to monitor learning process**"
      ]
    },
    {
      "cell_type": "markdown",
      "metadata": {
        "id": "Aq3NP0uHtwDw",
        "colab_type": "text"
      },
      "source": [
        "### **Step 6: Model training**"
      ]
    },
    {
      "cell_type": "code",
      "metadata": {
        "id": "k9U5gtZa9-2d",
        "colab_type": "code",
        "outputId": "52d92d39-36ce-40a3-8a71-386a04c49b26",
        "colab": {
          "base_uri": "https://localhost:8080/",
          "height": 109
        }
      },
      "source": [
        "# Model input\n",
        "print(f\"Using {len(train_texts)} training docs, {len(eval_texts)} evaluation \\n\")\n",
        "\n",
        "# Perparing training data input\n",
        "train_data = list(zip(train_texts, [{\"cats\": cats} for cats in train_cats]))\n",
        "print(train_data[0])\n",
        "\n",
        "# Inspecting Validation data\n",
        "print(\"Validation data text: \", eval_texts[0])\n",
        "print(\"Validation data label: \", eval_cats[0])"
      ],
      "execution_count": 33,
      "outputs": [
        {
          "output_type": "stream",
          "text": [
            "Using 8000 training docs, 2000 evaluation \n",
            "\n",
            "('What type of jazz do you prefer?', {'cats': {'POSITIVE': 0.0, 'NEGATIVE': 1.0}})\n",
            "Validation data text:  How can I stop being passive, fatalist, and resigned at 22 years old?\n",
            "Validation data label:  {'POSITIVE': 0.0, 'NEGATIVE': 1.0}\n"
          ],
          "name": "stdout"
        }
      ]
    },
    {
      "cell_type": "code",
      "metadata": {
        "id": "2McLDteCHgtV",
        "colab_type": "code",
        "outputId": "9b1482d1-75a0-4086-a008-6e81269c3c83",
        "colab": {
          "base_uri": "https://localhost:8080/",
          "height": 238
        }
      },
      "source": [
        "is_using_gpu = spacy.prefer_gpu()\n",
        "if is_using_gpu:\n",
        "    torch.set_default_tensor_type(\"torch.cuda.FloatTensor\")\n",
        "\n",
        "#nlp = spacy.load(\"en_trf_bertbaseuncased_lg\")\n",
        "print(nlp.pipe_names) # [\"sentencizer\", \"trf_wordpiecer\", \"trf_tok2vec\"]\n",
        "#textcat = nlp.create_pipe(\"trf_textcat\", config={\"exclusive_classes\": True})\n",
        "#for label in (\"POSITIVE\", \"NEGATIVE\"):\n",
        "#    textcat.add_label(label)\n",
        "#nlp.add_pipe(textcat)\n",
        "print(\"Final_pipeline: \", nlp.pipe_names)\n",
        "\n",
        "optimizer = nlp.resume_training()\n",
        "for i in range(n_iter):\n",
        "    random.shuffle(train_data)\n",
        "    losses = {}\n",
        "    for batch in minibatch(train_data, size=batch_size):       \n",
        "        texts, cats = zip(*batch)\n",
        "        nlp.update(texts, cats, sgd=optimizer, losses=losses)\n",
        "    print(i, losses)"
      ],
      "execution_count": 35,
      "outputs": [
        {
          "output_type": "stream",
          "text": [
            "['sentencizer', 'trf_wordpiecer', 'trf_tok2vec', 'trf_textcat']\n",
            "Final_pipeline:  ['sentencizer', 'trf_wordpiecer', 'trf_tok2vec', 'trf_textcat']\n",
            "0 {'trf_textcat': 0.005422287660508118}\n",
            "1 {'trf_textcat': 0.0036704299391203676}\n",
            "2 {'trf_textcat': 0.0036785598240385298}\n",
            "3 {'trf_textcat': 0.0036680083790088247}\n",
            "4 {'trf_textcat': 0.0036852990774605132}\n",
            "5 {'trf_textcat': 0.003664968149678316}\n",
            "6 {'trf_textcat': 0.0036613988064573277}\n",
            "7 {'trf_textcat': 0.0036661422832366952}\n",
            "8 {'trf_textcat': 0.0036563906329547535}\n",
            "9 {'trf_textcat': 0.003661511973859888}\n"
          ],
          "name": "stdout"
        }
      ]
    },
    {
      "cell_type": "markdown",
      "metadata": {
        "id": "J9jj7Z0HG6Tt",
        "colab_type": "text"
      },
      "source": [
        "Loss of Text Categorizer decreases until it stagnates. The Loss osciallates around 0.0036. The quite low loss looks strange but the implementation of the spacy pipeline seems correct. A possible reason herefore could be the that the model was only fit with a quite small subsample of the original data (because of runtime, resource reasons).\n",
        "Other experiments with a different learning rate even resulted in an increasing loss. Reason herefore could have been a too high learning rate (comp. image below)"
      ]
    },
    {
      "cell_type": "markdown",
      "metadata": {
        "id": "TEacqPRlm2VA",
        "colab_type": "text"
      },
      "source": [
        "![alt text](https://miro.medium.com/max/1106/1*An4tZEyQAYgPAZl396JzWg.png)"
      ]
    },
    {
      "cell_type": "markdown",
      "metadata": {
        "id": "Q6AETD4_m7iu",
        "colab_type": "text"
      },
      "source": [
        "However even using [Cyclical Learning Rates](https://towardsdatascience.com/adaptive-and-cyclical-learning-rates-using-pytorch-2bf904d18dee) did not give the expected results"
      ]
    },
    {
      "cell_type": "markdown",
      "metadata": {
        "id": "qc3G7x6IzR-V",
        "colab_type": "text"
      },
      "source": [
        "### **Step 7: Model prediction**"
      ]
    },
    {
      "cell_type": "code",
      "metadata": {
        "id": "JOwT8rxRys7U",
        "colab_type": "code",
        "colab": {
          "base_uri": "https://localhost:8080/",
          "height": 72
        },
        "outputId": "639d4bd5-8149-4ba6-9b57-a3840256a696"
      },
      "source": [
        "# Test the trained model\n",
        "test_text = eval_texts[0]\n",
        "doc = nlp(test_text)\n",
        "print(\"Sententence to perform Classification on: \\n\", test_text)\n",
        "print(\"Prediction returned by Softmax Function: \", doc.cats)"
      ],
      "execution_count": 36,
      "outputs": [
        {
          "output_type": "stream",
          "text": [
            "Sententence to perform Classification on: \n",
            " How can I stop being passive, fatalist, and resigned at 22 years old?\n",
            "Prediction returned by Softmax Function:  {'POSITIVE': 0.04612243175506592, 'NEGATIVE': 0.9538775682449341}\n"
          ],
          "name": "stdout"
        }
      ]
    },
    {
      "cell_type": "markdown",
      "metadata": {
        "id": "kI-RJMlTHZpB",
        "colab_type": "text"
      },
      "source": [
        "**Prediction is correct:   \n",
        "Model labels question with high confidence as not toxic, which is correct**   \n",
        "(\"NEGATIVE\" indicates class that is NOT TOXIC)"
      ]
    },
    {
      "cell_type": "markdown",
      "metadata": {
        "id": "YkrtPS1wnZyf",
        "colab_type": "text"
      },
      "source": [
        "### **Step 8: Evaluation**\n",
        "\n",
        "*   Spacy provides an easy to use interface to implement state-of-the-art NLP architectures. Positive is that a user does not have to create the inputs for BERT on his own (inputs_ids, segment masks, attention masks) [cf. BERT Implementation via [TensorFlow Hub](https://tfhub.dev/tensorflow/bert_en_uncased_L-12_H-768_A-12/1) ]. However the documentation of [spacy-transformers](https://github.com/explosion/spacy-transformers) still is insufficient because of the following reasons: \n",
        "  * First, it is not clear which config to use for the trf-textcat component. The demo recommends to use {\"architecture\": \"softmax_last_hidden\"}, however this architecture is not described in the [Spacy TextCategorizer Docs](https://spacy.io/api/textcategorizer#architectures). Since the Quora Case is a binary classification task config={\"exclusive_classes\": True} seems to be possible as well.\n",
        "  *   Second, using raw BERT without Fine-Tuning does not lead to different predictions for the Quora questions. Normally the internal representations of BERT should lead to different softmax outputs.\n",
        "  * Third, at the time of this writting it is unclear why it is not possible to only train the trf_textcat component alone without modifying the BERT vector (tok2vec component).\n",
        "  * Furthermore the loss of the trf_textcat component above indicates that there seems to be something wrong with either the spacy implementation of the pytorch-transformers or the current adaption of the [spacy demo for text classification](https://github.com/explosion/spacy-transformers/blob/master/examples/train_textcat.py) to the quora case.\n",
        "  * A problem in the quora case is that the dataset is quite imbalanced. For this reason in the final prototype a search for an optimal threshold was conducted. However the spacy demo fixes a threshold at 0.5, which cannot be done in the Quora case (optimal threshold for the language model predictions are unknown). Because the Spacy pipeline processes documents as a stream (Generator Object) the experimental threshold search, used in the custom Keras model, can not be used.\n"
      ]
    }
  ]
}