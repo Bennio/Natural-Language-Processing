{
 "cells": [
  {
   "cell_type": "markdown",
   "metadata": {},
   "source": [
    "## Data understanding\n",
    "\n",
    "* target of competition is to build a binary text classification model\n",
    "* CRISP-DM is selected as procedure model\n",
    "* Generel assumption: Information contained in the trainset is sufficient to predict the target\n",
    "\n",
    "* Insights already were optained by exploring the dataset - resulted in the following assumptions and decisions:\n",
    "*  the training dataset has a highly unqueal class dictribution. Only about 6.4% of all questions are labled as insincere: EDA: https://www.kaggle.com/sudalairajkumar/simple-exploration-notebook-qiqc\n",
    "* Consequences of this fact below"
   ]
  },
  {
   "cell_type": "markdown",
   "metadata": {},
   "source": [
    "#### Import libraries"
   ]
  },
  {
   "cell_type": "code",
   "execution_count": 1,
   "metadata": {},
   "outputs": [
    {
     "name": "stderr",
     "output_type": "stream",
     "text": [
      "Using TensorFlow backend.\n"
     ]
    }
   ],
   "source": [
    "# General\n",
    "import pandas as pd\n",
    "import numpy as np\n",
    "import os\n",
    "\n",
    "# Preprocessing\n",
    "import re\n",
    "import nltk\n",
    "from nltk.corpus import stopwords\n",
    "stop = set(stopwords.words('english'))\n",
    "from keras.preprocessing.text import Tokenizer\n",
    "from keras.preprocessing.sequence import pad_sequences\n",
    "\n",
    "# Modeling\n",
    "from keras.models import Sequential\n",
    "from keras.layers import Embedding, Flatten, Dense\n",
    "\n",
    "# Training\n",
    "from sklearn.model_selection import StratifiedKFold\n",
    "  # splits train-set into into train and validation folds\n",
    "    \n",
    "# Evaluation\n",
    "from keras.callbacks import Callback\n",
    "from sklearn.metrics import f1_score, precision_score, recall_score\n",
    "import matplotlib.pyplot as plt\n"
   ]
  },
  {
   "cell_type": "markdown",
   "metadata": {},
   "source": [
    "#### Hyperparameters"
   ]
  },
  {
   "cell_type": "code",
   "execution_count": 2,
   "metadata": {},
   "outputs": [],
   "source": [
    "# Fast Run Testing\n",
    "#total_train_samples = 1000 # max is 1306122\n",
    "#total_test_samples = 2000 # max is 375806\n",
    "total_train_samples = 1306122 # max is 1306122\n",
    "total_test_samples = 375806 # max is 375806\n",
    "\n",
    "# Preprocessing\n",
    "maxlen = 100 # max seuquence length (max 100 words of each question is used)\n",
    "max_words = 10000 # only 10k most frequent are used to create the vocabulary\n",
    "\n",
    "# Modeling\n",
    "embedding_dim = 300 # set to 300 to be able to compare with pre-trained embeddings\n",
    "\n",
    "# Training\n",
    "kfolds = 3\n",
    "model_epochs = 10\n"
   ]
  },
  {
   "cell_type": "markdown",
   "metadata": {},
   "source": [
    "## Load Data"
   ]
  },
  {
   "cell_type": "code",
   "execution_count": 3,
   "metadata": {},
   "outputs": [
    {
     "data": {
      "text/plain": [
       "0"
      ]
     },
     "execution_count": 3,
     "metadata": {},
     "output_type": "execute_result"
    }
   ],
   "source": [
    "df = pd.read_csv(\"../input/train.csv\")\n",
    "str_ = 'Train data loaded'\n",
    "os.system('echo '+str_)"
   ]
  },
  {
   "cell_type": "code",
   "execution_count": 4,
   "metadata": {},
   "outputs": [
    {
     "name": "stdout",
     "output_type": "stream",
     "text": [
      "Shape for this run:  1306122 3\n",
      "Shape data tensor: (1306122,)\n",
      "Shape target tensor: (1306122,)\n"
     ]
    },
    {
     "data": {
      "text/html": [
       "<div>\n",
       "<style scoped>\n",
       "    .dataframe tbody tr th:only-of-type {\n",
       "        vertical-align: middle;\n",
       "    }\n",
       "\n",
       "    .dataframe tbody tr th {\n",
       "        vertical-align: top;\n",
       "    }\n",
       "\n",
       "    .dataframe thead th {\n",
       "        text-align: right;\n",
       "    }\n",
       "</style>\n",
       "<table border=\"1\" class=\"dataframe\">\n",
       "  <thead>\n",
       "    <tr style=\"text-align: right;\">\n",
       "      <th></th>\n",
       "      <th>qid</th>\n",
       "      <th>question_text</th>\n",
       "      <th>target</th>\n",
       "    </tr>\n",
       "  </thead>\n",
       "  <tbody>\n",
       "    <tr>\n",
       "      <th>0</th>\n",
       "      <td>00002165364db923c7e6</td>\n",
       "      <td>How did Quebec nationalists see their province as a nation in the 1960s?</td>\n",
       "      <td>0</td>\n",
       "    </tr>\n",
       "    <tr>\n",
       "      <th>1</th>\n",
       "      <td>000032939017120e6e44</td>\n",
       "      <td>Do you have an adopted dog, how would you encourage people to adopt and not shop?</td>\n",
       "      <td>0</td>\n",
       "    </tr>\n",
       "    <tr>\n",
       "      <th>2</th>\n",
       "      <td>0000412ca6e4628ce2cf</td>\n",
       "      <td>Why does velocity affect time? Does velocity affect space geometry?</td>\n",
       "      <td>0</td>\n",
       "    </tr>\n",
       "  </tbody>\n",
       "</table>\n",
       "</div>"
      ],
      "text/plain": [
       "                    qid  ...   target\n",
       "0  00002165364db923c7e6  ...        0\n",
       "1  000032939017120e6e44  ...        0\n",
       "2  0000412ca6e4628ce2cf  ...        0\n",
       "\n",
       "[3 rows x 3 columns]"
      ]
     },
     "execution_count": 4,
     "metadata": {},
     "output_type": "execute_result"
    }
   ],
   "source": [
    "df = df[:total_train_samples] # for Testing purposes\n",
    "num_samples,n = df.shape\n",
    "print(\"Shape for this run: \", num_samples, n)\n",
    "\n",
    "X = df.loc[:, 'question_text'].values\n",
    "y = df.loc[:, 'target'].values\n",
    "\n",
    "# Neural Networks are only able to perform transformations on tensors \n",
    "y = np.asarray(y) # Transformation target labels to numpy array \n",
    "\n",
    "print('Shape data tensor:', X.shape) \n",
    "print('Shape target tensor:', y.shape) # 1D Tensor\n",
    "\n",
    "pd.set_option('display.max_colwidth', 1500) # inrease display column size\n",
    "df.head(3)"
   ]
  },
  {
   "cell_type": "markdown",
   "metadata": {},
   "source": [
    "## Preprocessing\n",
    "\n",
    "* w/o data cleaning\n",
    "* tokenisation only"
   ]
  },
  {
   "cell_type": "markdown",
   "metadata": {},
   "source": [
    "#### Tokenization"
   ]
  },
  {
   "cell_type": "code",
   "execution_count": 5,
   "metadata": {},
   "outputs": [
    {
     "name": "stdout",
     "output_type": "stream",
     "text": [
      "First sentence without tokenization: \n",
      " How did Quebec nationalists see their province as a nation in the 1960s?\n",
      "\n",
      "First sentence tokenized: \n",
      " [[ 0  0  0  0  0  0  0  0  0  0  0  0  0  0  0  0  0  0  0  0  0  0  0  0\n",
      "   0  0  0  0  0  0  0  0  0  0  0  0  0  0  0  0  0  0  0  0  0  0  0  0\n",
      "   0  0  0  0  0  0  0  0  0  0  0  0  0  0  0  0  0  0  0  0  0  0  0  0\n",
      "   0  0  0  0  0  0  0  0  0  0  0  0  0  0  0  1  2  3  4  5  6  7  8  9\n",
      "  10 11 12 13]]\n"
     ]
    }
   ],
   "source": [
    "def my_tokenizer(texts):\n",
    "        tokenizer = Tokenizer(num_words=max_words)\n",
    "        tokenizer.fit_on_texts(texts) \n",
    "        sequences = tokenizer.texts_to_sequences(texts)\n",
    "        padded_seq = pad_sequences(sequences, maxlen=maxlen)  \n",
    "        word_index = tokenizer.word_index  \n",
    "        \n",
    "        return padded_seq, word_index\n",
    "\n",
    "print(\"First sentence without tokenization: \\n\", X[0])\n",
    "print(\"\\nFirst sentence tokenized: \\n\",  my_tokenizer(X[[0]])[0])"
   ]
  },
  {
   "cell_type": "code",
   "execution_count": 6,
   "metadata": {},
   "outputs": [
    {
     "name": "stdout",
     "output_type": "stream",
     "text": [
      "Found 222161 unique tokens\n",
      "the 1\n",
      "what 2\n",
      "is 3\n",
      "a 4\n",
      "to 5\n",
      "in 6\n",
      "of 7\n",
      "i 8\n",
      "how 9\n"
     ]
    }
   ],
   "source": [
    "# Apply tokenization on whole dataset\n",
    "padded_seq, word_index = my_tokenizer(X)\n",
    "print(\"Found {} unique tokens\".format(len(word_index)))\n",
    "\n",
    "# Show first 10 words in the dictionary with their corresponding index\n",
    "for word, index in word_index.items():\n",
    "    if index < 10:\n",
    "        print(word, index)"
   ]
  },
  {
   "cell_type": "markdown",
   "metadata": {},
   "source": [
    "## Load Embeddings and Create Embedding-matrix"
   ]
  },
  {
   "cell_type": "markdown",
   "metadata": {},
   "source": [
    "#### Load GloVe-Embedding\n",
    "\n"
   ]
  },
  {
   "cell_type": "code",
   "execution_count": 7,
   "metadata": {},
   "outputs": [
    {
     "data": {
      "text/plain": [
       "0"
      ]
     },
     "execution_count": 7,
     "metadata": {},
     "output_type": "execute_result"
    }
   ],
   "source": [
    "str_ = 'Loading Embedding...'\n",
    "os.system('echo '+str_)"
   ]
  },
  {
   "cell_type": "code",
   "execution_count": 8,
   "metadata": {},
   "outputs": [
    {
     "name": "stderr",
     "output_type": "stream",
     "text": [
      "/opt/conda/lib/python3.6/site-packages/smart_open/ssh.py:34: UserWarning: paramiko missing, opening SSH/SCP/SFTP paths will be disabled.  `pip install paramiko` to suppress\n",
      "  warnings.warn('paramiko missing, opening SSH/SCP/SFTP paths will be disabled.  `pip install paramiko` to suppress')\n"
     ]
    },
    {
     "name": "stdout",
     "output_type": "stream",
     "text": [
      "Embedding loaded\n"
     ]
    }
   ],
   "source": [
    "from gensim.models import KeyedVectors\n",
    "\n",
    "news_path = '../input/embeddings/GoogleNews-vectors-negative300/GoogleNews-vectors-negative300.bin'\n",
    "embeddings_file = KeyedVectors.load_word2vec_format(news_path, binary=True)\n",
    "str_ = 'Embedding Loaded!'\n",
    "os.system('echo '+str_)\n",
    "\n",
    "print('Embedding loaded')"
   ]
  },
  {
   "cell_type": "markdown",
   "metadata": {},
   "source": [
    "\n",
    "#### Creation Embedding Matrix\n",
    " \n",
    "*     embeddings_dict now contains about 2.2 million words with corresponding vector representation\n",
    "*     However not all these word: vector pairs are needed\n",
    "*     A word representation from the embedding only has to be found for the most frequent 10.000 word within the text corpus (= the questions)\n",
    "*     These 10k words already are contained within word_index dict which was created earlier\n",
    "*     In the following code a embedding matrix is created for the 10k words\n",
    "* Moreover words are counted for which an embedding is not found \n"
   ]
  },
  {
   "cell_type": "code",
   "execution_count": 9,
   "metadata": {},
   "outputs": [
    {
     "name": "stdout",
     "output_type": "stream",
     "text": [
      "Embeddings_matrix created\n",
      "  Shape embedding_matrix: (10000, 300)\n",
      "Found Embeddings for 94.11% of all words\n",
      "Unknown Words: 5.88%\n"
     ]
    },
    {
     "data": {
      "text/plain": [
       "['a', 'to', 'of', 'and', 'quora', \"i'm\", '2017', '2018', '10', '12']"
      ]
     },
     "execution_count": 9,
     "metadata": {},
     "output_type": "execute_result"
    }
   ],
   "source": [
    "embedding_dim = 300 # (vector size 300!)\n",
    "# Creation empty matrix\n",
    "embedding_matrix = np.zeros((max_words, embedding_dim))\n",
    "known_words_list = []\n",
    "unknown_words_list = []\n",
    "\n",
    "# Filling up matrix\n",
    "for word, i in word_index.items(): \n",
    "        # in index data is stored: {word:index, word_index, ..}\n",
    "    if i < max_words: # only use 10k most frequent words\n",
    "        try:\n",
    "            embedding_vector = embeddings_file[word]  \n",
    "            known_words_list.append(word)\n",
    "            embedding_matrix[i] = embedding_vector\n",
    "        except:\n",
    "            unknown_words_list.append(word)\n",
    "            \n",
    "            \n",
    "              # implies that word that are not found get zero vector\n",
    "                \n",
    "print('Embeddings_matrix created')\n",
    "print('  Shape embedding_matrix: {}'.format(embedding_matrix.shape))\n",
    "print('Found Embeddings for {:.2f}% of all words'.format((len(known_words_list) / max_words)*100))\n",
    "print('Unknown Words: {:.2f}%'.format((len(unknown_words_list) / max_words)*100))\n",
    "\n",
    "# Top 10 unknown words\n",
    "unknown_words_list[:10]"
   ]
  },
  {
   "cell_type": "markdown",
   "metadata": {},
   "source": [
    "## Modeling\n",
    "\n",
    "* starting with a simple neural network\n",
    "* model is encapsulated into a function for clarity reasons and to make model easier for later submission \n",
    "* literature recommends not to use pre-trained embeddings in case of the availability of a large dataset. 1.3 million questions are available in the train-set, which should be worth a try. The Embedding Layer tries to derive optimal vectors for the input words. After training the weights of the Embedding Layer represent these vectors.\n",
    "* state-of-the-art loss function for binary classification tasks: **binary_crossentropy**\n",
    "* **optimizer rmsprop** is in most-cases a good choice according to current research literature\n",
    "* using the default learning rate of rmsprop is recommended and applied here"
   ]
  },
  {
   "cell_type": "code",
   "execution_count": 10,
   "metadata": {},
   "outputs": [
    {
     "name": "stdout",
     "output_type": "stream",
     "text": [
      "WARNING:tensorflow:From /opt/conda/lib/python3.6/site-packages/tensorflow/python/framework/op_def_library.py:263: colocate_with (from tensorflow.python.framework.ops) is deprecated and will be removed in a future version.\n",
      "Instructions for updating:\n",
      "Colocations handled automatically by placer.\n",
      "_________________________________________________________________\n",
      "Layer (type)                 Output Shape              Param #   \n",
      "=================================================================\n",
      "embedding_1 (Embedding)      (None, 100, 300)          3000000   \n",
      "_________________________________________________________________\n",
      "flatten_1 (Flatten)          (None, 30000)             0         \n",
      "_________________________________________________________________\n",
      "dense_1 (Dense)              (None, 32)                960032    \n",
      "_________________________________________________________________\n",
      "dense_2 (Dense)              (None, 1)                 33        \n",
      "=================================================================\n",
      "Total params: 3,960,065\n",
      "Trainable params: 960,065\n",
      "Non-trainable params: 3,000,000\n",
      "_________________________________________________________________\n"
     ]
    }
   ],
   "source": [
    "def get_keras_model():\n",
    "    model = Sequential()\n",
    "    model.add(Embedding(input_dim = max_words, # 10k different words/integers\n",
    "                        output_dim = embedding_dim, \n",
    "                        input_length = maxlen)) # seqeuence length 100\n",
    "\n",
    "    model.add(Flatten()) # reduction 3D tensor(embedding output) to 2D tensor\n",
    "    model.add(Dense(32, activation='relu')) \n",
    "    model.add(Dense(1, activation='sigmoid')) # final -  binary classifier\n",
    "    \n",
    "    model.layers[0].set_weights([embedding_matrix]) \n",
    "    # Setting weights not trainable \n",
    "    model.layers[0].trainable = False\n",
    "    \n",
    "    model.compile(optimizer='rmsprop',\n",
    "                  loss='binary_crossentropy',\n",
    "                  metrics=['accuracy'])\n",
    "        \n",
    "    return model\n",
    "\n",
    "get_keras_model().summary()"
   ]
  },
  {
   "cell_type": "markdown",
   "metadata": {},
   "source": [
    "### Training + Evaluation\n",
    "\n",
    "* Input for model are batches of sequences\n",
    "        * Input shape: 2D tensor(matrix): (batch_size, sequence_length).\n",
    "* each sequence has a maximum length of maxlen (here: 100)\n",
    "* Embedding Layer translates Integers of each sequence into dense vectors\n",
    "  (comp. https://keras.io/layers/embeddings/)\n",
    "      * input_length: Length of input sequence\n",
    "* embedding_matrix translates integers into into 3D Tensores of shape:\n",
    "      * Output shape: (batch_size, sequence_length, output_dim)\n",
    "\n",
    "\n",
    "* accuracy metric is not suitable is cases target classes are quite unequal distributed\n",
    "* ROC-AUC also not applicable for the same reason\n",
    "* Suitable Evaluation metrics: Precision, Recall and F1-Score as combination of both. Since these metric functions were removed in Keras 2.0, they are implemented within an own callback below. # class based on:\n",
    "https://medium.com/@thongonary/how-to-compute-f1-score-for-each-epoch-in-keras-a1acd17715a2\n"
   ]
  },
  {
   "cell_type": "code",
   "execution_count": 11,
   "metadata": {},
   "outputs": [],
   "source": [
    "\n",
    "class CustomMetric(Callback):\n",
    "\n",
    "    # Creatin Instance ata the beginning of each epoch\n",
    "    def on_train_begin(self, logs={}):\n",
    "        self.val_f1s = []\n",
    "        self.val_recalls = []\n",
    "        self.val_precisions = []\n",
    "    \n",
    "    # Function called at the end of ery epoch\n",
    "    def on_epoch_end(self, epoch, logs={}):\n",
    "        # as a start simple round function as threshold\n",
    "        val_predict = (np.asarray(self.model.predict(self.validation_data[0]))).round()\n",
    "        val_target = self.validation_data[1]\n",
    "        \n",
    "        _val_f1 = f1_score(y_true = val_target, y_pred = val_predict)\n",
    "        _val_recall = recall_score(y_true = val_target,y_pred = val_predict)\n",
    "        _val_precision = precision_score(y_true = val_target,y_pred = val_predict)\n",
    "        \n",
    "        self.val_f1s.append(_val_f1)\n",
    "        self.val_recalls.append(_val_recall)\n",
    "        self.val_precisions.append(_val_precision)\n",
    "        # print(\"— val_f1: {} — val_precision: {} — val_recall {}\".format(_val_f1, _val_precision, _val_recall))\n",
    "        #print(precision_recall_fscore_support(val_target, val_predict, average = 'binary'))\n",
    "        if epoch%2 == 0:\n",
    "            print(\"  -- epoch: {}\".format(epoch))\n",
    "        return"
   ]
  },
  {
   "cell_type": "markdown",
   "metadata": {},
   "source": [
    "* StratifiedKFold: training is performed \"kfold\"- time, within each fold several epochs are run."
   ]
  },
  {
   "cell_type": "code",
   "execution_count": 12,
   "metadata": {},
   "outputs": [
    {
     "name": "stdout",
     "output_type": "stream",
     "text": [
      "\n",
      "Split: 0  \n",
      " \n",
      "WARNING:tensorflow:From /opt/conda/lib/python3.6/site-packages/tensorflow/python/ops/math_ops.py:3066: to_int32 (from tensorflow.python.ops.math_ops) is deprecated and will be removed in a future version.\n",
      "Instructions for updating:\n",
      "Use tf.cast instead.\n",
      "  -- epoch: 0\n",
      "  -- epoch: 2\n",
      "  -- epoch: 4\n",
      "  -- epoch: 6\n",
      "  -- epoch: 8\n",
      "\n",
      "Split: 1  \n",
      " \n",
      "  -- epoch: 0\n",
      "  -- epoch: 2\n",
      "  -- epoch: 4\n",
      "  -- epoch: 6\n",
      "  -- epoch: 8\n",
      "\n",
      "Split: 2  \n",
      " \n",
      "  -- epoch: 0\n",
      "  -- epoch: 2\n",
      "  -- epoch: 4\n",
      "  -- epoch: 6\n",
      "  -- epoch: 8\n"
     ]
    }
   ],
   "source": [
    "# fold_list contains train and validation indices (folds) for each split\n",
    "folds = list(StratifiedKFold(n_splits=kfolds, shuffle= True, random_state=123)\n",
    "             .split(padded_seq, y))\n",
    "\n",
    "my_metrics = [] # list to collect metrics at the end of each split\n",
    "my_y_val_preds = {} # dictionary to collect model predictions at the end of each split\n",
    "my_y_val_targets = {} # dictionary of true classes at the end of each split\n",
    "best_f1_dict = {}\n",
    "best_threshold_dict = {}\n",
    "my_history_dict = {}\n",
    "my_metrics_dict = {}\n",
    "for i, (train_indices, val_indices) in enumerate(folds):\n",
    "    \n",
    "    print('\\nSplit: {}  \\n '.format(i))\n",
    "    str_ = 'Training with Fold: '\n",
    "    os.system('echo '+ str_ + str(i)) # monitor training process in log\n",
    "    \n",
    "    X_train, X_val = padded_seq[train_indices], padded_seq[val_indices] \n",
    "    y_train, y_val = y[train_indices], y[val_indices] \n",
    "\n",
    "    model = get_keras_model() # create new model for current split\n",
    "    my_metrics = CustomMetric() # create new metrics instance\n",
    " \n",
    "    # Training process is logged in history object for visualition purposes\n",
    "    # within each split setting the model is trained several epochs (complete fit)\n",
    "    history = model.fit(X_train, y_train,\n",
    "                        epochs = model_epochs, \n",
    "                        batch_size= 32,\n",
    "                        verbose = 0, \n",
    "                        validation_data=(X_val, y_val),\n",
    "                        callbacks = [my_metrics])\n",
    "    my_history_dict[i] = history\n",
    "    my_metrics_dict[i] = my_metrics\n",
    "    \n",
    "    y_val_pred = model.predict(X_val) # prediction on \n",
    "    my_y_val_preds[i] = y_val_pred \n",
    "    my_y_val_targets[i] = y_val\n",
    "    \n",
    "    # Find best threshold for prediction\n",
    "    best_f1 = 0\n",
    "    best_threshold = 0\n",
    "    for threshold in np.arange(0.1,0.5, 0.01):\n",
    "        # calucate f1 score for allowed thresholds\n",
    "        f1_score_threshold = f1_score(y_true = y_val ,\n",
    "                                              y_pred = y_val_pred > threshold) # 0 or 1\n",
    "        if f1_score_threshold > best_f1:\n",
    "            best_f1 = f1_score_threshold\n",
    "            best_threshold = threshold\n",
    "            best_f1_dict[i] = best_f1\n",
    "            best_threshold_dict[i] = best_threshold\n"
   ]
  },
  {
   "cell_type": "code",
   "execution_count": 13,
   "metadata": {},
   "outputs": [
    {
     "name": "stdout",
     "output_type": "stream",
     "text": [
      "Split: 0 : Best F1 score: 0.5301 reached with a threshold of 0.2400\n",
      "Split: 1 : Best F1 score: 0.5387 reached with a threshold of 0.3400\n",
      "Split: 2 : Best F1 score: 0.5202 reached with a threshold of 0.2700\n",
      "\n",
      "Threshold for prediction: 0.2833\n",
      "Average F1-Score: 0.530\n"
     ]
    }
   ],
   "source": [
    "\n",
    "\n",
    "thresh_avg = 0\n",
    "thresh_sum = 0\n",
    "f1_avg = 0\n",
    "f1_sum = 0\n",
    "for key, value in best_f1_dict.items():\n",
    "    print(\"Split: {} : Best F1 score: {:6.4f} reached with a threshold of {:6.4f}\"\n",
    "          .format(key, best_f1_dict[key], best_threshold_dict[key]))\n",
    "    thresh_sum += best_threshold_dict[key] \n",
    "    thresh_avg = thresh_sum/kfolds\n",
    "    f1_sum += best_f1_dict[key] \n",
    "    f1_avg = f1_sum/kfolds\n",
    "   \n",
    "print(\"\")\n",
    "print(\"Threshold for prediction: {:6.4f}\".format(thresh_avg))\n",
    "print(\"Average F1-Score: {:5.3f}\".format(f1_avg))\n",
    "\n"
   ]
  },
  {
   "cell_type": "markdown",
   "metadata": {},
   "source": [
    "## Evaluation\n",
    "\n",
    "* For the evaluation of unbalanced datasets the accuracy as e.g. implemented in SKLEARN's function cross_val_score() is NOT recommended\n",
    "* A high F1 score is the target in this competition\n"
   ]
  },
  {
   "cell_type": "code",
   "execution_count": 14,
   "metadata": {},
   "outputs": [
    {
     "name": "stdout",
     "output_type": "stream",
     "text": [
      "Split: 0 \n"
     ]
    },
    {
     "data": {
      "image/png": "[encoded data removed]",
      "text/plain": [
       "<Figure size 432x288 with 1 Axes>"
      ]
     },
     "metadata": {},
     "output_type": "display_data"
    },
    {
     "data": {
      "image/png": "[encoded data removed]",
      "text/plain": [
       "<Figure size 432x288 with 1 Axes>"
      ]
     },
     "metadata": {},
     "output_type": "display_data"
    },
    {
     "name": "stdout",
     "output_type": "stream",
     "text": [
      "Split: 1 \n"
     ]
    },
    {
     "data": {
      "image/png": "[encoded data removed]",
      "text/plain": [
       "<Figure size 432x288 with 1 Axes>"
      ]
     },
     "metadata": {},
     "output_type": "display_data"
    },
    {
     "data": {
      "image/png": "[encoded data removed]",
      "text/plain": [
       "<Figure size 432x288 with 1 Axes>"
      ]
     },
     "metadata": {},
     "output_type": "display_data"
    },
    {
     "name": "stdout",
     "output_type": "stream",
     "text": [
      "Split: 2 \n"
     ]
    },
    {
     "data": {
      "image/png": "[encoded data removed]",
      "text/plain": [
       "<Figure size 432x288 with 1 Axes>"
      ]
     },
     "metadata": {},
     "output_type": "display_data"
    },
    {
     "data": {
      "image/png": "[encoded data removed]",
      "text/plain": [
       "<Figure size 432x288 with 1 Axes>"
      ]
     },
     "metadata": {},
     "output_type": "display_data"
    }
   ],
   "source": [
    "for hist in my_history_dict:\n",
    "    \n",
    "    print('Split: {} '.format(hist))\n",
    "    loss = my_history_dict[hist].history['loss']\n",
    "    val_loss = my_history_dict[hist].history['val_loss']\n",
    "    epochs = np.arange(1, len(loss) +1, 1) # x-axis\n",
    "\n",
    "    plt.figure()\n",
    "    plt.xticks(epochs)\n",
    "    plt.plot(epochs, loss, 'bo', label='Loss Training', color = 'black')\n",
    "    plt.plot(epochs, val_loss, 'b', label='Loss Validation')\n",
    "    plt.title('Loss function Training / Validation')\n",
    "    plt.legend()\n",
    " \n",
    "    val_f1 = my_metrics_dict[hist].val_f1s\n",
    "    plt.figure()\n",
    "    plt.xticks(epochs)\n",
    "    plt.plot(epochs, val_f1, 'b', label='F1 Validation')\n",
    "    plt.title('F1 Validation')\n",
    "    plt.legend()\n",
    "    \n",
    "    plt.show()"
   ]
  }
 ],
 "metadata": {
  "kernelspec": {
   "display_name": "Python 3",
   "language": "python",
   "name": "python3"
  },
  "language_info": {
   "codemirror_mode": {
    "name": "ipython",
    "version": 3
   },
   "file_extension": ".py",
   "mimetype": "text/x-python",
   "name": "python",
   "nbconvert_exporter": "python",
   "pygments_lexer": "ipython3",
   "version": "3.6.8"
  }
 },
 "nbformat": 4,
 "nbformat_minor": 1
}
