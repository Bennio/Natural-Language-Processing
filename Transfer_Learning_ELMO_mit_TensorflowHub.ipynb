{
  "nbformat": 4,
  "nbformat_minor": 0,
  "metadata": {
    "accelerator": "GPU",
    "colab": {
      "name": "Final Transfer Learning ELMO with TensorflowHub.ipynb",
      "provenance": []
    },
    "kernelspec": {
      "display_name": "Python 3",
      "language": "python",
      "name": "python3"
    },
    "language_info": {
      "codemirror_mode": {
        "name": "ipython",
        "version": 3
      },
      "file_extension": ".py",
      "mimetype": "text/x-python",
      "name": "python",
      "nbconvert_exporter": "python",
      "pygments_lexer": "ipython3",
      "version": "3.7.3"
    },
    "widgets": {
      "application/vnd.jupyter.widget-state+json": {
        "state": {
          "16a7b0f1d6f742c882aad05623091c4e": {
            "model_module": "@jupyter-widgets/base",
            "model_module_version": "1.1.0",
            "model_name": "LayoutModel",
            "state": {
              "_model_module": "@jupyter-widgets/base",
              "_model_module_version": "1.1.0",
              "_model_name": "LayoutModel",
              "_view_count": null,
              "_view_module": "@jupyter-widgets/base",
              "_view_module_version": "1.1.0",
              "_view_name": "LayoutView",
              "align_content": null,
              "align_items": null,
              "align_self": null,
              "border": null,
              "bottom": null,
              "display": null,
              "flex": null,
              "flex_flow": null,
              "grid_area": null,
              "grid_auto_columns": null,
              "grid_auto_flow": null,
              "grid_auto_rows": null,
              "grid_column": null,
              "grid_gap": null,
              "grid_row": null,
              "grid_template_areas": null,
              "grid_template_columns": null,
              "grid_template_rows": null,
              "height": null,
              "justify_content": null,
              "left": null,
              "margin": null,
              "max_height": null,
              "max_width": null,
              "min_height": null,
              "min_width": null,
              "order": null,
              "overflow": null,
              "overflow_x": null,
              "overflow_y": null,
              "padding": null,
              "right": null,
              "top": null,
              "visibility": null,
              "width": null
            }
          },
          "1f728f801c744ab595ebf72752b5ced5": {
            "model_module": "@jupyter-widgets/base",
            "model_module_version": "1.1.0",
            "model_name": "LayoutModel",
            "state": {
              "_model_module": "@jupyter-widgets/base",
              "_model_module_version": "1.1.0",
              "_model_name": "LayoutModel",
              "_view_count": null,
              "_view_module": "@jupyter-widgets/base",
              "_view_module_version": "1.1.0",
              "_view_name": "LayoutView",
              "align_content": null,
              "align_items": null,
              "align_self": null,
              "border": null,
              "bottom": null,
              "display": null,
              "flex": null,
              "flex_flow": null,
              "grid_area": null,
              "grid_auto_columns": null,
              "grid_auto_flow": null,
              "grid_auto_rows": null,
              "grid_column": null,
              "grid_gap": null,
              "grid_row": null,
              "grid_template_areas": null,
              "grid_template_columns": null,
              "grid_template_rows": null,
              "height": null,
              "justify_content": null,
              "left": null,
              "margin": null,
              "max_height": null,
              "max_width": null,
              "min_height": null,
              "min_width": null,
              "order": null,
              "overflow": null,
              "overflow_x": null,
              "overflow_y": null,
              "padding": null,
              "right": null,
              "top": null,
              "visibility": null,
              "width": null
            }
          },
          "363d600149ac4c968a11021436879bd8": {
            "model_module": "@jupyter-widgets/base",
            "model_module_version": "1.1.0",
            "model_name": "LayoutModel",
            "state": {
              "_model_module": "@jupyter-widgets/base",
              "_model_module_version": "1.1.0",
              "_model_name": "LayoutModel",
              "_view_count": null,
              "_view_module": "@jupyter-widgets/base",
              "_view_module_version": "1.1.0",
              "_view_name": "LayoutView",
              "align_content": null,
              "align_items": null,
              "align_self": null,
              "border": null,
              "bottom": null,
              "display": null,
              "flex": null,
              "flex_flow": null,
              "grid_area": null,
              "grid_auto_columns": null,
              "grid_auto_flow": null,
              "grid_auto_rows": null,
              "grid_column": null,
              "grid_gap": null,
              "grid_row": null,
              "grid_template_areas": null,
              "grid_template_columns": null,
              "grid_template_rows": null,
              "height": null,
              "justify_content": null,
              "left": null,
              "margin": null,
              "max_height": null,
              "max_width": null,
              "min_height": null,
              "min_width": null,
              "order": null,
              "overflow": null,
              "overflow_x": null,
              "overflow_y": null,
              "padding": null,
              "right": null,
              "top": null,
              "visibility": null,
              "width": null
            }
          },
          "3a79e0ad1040477bab16ff71753a29f6": {
            "model_module": "@jupyter-widgets/controls",
            "model_module_version": "1.4.0",
            "model_name": "HTMLModel",
            "state": {
              "_dom_classes": [],
              "_model_module": "@jupyter-widgets/controls",
              "_model_module_version": "1.4.0",
              "_model_name": "HTMLModel",
              "_view_count": null,
              "_view_module": "@jupyter-widgets/controls",
              "_view_module_version": "1.4.0",
              "_view_name": "HTMLView",
              "description": "",
              "description_tooltip": null,
              "layout": "IPY_MODEL_45961449249c491591ec9cdedbb66734",
              "placeholder": "​",
              "style": "IPY_MODEL_40549984a90747adbee35000b8038f4d",
              "value": "100% 1306122/1306122 [03:33&lt;00:00, 6118.05it/s]"
            }
          },
          "40549984a90747adbee35000b8038f4d": {
            "model_module": "@jupyter-widgets/controls",
            "model_module_version": "1.4.0",
            "model_name": "DescriptionStyleModel",
            "state": {
              "_model_module": "@jupyter-widgets/controls",
              "_model_module_version": "1.4.0",
              "_model_name": "DescriptionStyleModel",
              "_view_count": null,
              "_view_module": "@jupyter-widgets/base",
              "_view_module_version": "1.1.0",
              "_view_name": "StyleView",
              "description_width": ""
            }
          },
          "45961449249c491591ec9cdedbb66734": {
            "model_module": "@jupyter-widgets/base",
            "model_module_version": "1.1.0",
            "model_name": "LayoutModel",
            "state": {
              "_model_module": "@jupyter-widgets/base",
              "_model_module_version": "1.1.0",
              "_model_name": "LayoutModel",
              "_view_count": null,
              "_view_module": "@jupyter-widgets/base",
              "_view_module_version": "1.1.0",
              "_view_name": "LayoutView",
              "align_content": null,
              "align_items": null,
              "align_self": null,
              "border": null,
              "bottom": null,
              "display": null,
              "flex": null,
              "flex_flow": null,
              "grid_area": null,
              "grid_auto_columns": null,
              "grid_auto_flow": null,
              "grid_auto_rows": null,
              "grid_column": null,
              "grid_gap": null,
              "grid_row": null,
              "grid_template_areas": null,
              "grid_template_columns": null,
              "grid_template_rows": null,
              "height": null,
              "justify_content": null,
              "left": null,
              "margin": null,
              "max_height": null,
              "max_width": null,
              "min_height": null,
              "min_width": null,
              "order": null,
              "overflow": null,
              "overflow_x": null,
              "overflow_y": null,
              "padding": null,
              "right": null,
              "top": null,
              "visibility": null,
              "width": null
            }
          },
          "4b7d0a559b3049c1b6428add65f2e527": {
            "model_module": "@jupyter-widgets/controls",
            "model_module_version": "1.4.0",
            "model_name": "HBoxModel",
            "state": {
              "_dom_classes": [],
              "_model_module": "@jupyter-widgets/controls",
              "_model_module_version": "1.4.0",
              "_model_name": "HBoxModel",
              "_view_count": null,
              "_view_module": "@jupyter-widgets/controls",
              "_view_module_version": "1.4.0",
              "_view_name": "HBoxView",
              "box_style": "",
              "children": [
                "IPY_MODEL_c4a51bdd8ea949429502e4d6673c952a",
                "IPY_MODEL_3a79e0ad1040477bab16ff71753a29f6"
              ],
              "layout": "IPY_MODEL_c935cd1be9a64ad1b0b34bcbba50d95e"
            }
          },
          "58aa8c9e0b1949309b9eb474eedab1f4": {
            "model_module": "@jupyter-widgets/controls",
            "model_module_version": "1.4.0",
            "model_name": "HTMLModel",
            "state": {
              "_dom_classes": [],
              "_model_module": "@jupyter-widgets/controls",
              "_model_module_version": "1.4.0",
              "_model_name": "HTMLModel",
              "_view_count": null,
              "_view_module": "@jupyter-widgets/controls",
              "_view_module_version": "1.4.0",
              "_view_name": "HTMLView",
              "description": "",
              "description_tooltip": null,
              "layout": "IPY_MODEL_363d600149ac4c968a11021436879bd8",
              "placeholder": "​",
              "style": "IPY_MODEL_eb74fbd46e534438af6f51757d0822d3",
              "value": "0/|/| 0/? [00:00&lt;?, ?it/s]"
            }
          },
          "714a4965c0154db3bb6f4beb125ae739": {
            "model_module": "@jupyter-widgets/controls",
            "model_module_version": "1.4.0",
            "model_name": "ProgressStyleModel",
            "state": {
              "_model_module": "@jupyter-widgets/controls",
              "_model_module_version": "1.4.0",
              "_model_name": "ProgressStyleModel",
              "_view_count": null,
              "_view_module": "@jupyter-widgets/base",
              "_view_module_version": "1.1.0",
              "_view_name": "StyleView",
              "bar_color": null,
              "description_width": ""
            }
          },
          "85c932b4570f4a2ea7af8b123d0e9c69": {
            "model_module": "@jupyter-widgets/controls",
            "model_module_version": "1.4.0",
            "model_name": "HBoxModel",
            "state": {
              "_dom_classes": [],
              "_model_module": "@jupyter-widgets/controls",
              "_model_module_version": "1.4.0",
              "_model_name": "HBoxModel",
              "_view_count": null,
              "_view_module": "@jupyter-widgets/controls",
              "_view_module_version": "1.4.0",
              "_view_name": "HBoxView",
              "box_style": "",
              "children": [
                "IPY_MODEL_bba3a80bfaf444d7b5abd28ad60b3460",
                "IPY_MODEL_58aa8c9e0b1949309b9eb474eedab1f4"
              ],
              "layout": "IPY_MODEL_1f728f801c744ab595ebf72752b5ced5"
            }
          },
          "bba3a80bfaf444d7b5abd28ad60b3460": {
            "model_module": "@jupyter-widgets/controls",
            "model_module_version": "1.4.0",
            "model_name": "IntProgressModel",
            "state": {
              "_dom_classes": [],
              "_model_module": "@jupyter-widgets/controls",
              "_model_module_version": "1.4.0",
              "_model_name": "IntProgressModel",
              "_view_count": null,
              "_view_module": "@jupyter-widgets/controls",
              "_view_module_version": "1.4.0",
              "_view_name": "ProgressView",
              "bar_style": "success",
              "description": "",
              "description_tooltip": null,
              "layout": "IPY_MODEL_cae1b9b403054b14924940ca65a3a969",
              "max": 1,
              "min": 0,
              "orientation": "horizontal",
              "style": "IPY_MODEL_714a4965c0154db3bb6f4beb125ae739",
              "value": 1
            }
          },
          "c4a51bdd8ea949429502e4d6673c952a": {
            "model_module": "@jupyter-widgets/controls",
            "model_module_version": "1.4.0",
            "model_name": "IntProgressModel",
            "state": {
              "_dom_classes": [],
              "_model_module": "@jupyter-widgets/controls",
              "_model_module_version": "1.4.0",
              "_model_name": "IntProgressModel",
              "_view_count": null,
              "_view_module": "@jupyter-widgets/controls",
              "_view_module_version": "1.4.0",
              "_view_name": "ProgressView",
              "bar_style": "success",
              "description": "",
              "description_tooltip": null,
              "layout": "IPY_MODEL_16a7b0f1d6f742c882aad05623091c4e",
              "max": 1306122,
              "min": 0,
              "orientation": "horizontal",
              "style": "IPY_MODEL_ea5b3d6bbaee467a9600adbbf170b745",
              "value": 1306122
            }
          },
          "c935cd1be9a64ad1b0b34bcbba50d95e": {
            "model_module": "@jupyter-widgets/base",
            "model_module_version": "1.1.0",
            "model_name": "LayoutModel",
            "state": {
              "_model_module": "@jupyter-widgets/base",
              "_model_module_version": "1.1.0",
              "_model_name": "LayoutModel",
              "_view_count": null,
              "_view_module": "@jupyter-widgets/base",
              "_view_module_version": "1.1.0",
              "_view_name": "LayoutView",
              "align_content": null,
              "align_items": null,
              "align_self": null,
              "border": null,
              "bottom": null,
              "display": null,
              "flex": null,
              "flex_flow": null,
              "grid_area": null,
              "grid_auto_columns": null,
              "grid_auto_flow": null,
              "grid_auto_rows": null,
              "grid_column": null,
              "grid_gap": null,
              "grid_row": null,
              "grid_template_areas": null,
              "grid_template_columns": null,
              "grid_template_rows": null,
              "height": null,
              "justify_content": null,
              "left": null,
              "margin": null,
              "max_height": null,
              "max_width": null,
              "min_height": null,
              "min_width": null,
              "order": null,
              "overflow": null,
              "overflow_x": null,
              "overflow_y": null,
              "padding": null,
              "right": null,
              "top": null,
              "visibility": null,
              "width": null
            }
          },
          "cae1b9b403054b14924940ca65a3a969": {
            "model_module": "@jupyter-widgets/base",
            "model_module_version": "1.1.0",
            "model_name": "LayoutModel",
            "state": {
              "_model_module": "@jupyter-widgets/base",
              "_model_module_version": "1.1.0",
              "_model_name": "LayoutModel",
              "_view_count": null,
              "_view_module": "@jupyter-widgets/base",
              "_view_module_version": "1.1.0",
              "_view_name": "LayoutView",
              "align_content": null,
              "align_items": null,
              "align_self": null,
              "border": null,
              "bottom": null,
              "display": null,
              "flex": null,
              "flex_flow": null,
              "grid_area": null,
              "grid_auto_columns": null,
              "grid_auto_flow": null,
              "grid_auto_rows": null,
              "grid_column": null,
              "grid_gap": null,
              "grid_row": null,
              "grid_template_areas": null,
              "grid_template_columns": null,
              "grid_template_rows": null,
              "height": null,
              "justify_content": null,
              "left": null,
              "margin": null,
              "max_height": null,
              "max_width": null,
              "min_height": null,
              "min_width": null,
              "order": null,
              "overflow": null,
              "overflow_x": null,
              "overflow_y": null,
              "padding": null,
              "right": null,
              "top": null,
              "visibility": null,
              "width": null
            }
          },
          "ea5b3d6bbaee467a9600adbbf170b745": {
            "model_module": "@jupyter-widgets/controls",
            "model_module_version": "1.4.0",
            "model_name": "ProgressStyleModel",
            "state": {
              "_model_module": "@jupyter-widgets/controls",
              "_model_module_version": "1.4.0",
              "_model_name": "ProgressStyleModel",
              "_view_count": null,
              "_view_module": "@jupyter-widgets/base",
              "_view_module_version": "1.1.0",
              "_view_name": "StyleView",
              "bar_color": null,
              "description_width": ""
            }
          },
          "eb74fbd46e534438af6f51757d0822d3": {
            "model_module": "@jupyter-widgets/controls",
            "model_module_version": "1.4.0",
            "model_name": "DescriptionStyleModel",
            "state": {
              "_model_module": "@jupyter-widgets/controls",
              "_model_module_version": "1.4.0",
              "_model_name": "DescriptionStyleModel",
              "_view_count": null,
              "_view_module": "@jupyter-widgets/base",
              "_view_module_version": "1.1.0",
              "_view_name": "StyleView",
              "description_width": ""
            }
          }
        },
        "version_major": 2,
        "version_minor": 0
      }
    }
  },
  "cells": [
    {
      "cell_type": "markdown",
      "metadata": {
        "colab_type": "text",
        "id": "7G0eBON4CeHe"
      },
      "source": [
        "# **Purpose of this kernel**\n",
        "\n",
        "- Kernel illustrates the usage of **ELMO embeddings** for the Quora Insincere Questions Classifiation Dataset (showcase)\n",
        "- The elmo model from [TensorFlow Hub](https://www.tensorflow.org/hub) is used: **TensorflowHub is a \"library for reusable machine learning modules\" (enables transfer learning by using pre-trained models)**\n",
        "- Embedding from Language Models (ELMO) are contextualized word representations using character-based word representations and bidirectional LSTM and already were presented in chapter 4.1.3.\n",
        "- **Respective Research Paper:** Matthew E. Peters, Mark Neumann, Mohit Iyyer, Matt Gardner, Christopher Clark, Kenton Lee, Luke Zettlemoyer. [Deep contextualized word representations](https://arxiv.org/abs/1802.05365). arXiv preprint arXiv:1802.05365,  2018."
      ]
    },
    {
      "cell_type": "markdown",
      "metadata": {
        "colab_type": "text",
        "id": "886yzAs_DDAa"
      },
      "source": [
        "* **Important: Notebook must be run with the old tensorflow version (1.X. not 2.X),because ELMO is not available in Tensorflow 2.0 yet**\n",
        "    * https://stackoverflow.com/questions/55585079/can-a-tensorflow-hub-module-be-used-in-tensorflow-2-0\n",
        "    * https://github.com/tensorflow/hub/issues/412 \n",
        "    * Generally in Tensorflow 2.0 hub.load() or hub.KerasLayer() should be used. <br></br>\n",
        "* Kernel was run on GPU with Cuda/CuDNN to accelerate Model training. However [the elmo module is quite computationally expensive](https://tfhub.dev/google/elmo/2) compared to word embeddings such as fasttext oder glove. For this reason this notebook is only a showcase with a small subset of the Quora data.\n"
      ]
    },
    {
      "cell_type": "markdown",
      "metadata": {
        "id": "9ZN_YSN8o3xp",
        "colab_type": "text"
      },
      "source": [
        "#### Functions that show free memory available\n",
        "\n",
        "* Several GB are necessary to run this notebook\n",
        "* If the notebook crashes below, reducing the batch size can help\n",
        "* Currently the batch size is 256. The Keras-only prototype was run in a Kaggle Kernel whith a batch size of 512."
      ]
    },
    {
      "cell_type": "code",
      "metadata": {
        "colab_type": "code",
        "id": "B50CDDyVKW5K",
        "outputId": "0bfe3a7f-2d42-49b6-c929-f8a626047bb0",
        "colab": {
          "base_uri": "https://localhost:8080/",
          "height": 239
        }
      },
      "source": [
        "!ln -sf /opt/bin/nvidia-smi /usr/bin/nvidia-smi\n",
        "!pip install gputil\n",
        "!pip install psutil\n",
        "!pip install humanize\n",
        "import psutil\n",
        "import humanize\n",
        "import os\n",
        "import GPUtil as GPU\n",
        "GPUs = GPU.getGPUs()\n",
        "gpu = GPUs[0]"
      ],
      "execution_count": 1,
      "outputs": [
        {
          "output_type": "stream",
          "text": [
            "Collecting gputil\n",
            "  Downloading https://files.pythonhosted.org/packages/ed/0e/5c61eedde9f6c87713e89d794f01e378cfd9565847d4576fa627d758c554/GPUtil-1.4.0.tar.gz\n",
            "Building wheels for collected packages: gputil\n",
            "  Building wheel for gputil (setup.py) ... \u001b[?25l\u001b[?25hdone\n",
            "  Created wheel for gputil: filename=GPUtil-1.4.0-cp36-none-any.whl size=7410 sha256=4648694bd2c815182ccbe8a4a21f7f9cd91932ace618bca3965d51424f3def35\n",
            "  Stored in directory: /root/.cache/pip/wheels/3d/77/07/80562de4bb0786e5ea186911a2c831fdd0018bda69beab71fd\n",
            "Successfully built gputil\n",
            "Installing collected packages: gputil\n",
            "Successfully installed gputil-1.4.0\n",
            "Requirement already satisfied: psutil in /usr/local/lib/python3.6/dist-packages (5.4.8)\n",
            "Requirement already satisfied: humanize in /usr/local/lib/python3.6/dist-packages (0.5.1)\n"
          ],
          "name": "stdout"
        }
      ]
    },
    {
      "cell_type": "code",
      "metadata": {
        "colab_type": "code",
        "id": "pW7nlZBUKagx",
        "outputId": "6a5c03be-2143-4110-f1c9-a3cc95d4d3ab",
        "colab": {
          "base_uri": "https://localhost:8080/",
          "height": 54
        }
      },
      "source": [
        "def printm():\n",
        " process = psutil.Process(os.getpid())\n",
        " print(\"Gen RAM Free: \" + humanize.naturalsize( psutil.virtual_memory().available ), \" | Proc size: \" + humanize.naturalsize( process.memory_info().rss))\n",
        " print(\"GPU RAM Free: {0:.0f}MB | Used: {1:.0f}MB | Util {2:3.0f}% | Total {3:.0f}MB\".format(gpu.memoryFree, gpu.memoryUsed, gpu.memoryUtil*100, gpu.memoryTotal))\n",
        " \n",
        "printm()"
      ],
      "execution_count": 2,
      "outputs": [
        {
          "output_type": "stream",
          "text": [
            "Gen RAM Free: 12.8 GB  | Proc size: 157.1 MB\n",
            "GPU RAM Free: 16280MB | Used: 0MB | Util   0% | Total 16280MB\n"
          ],
          "name": "stdout"
        }
      ]
    },
    {
      "cell_type": "markdown",
      "metadata": {
        "id": "wLCzsQgRo3yC",
        "colab_type": "text"
      },
      "source": [
        "Google Colab offers 11GB RAM"
      ]
    },
    {
      "cell_type": "markdown",
      "metadata": {
        "colab_type": "text",
        "id": "6z1z4eUVCeHk"
      },
      "source": [
        "### **Import libraries**"
      ]
    },
    {
      "cell_type": "code",
      "metadata": {
        "colab_type": "code",
        "id": "C0Q2hvXXCeHp",
        "outputId": "11ecd71e-105d-4cfa-d6ea-cda4e1450d19",
        "colab": {
          "base_uri": "https://localhost:8080/",
          "height": 54
        }
      },
      "source": [
        "%%capture --no-stdout\n",
        "\n",
        "# General\n",
        "import pandas as pd\n",
        "import numpy as np\n",
        "import os\n",
        "import gc # Garbage Collection to delete references and instances which are not needed anymore (Memory Management)\n",
        "import sys\n",
        "import time # To monitor execution time of different code sections\n",
        "\n",
        "# Preprocessing\n",
        "import seaborn as sns\n",
        "import re\n",
        "from re import *\n",
        "from keras.preprocessing.text import Tokenizer\n",
        "from keras.preprocessing.sequence import pad_sequences\n",
        "from gensim.models import KeyedVectors\n",
        "import nltk\n",
        "nltk.download('punkt')\n",
        "from nltk.stem import PorterStemmer\n",
        "from nltk.stem.lancaster import LancasterStemmer\n",
        "from nltk.stem import SnowballStemmer \n",
        "from nltk import pos_tag, word_tokenize\n",
        "from nltk.corpus import wordnet as wn\n",
        "lemmatizer = nltk.WordNetLemmatizer() # lemmatizer checks english word net\n",
        "\n",
        "# Modeling\n",
        "import tensorflow as tf\n",
        "import tensorflow_hub as hub\n",
        "from keras.models import Sequential\n",
        "from keras.layers import Embedding, Flatten, Dense\n",
        "from keras.layers import SimpleRNN, GRU, Bidirectional, LSTM,CuDNNLSTM, CuDNNGRU\n",
        "from keras.layers import SpatialDropout1D\n",
        "from keras.layers.pooling import GlobalMaxPooling1D\n",
        "from keras import backend\n",
        "from keras import backend as K\n",
        "import keras.layers as layers\n",
        "from keras.models import Model, load_model\n",
        "from keras.engine import Layer\n",
        "\n",
        "# Training\n",
        "# from sklearn.model_selection import StratifiedKFold\n",
        "from sklearn.model_selection import StratifiedShuffleSplit\n",
        "\n",
        "# Evaluation\n",
        "from keras.callbacks import Callback\n",
        "from sklearn.metrics import f1_score, precision_score, recall_score\n",
        "from sklearn.metrics import confusion_matrix\n",
        "import heapq\n",
        "import matplotlib.pyplot as plt"
      ],
      "execution_count": 3,
      "outputs": [
        {
          "output_type": "stream",
          "text": [
            "[nltk_data] Downloading package punkt to /root/nltk_data...\n",
            "[nltk_data]   Unzipping tokenizers/punkt.zip.\n"
          ],
          "name": "stdout"
        }
      ]
    },
    {
      "cell_type": "code",
      "metadata": {
        "colab_type": "code",
        "id": "Y2IP9XY5DdnO",
        "colab": {}
      },
      "source": [
        "# Initialize session\n",
        "sess = tf.Session()\n",
        "K.set_session(sess)"
      ],
      "execution_count": 0,
      "outputs": []
    },
    {
      "cell_type": "code",
      "metadata": {
        "colab_type": "code",
        "id": "JJe8KQemDf1-",
        "outputId": "55662d9f-80b1-4364-d308-95daa6954f02",
        "colab": {
          "base_uri": "https://localhost:8080/",
          "height": 91
        }
      },
      "source": [
        "print(\"Version: \", tf.__version__)\n",
        "print(\"Eager mode: \", tf.executing_eagerly())\n",
        "print(\"Hub version: \", hub.__version__)\n",
        "print(\"GPU is\", \"available\" if tf.test.is_gpu_available() else \"NOT AVAILABLE\")"
      ],
      "execution_count": 5,
      "outputs": [
        {
          "output_type": "stream",
          "text": [
            "Version:  1.15.0\n",
            "Eager mode:  False\n",
            "Hub version:  0.7.0\n",
            "GPU is available\n"
          ],
          "name": "stdout"
        }
      ]
    },
    {
      "cell_type": "code",
      "metadata": {
        "colab_type": "code",
        "id": "w-SfulxpCeH2",
        "outputId": "9e4841af-2b15-4c69-9900-346f4629aa2c",
        "colab": {
          "base_uri": "https://localhost:8080/",
          "height": 147
        }
      },
      "source": [
        "# check status and availability of GPU\n",
        "print(\"GPU on?  - \", tf.test.is_gpu_available())\n",
        "print(\"Available GPUs: \", tf.test.gpu_device_name())\n",
        "\n",
        "# confirm Keras sees the GPU\n",
        "assert len(backend.tensorflow_backend._get_available_gpus()) > 0 # test if Keras sees GPU, if not trigger an error "
      ],
      "execution_count": 6,
      "outputs": [
        {
          "output_type": "stream",
          "text": [
            "GPU on?  -  True\n",
            "Available GPUs:  /device:GPU:0\n",
            "WARNING:tensorflow:From /usr/local/lib/python3.6/dist-packages/keras/backend/tensorflow_backend.py:190: The name tf.get_default_session is deprecated. Please use tf.compat.v1.get_default_session instead.\n",
            "\n",
            "WARNING:tensorflow:From /usr/local/lib/python3.6/dist-packages/keras/backend/tensorflow_backend.py:207: The name tf.global_variables is deprecated. Please use tf.compat.v1.global_variables instead.\n",
            "\n"
          ],
          "name": "stdout"
        }
      ]
    },
    {
      "cell_type": "markdown",
      "metadata": {
        "colab_type": "text",
        "id": "_9HUOLC0CeIQ"
      },
      "source": [
        "#### Hyperparameters\n",
        "\n",
        "* Hyperparameters are used to control the behaviour of the code in the Data Preparation and Model Training parts below"
      ]
    },
    {
      "cell_type": "code",
      "metadata": {
        "colab_type": "code",
        "id": "XATrdoBRCeIT",
        "colab": {}
      },
      "source": [
        "# Define number of samples to use within this script\n",
        "total_train_samples = 3000 # used if script is executed in development mode (train with reduced sample size)\n",
        "total_test_samples = 1000 # used if script is executed in development mode (test with reduced sample size)\n",
        "#total_train_samples = 1306122 # use all samples in training set\n",
        "#total_test_samples = 375806 # use all samples in test set\n",
        "\n",
        "# Data Preparation\n",
        "maxlen = 130 # 130 - covers about 75% of all bad questions completely, processing more characters did not lead to an increase in model performance\n",
        "max_words = 9999999 # dummy to use all words within word_index (=vocabulary derived from questions)\n",
        "\n",
        "# Training\n",
        "model_epochs = 10 # number of epochs the model is trained \n",
        "\n",
        "# Evaluation with Cross Validation\n",
        "\"\"\"\n",
        "State-of-the-Art to evaluate a model is Cross-validation with k = 5 or k = 10.\n",
        "However this would exceed the maximum allowed kernel runtime.\n",
        "Since results are quite stable across different k, it was decided to use k = 3 to evaluate model performnace.\n",
        "k = 3 poses a good tradeoff between runtime and meaningful evaluation\n",
        "\"\"\"\n",
        "kfolds = 3 # perform StratifiedShuffleSplit with k = 3"
      ],
      "execution_count": 0,
      "outputs": []
    },
    {
      "cell_type": "markdown",
      "metadata": {
        "colab_type": "text",
        "id": "uoUov2mMCeIb"
      },
      "source": [
        "# Data Preparation\n",
        "\n",
        "* 1 - This section contains the preprocessing function and corresponding mapping dictionaries\n",
        "* 2 - This section containe the elmo module loaded from tensorflowhub.\n",
        "* 3 - This section contains the execution of all data processing steps"
      ]
    },
    {
      "cell_type": "markdown",
      "metadata": {
        "colab_type": "text",
        "id": "uiz8ScNbCeId"
      },
      "source": [
        "### 1. Definition preprocessing function and mapping dictionaries"
      ]
    },
    {
      "cell_type": "markdown",
      "metadata": {
        "colab_type": "text",
        "id": "ZrJ4Rpv-CeIg"
      },
      "source": [
        "#### 1.1 Preprocessing function\n",
        "\n",
        "* function replaces some special characters \n",
        "* function replaces numbers and year dates by a dummy (#). </br> The dummy is covered by the embeddings and can be used to tell the model that the token is about numbers or years.\n",
        "* function resolves word contractions\n",
        "* function performs normalization (spell correction)"
      ]
    },
    {
      "cell_type": "code",
      "metadata": {
        "colab_type": "code",
        "id": "CGiWKRQsCeIh",
        "colab": {}
      },
      "source": [
        "def preprocessing(x):\n",
        "    x = str(x)\n",
        "    x = re.sub('[’‘´`]', \"'\", x) \n",
        "    \n",
        "    # replaces one digit by #, two following digits by ## etc.\n",
        "    x = re.sub('[0-9]{5,}', '#####', str(x)) \n",
        "    x = re.sub('[0-9]{4}', '####', x)\n",
        "    x = re.sub('[0-9]{3}', '###', x)\n",
        "    x = re.sub('[0-9]{2}', '##', x)\n",
        "    x = re.sub('[0-9]\\'[0-9]', 'feet inches', x) # e.g. 5'5 → feet inches\n",
        "    \n",
        "    for word in x.split():\n",
        "        if word.lower() in contraction_mapping.keys():\n",
        "            x = x.replace(word, contraction_mapping[word.lower()])\n",
        "        if word in correct_spell_dict.keys():\n",
        "            x = x.replace(word, correct_spell_dict[word])\n",
        "        if word in specials_mapping.keys():\n",
        "            x = x.replace(word, specials_mapping[word])\n",
        "        if word[0] in punct and len(word) != 1: # remove punctuation directly in front of word\n",
        "            x = x.replace(word[0], '') \n",
        "        \n",
        "    x = ' '.join(word_tokenize(x)) # separates puncutation from words\n",
        "               \n",
        "    return x"
      ],
      "execution_count": 0,
      "outputs": []
    },
    {
      "cell_type": "markdown",
      "metadata": {
        "colab_type": "text",
        "id": "ExfKlXhTCeIq"
      },
      "source": [
        "#### 1.2 Mapping dictionaries\n",
        "\n",
        "* mapping dicts are used in above defined preprocessing function"
      ]
    },
    {
      "cell_type": "code",
      "metadata": {
        "colab_type": "code",
        "id": "dFDeMObeCeIs",
        "colab": {}
      },
      "source": [
        "# mapping to resolve word contractions (contraction = two words tightened to a new word with the same meaning)\n",
        "\"\"\"mapping from https://www.kaggle.com/noexittv/embeddings-keras-v04\"\"\"\n",
        "contraction_mapping = {\"ain't\": \"is not\", \"aren't\": \"are not\",\"can't\": \"cannot\", \"'cause\": \"because\", \n",
        "                       \"could've\": \"could have\", \"couldn't\": \"could not\", \"didn't\": \"did not\",  \n",
        "                       \"doesn't\": \"does not\", \"don't\": \"do not\", \"hadn't\": \"had not\", \"hasn't\": \"has not\", \n",
        "                       \"haven't\": \"have not\", \"he'd\": \"he would\",\"he'll\": \"he will\", \"he's\": \"he is\", \n",
        "                       \"how'd\": \"how did\", \"how'd'y\": \"how do you\", \"how'll\": \"how will\", \"how's\": \"how is\",  \n",
        "                       \"I'd\": \"I would\", \"I'd've\": \"I would have\", \"I'll\": \"I will\", \"I'll've\": \"I will have\",\n",
        "                       \"I'm\": \"I am\",\"i'm\": \"i am\", \"I've\": \"I have\", \"i'd\": \"i would\", \"i'd've\": \"i would have\", \n",
        "                       \"i'll\": \"i will\",  \"i'll've\": \"i will have\",\"i'm\": \"i am\", \"i've\": \"i have\", \n",
        "                       \"isn't\": \"is not\", \"it'd\": \"it would\", \"it'd've\": \"it would have\", \"it'll\": \"it will\", \n",
        "                       \"it'll've\": \"it will have\",\"it's\": \"it is\", \"let's\": \"let us\", \"ma'am\": \"madam\", \n",
        "                       \"mayn't\": \"may not\", \"might've\": \"might have\",\"mightn't\": \"might not\",\n",
        "                       \"mightn't've\": \"might not have\", \"must've\": \"must have\", \"mustn't\": \"must not\", \n",
        "                       \"mustn't've\": \"must not have\", \"needn't\": \"need not\", \"needn't've\": \"need not have\",\n",
        "                       \"o'clock\": \"of the clock\", \"oughtn't\": \"ought not\", \"oughtn't've\": \"ought not have\", \n",
        "                       \"shan't\": \"shall not\", \"sha'n't\": \"shall not\", \"shan't've\": \"shall not have\", \n",
        "                       \"she'd\": \"she would\", \"she'd've\": \"she would have\", \"she'll\": \"she will\", \n",
        "                       \"she'll've\": \"she will have\", \"she's\": \"she is\", \"should've\": \"should have\", \n",
        "                       \"shouldn't\": \"should not\", \"shouldn't've\": \"should not have\", \"so've\": \"so have\",\n",
        "                       \"so's\": \"so as\", \"this's\": \"this is\",\"that'd\": \"that would\", \n",
        "                       \"that'd've\": \"that would have\", \"that's\": \"that is\", \"there'd\": \"there would\", \n",
        "                       \"there'd've\": \"there would have\", \"there's\": \"there is\", \"here's\": \"here is\",\n",
        "                       \"they'd\": \"they would\", \"they'd've\": \"they would have\", \"they'll\": \"they will\", \n",
        "                       \"they'll've\": \"they will have\", \"they're\": \"they are\", \"they've\": \"they have\", \n",
        "                       \"to've\": \"to have\", \"wasn't\": \"was not\", \"we'd\": \"we would\", \"we'd've\": \"we would have\", \n",
        "                       \"we'll\": \"we will\", \"we'll've\": \"we will have\", \"we're\": \"we are\", \"we've\": \"we have\", \n",
        "                       \"weren't\": \"were not\",\"what`s\": \"what is\", \"what'll\": \"what will\", \"what'll've\": \"what will have\", \n",
        "                       \"what're\": \"what are\",  \"what's\": \"what is\", \"what've\": \"what have\", \"when's\": \"when is\", \n",
        "                       \"when've\": \"when have\", \"where'd\": \"where did\", \"where's\": \"where is\", \n",
        "                       \"where've\": \"where have\", \"who'll\": \"who will\", \"who'll've\": \"who will have\", \n",
        "                       \"who's\": \"who is\", \"who've\": \"who have\", \"why's\": \"why is\", \"why've\": \"why have\", \n",
        "                       \"will've\": \"will have\", \"won't\": \"will not\", \"won't've\": \"will not have\", \n",
        "                       \"would've\": \"would have\", \"wouldn't\": \"would not\", \"wouldn't've\": \"would not have\", \n",
        "                       \"y'all\": \"you all\", \"y'all'd\": \"you all would\",\"y'all'd've\": \"you all would have\",\n",
        "                       \"y'all're\": \"you all are\",\"y'all've\": \"you all have\",\"you'd\": \"you would\", \n",
        "                       \"you'd've\": \"you would have\", \"you'll\": \"you will\", \"you'll've\": \"you will have\", \n",
        "                       \"you're\": \"you are\", \"you've\": \"you have\"}\n",
        "\n",
        "\n",
        "# dict to perform some spell corrections\n",
        "\"\"\"reused from https://www.kaggle.com/theoviel/improve-your-score-with-text-preprocessing-v2 \"\"\"\n",
        "correct_spell_dict = {'colour': 'color', 'centre': 'center', 'favourite': 'favorite',\n",
        "                    'travelling': 'traveling', 'counselling': 'counseling', 'theatre': 'theater',\n",
        "                    'cancelled': 'canceled', 'labour': 'labor', 'organisation': 'organization',\n",
        "                    'wwii': 'world war 2', 'citicise': 'criticize', 'youtu ': 'youtube ',\n",
        "                    'Qoura': 'Quora', 'sallary': 'salary', 'Whta': 'What',\n",
        "                    'narcisist': 'narcissist', 'howdo': 'how do', 'whatare': 'what are',\n",
        "                    'howcan': 'how can', 'howmuch': 'how much', 'howmany': 'how many',\n",
        "                    'whydo': 'why do', 'doI': 'do I', 'theBest': 'the best',\n",
        "                    'howdoes': 'how does', 'mastrubation': 'masturbation',\n",
        "                    'mastrubate': 'masturbate', \"mastrubating\": 'masturbating',\n",
        "                    \"mcdonald's\":'mcdonalds',\n",
        "                    'pennis': 'penis', 'Etherium': 'Ethereum', 'narcissit': 'narcissist',\n",
        "                    'bigdata': 'big data', '2k17': '2017', '2k18': '2018', 'qouta': 'quota', \n",
        "                    'exboyfriend': 'ex boyfriend', 'airhostess': 'air hostess', \"whst\": 'what',\n",
        "                    'watsapp': 'whatsapp', 'demonitisation': 'demonetization',\n",
        "                    'demonitization': 'demonetization', 'demonetisation': 'demonetization',\n",
        "                    'pokémon': 'pokemon', 'quoras': 'quora', 'quorans': 'quora'}\n",
        "\n",
        "\n",
        "# remove some sepcial characters\n",
        "\"\"\"mapping from https://www.kaggle.com/noexittv/embeddings-keras-v04\"\"\"\n",
        "specials_mapping = {\"‘\": \"'\", \"₹\": \"e\", \"´\": \"'\", \"°\": \"\", \"€\": \"e\", \"™\": \"tm\", \"√\": \" sqrt \", \"×\": \"x\", \n",
        "                 \"²\": \"2\", \"—\": \"-\", \"–\": \"-\", \"’\": \"'\", \"_\": \"-\", \"`\": \"'\", '“': '\"', '”': '\"', \n",
        "                 '“': '\"', \"£\": \"e\", '∞': 'infinity', 'θ': 'theta', '÷': '/', 'α': 'alpha', '•': '.', \n",
        "                 'à': 'a', '−': '-', 'β': 'beta', '∅': '', '³': '3', 'π': 'pi', '\\u200b': ' ',\n",
        "                 '…': ' ... ', '\\ufeff': '', 'करना': '', 'है': '', 'ε−': ''}\n",
        "\n",
        "\n",
        "# custom punctuation marks that are removed. \n",
        "\"\"\"Important: \"#\" is not contained in punct, because this is the dummy for numbers of year dates  \"\"\" \n",
        "punct = \"/-?!.,$%\\()*+-/:;<=>@[\\\\]^_`{|}~\" + '\"\"“”’' + '∞θ÷α•à−β∅³π‘₹´°£€\\×™√²—–&' + '\\''"
      ],
      "execution_count": 0,
      "outputs": []
    },
    {
      "cell_type": "markdown",
      "metadata": {
        "colab_type": "text",
        "id": "7gUifSnSCeI8"
      },
      "source": [
        "### 2. Definition and Load of ELMO Embedding\n",
        "\n",
        "\n",
        "\n",
        "*   ELMO Layer has trainable parameters (weights)\n",
        "*   lambda layers do not have trainable parameters\n",
        "\n"
      ]
    },
    {
      "cell_type": "code",
      "metadata": {
        "colab_type": "code",
        "id": "aRwt1NEkDr3D",
        "colab": {}
      },
      "source": [
        "class ElmoEmbeddingLayer(Layer):\n",
        "    def __init__(self, **kwargs):\n",
        "        self.dimensions = 1024\n",
        "        self.trainable=True\n",
        "        super(ElmoEmbeddingLayer, self).__init__(**kwargs)\n",
        "\n",
        "    def build(self, input_shape):\n",
        "        self.elmo = hub.Module('https://tfhub.dev/google/elmo/2', trainable=self.trainable, # elmo module rom tensorflowhub is used (version 2)\n",
        "                               name=\"{}_module\".format(self.name))\n",
        "\n",
        "        self.trainable_weights += tf.trainable_variables(scope=\"^{}_module/.*\".format(self.name))\n",
        "        super(ElmoEmbeddingLayer, self).build(input_shape)\n",
        "\n",
        "    def call(self, x, mask=None):\n",
        "        result = self.elmo(K.squeeze(K.cast(x, tf.string), axis=1),\n",
        "                      as_dict=True,\n",
        "                      signature='default',\n",
        "                      )['default']\n",
        "        return result\n",
        "\n",
        "    def compute_mask(self, inputs, mask=None):\n",
        "        return K.not_equal(inputs, '--PAD--')\n",
        "\n",
        "    def compute_output_shape(self, input_shape):\n",
        "        return (input_shape[0], self.dimensions)"
      ],
      "execution_count": 0,
      "outputs": []
    },
    {
      "cell_type": "markdown",
      "metadata": {
        "colab_type": "text",
        "id": "NC5xeDvvCeJj"
      },
      "source": [
        "### 3. Execution Data Preparation Functions"
      ]
    },
    {
      "cell_type": "markdown",
      "metadata": {
        "colab_type": "text",
        "id": "iOdj29FFCeJr"
      },
      "source": [
        "#### 3.1 Load training and test dataset"
      ]
    },
    {
      "cell_type": "code",
      "metadata": {
        "colab_type": "code",
        "id": "4zIDxSjXEBql",
        "outputId": "edd05423-9009-45d4-a450-636137d29139",
        "colab": {
          "base_uri": "https://localhost:8080/",
          "height": 147
        }
      },
      "source": [
        "# Load training data from workspace\n",
        "from google.colab import drive\n",
        "drive.mount('/content/drive') # Trainset locates in Google Drive. Has to be made available by mounting.\n",
        "train = pd.read_csv(\"/content/drive/My Drive/Colab Notebooks/train.csv\") \n",
        "print(train.shape)\n",
        "pd.set_option('display.max_colwidth', 1500)"
      ],
      "execution_count": 11,
      "outputs": [
        {
          "output_type": "stream",
          "text": [
            "Go to this URL in a browser: https://accounts.google.com/o/oauth2/auth?client_id=947318989803-6bn6qk8qdgf4n4g3pfee6491hc0brc4i.apps.googleusercontent.com&redirect_uri=urn%3aietf%3awg%3aoauth%3a2.0%3aoob&response_type=code&scope=email%20https%3a%2f%2fwww.googleapis.com%2fauth%2fdocs.test%20https%3a%2f%2fwww.googleapis.com%2fauth%2fdrive%20https%3a%2f%2fwww.googleapis.com%2fauth%2fdrive.photos.readonly%20https%3a%2f%2fwww.googleapis.com%2fauth%2fpeopleapi.readonly\n",
            "\n",
            "Enter your authorization code:\n",
            "··········\n",
            "Mounted at /content/drive\n",
            "(1306122, 3)\n"
          ],
          "name": "stdout"
        }
      ]
    },
    {
      "cell_type": "code",
      "metadata": {
        "colab_type": "code",
        "id": "3DfHKPM6EU0h",
        "outputId": "d05fb522-e3cf-4f27-96bc-74f16323c0d4",
        "colab": {
          "base_uri": "https://localhost:8080/",
          "height": 35
        }
      },
      "source": [
        "test = pd.read_csv(\"/content/drive/My Drive/Colab Notebooks/test.csv\") \n",
        "print(test.shape)\n",
        "pd.set_option('display.max_colwidth', 1500)"
      ],
      "execution_count": 12,
      "outputs": [
        {
          "output_type": "stream",
          "text": [
            "(375806, 2)\n"
          ],
          "name": "stdout"
        }
      ]
    },
    {
      "cell_type": "code",
      "metadata": {
        "colab_type": "code",
        "id": "spnjNW7ACeJz",
        "outputId": "cf815943-8c89-43ba-9b60-dbe418bc1505",
        "colab": {
          "base_uri": "https://localhost:8080/",
          "height": 35
        }
      },
      "source": [
        "train = train[:total_train_samples] # in test mode: use subsample of original data frame\n",
        "test = test[:total_test_samples] # in test mode: use subsample of original data frame\n",
        "\n",
        "# Concatenate both dataframes to cover maximum number of words in final embedding matrix\n",
        "df = pd.concat([train, test], axis = 0, sort = False, ignore_index = True) # do not sort non-concatenation axis \n",
        "\n",
        "num_samples,n = df.shape\n",
        "print(\"Shape for this run: \", num_samples, n)"
      ],
      "execution_count": 13,
      "outputs": [
        {
          "output_type": "stream",
          "text": [
            "Shape for this run:  4000 3\n"
          ],
          "name": "stdout"
        }
      ]
    },
    {
      "cell_type": "code",
      "metadata": {
        "colab_type": "code",
        "id": "j9gC42TKCeJ4",
        "outputId": "c08158e2-4e5d-4ec9-9f21-00e273c42010",
        "colab": {
          "base_uri": "https://localhost:8080/",
          "height": 225
        }
      },
      "source": [
        "# Inspecting part of dataframe which contains training data\n",
        "pd.set_option('display.max_colwidth', 1500) # inrease display column size\n",
        "print(\"Shape of training data: \", df.loc[:total_train_samples, :].shape)\n",
        "df.loc[:total_train_samples, :].head()"
      ],
      "execution_count": 14,
      "outputs": [
        {
          "output_type": "stream",
          "text": [
            "Shape of training data:  (3001, 3)\n"
          ],
          "name": "stdout"
        },
        {
          "output_type": "execute_result",
          "data": {
            "text/html": [
              "<div>\n",
              "<style scoped>\n",
              "    .dataframe tbody tr th:only-of-type {\n",
              "        vertical-align: middle;\n",
              "    }\n",
              "\n",
              "    .dataframe tbody tr th {\n",
              "        vertical-align: top;\n",
              "    }\n",
              "\n",
              "    .dataframe thead th {\n",
              "        text-align: right;\n",
              "    }\n",
              "</style>\n",
              "<table border=\"1\" class=\"dataframe\">\n",
              "  <thead>\n",
              "    <tr style=\"text-align: right;\">\n",
              "      <th></th>\n",
              "      <th>qid</th>\n",
              "      <th>question_text</th>\n",
              "      <th>target</th>\n",
              "    </tr>\n",
              "  </thead>\n",
              "  <tbody>\n",
              "    <tr>\n",
              "      <th>0</th>\n",
              "      <td>00002165364db923c7e6</td>\n",
              "      <td>How did Quebec nationalists see their province as a nation in the 1960s?</td>\n",
              "      <td>0.0</td>\n",
              "    </tr>\n",
              "    <tr>\n",
              "      <th>1</th>\n",
              "      <td>000032939017120e6e44</td>\n",
              "      <td>Do you have an adopted dog, how would you encourage people to adopt and not shop?</td>\n",
              "      <td>0.0</td>\n",
              "    </tr>\n",
              "    <tr>\n",
              "      <th>2</th>\n",
              "      <td>0000412ca6e4628ce2cf</td>\n",
              "      <td>Why does velocity affect time? Does velocity affect space geometry?</td>\n",
              "      <td>0.0</td>\n",
              "    </tr>\n",
              "    <tr>\n",
              "      <th>3</th>\n",
              "      <td>000042bf85aa498cd78e</td>\n",
              "      <td>How did Otto von Guericke used the Magdeburg hemispheres?</td>\n",
              "      <td>0.0</td>\n",
              "    </tr>\n",
              "    <tr>\n",
              "      <th>4</th>\n",
              "      <td>0000455dfa3e01eae3af</td>\n",
              "      <td>Can I convert montra helicon D to a mountain bike by just changing the tyres?</td>\n",
              "      <td>0.0</td>\n",
              "    </tr>\n",
              "  </tbody>\n",
              "</table>\n",
              "</div>"
            ],
            "text/plain": [
              "                    qid  ... target\n",
              "0  00002165364db923c7e6  ...    0.0\n",
              "1  000032939017120e6e44  ...    0.0\n",
              "2  0000412ca6e4628ce2cf  ...    0.0\n",
              "3  000042bf85aa498cd78e  ...    0.0\n",
              "4  0000455dfa3e01eae3af  ...    0.0\n",
              "\n",
              "[5 rows x 3 columns]"
            ]
          },
          "metadata": {
            "tags": []
          },
          "execution_count": 14
        }
      ]
    },
    {
      "cell_type": "code",
      "metadata": {
        "colab_type": "code",
        "id": "pT9pg_DXCeJ-",
        "outputId": "3d43856f-b9e8-41ab-b829-823f4668a38f",
        "colab": {
          "base_uri": "https://localhost:8080/",
          "height": 242
        }
      },
      "source": [
        "# Inspecting part of dataframe which contains test data\n",
        "pd.set_option('display.max_colwidth', 1500) # inrease display column size\n",
        "print(\"Shape of test data: \",df.loc[total_train_samples:, :].shape)\n",
        "df.loc[total_train_samples:, :].head() "
      ],
      "execution_count": 15,
      "outputs": [
        {
          "output_type": "stream",
          "text": [
            "Shape of test data:  (1000, 3)\n"
          ],
          "name": "stdout"
        },
        {
          "output_type": "execute_result",
          "data": {
            "text/html": [
              "<div>\n",
              "<style scoped>\n",
              "    .dataframe tbody tr th:only-of-type {\n",
              "        vertical-align: middle;\n",
              "    }\n",
              "\n",
              "    .dataframe tbody tr th {\n",
              "        vertical-align: top;\n",
              "    }\n",
              "\n",
              "    .dataframe thead th {\n",
              "        text-align: right;\n",
              "    }\n",
              "</style>\n",
              "<table border=\"1\" class=\"dataframe\">\n",
              "  <thead>\n",
              "    <tr style=\"text-align: right;\">\n",
              "      <th></th>\n",
              "      <th>qid</th>\n",
              "      <th>question_text</th>\n",
              "      <th>target</th>\n",
              "    </tr>\n",
              "  </thead>\n",
              "  <tbody>\n",
              "    <tr>\n",
              "      <th>3000</th>\n",
              "      <td>0000163e3ea7c7a74cd7</td>\n",
              "      <td>Why do so many women become so rude and arrogant when they get just a little bit of wealth and power?</td>\n",
              "      <td>NaN</td>\n",
              "    </tr>\n",
              "    <tr>\n",
              "      <th>3001</th>\n",
              "      <td>00002bd4fb5d505b9161</td>\n",
              "      <td>When should I apply for RV college of engineering and BMS college of engineering? Should I wait for the COMEDK result or am I supposed to apply before the result?</td>\n",
              "      <td>NaN</td>\n",
              "    </tr>\n",
              "    <tr>\n",
              "      <th>3002</th>\n",
              "      <td>00007756b4a147d2b0b3</td>\n",
              "      <td>What is it really like to be a nurse practitioner?</td>\n",
              "      <td>NaN</td>\n",
              "    </tr>\n",
              "    <tr>\n",
              "      <th>3003</th>\n",
              "      <td>000086e4b7e1c7146103</td>\n",
              "      <td>Who are entrepreneurs?</td>\n",
              "      <td>NaN</td>\n",
              "    </tr>\n",
              "    <tr>\n",
              "      <th>3004</th>\n",
              "      <td>0000c4c3fbe8785a3090</td>\n",
              "      <td>Is education really making good people nowadays?</td>\n",
              "      <td>NaN</td>\n",
              "    </tr>\n",
              "  </tbody>\n",
              "</table>\n",
              "</div>"
            ],
            "text/plain": [
              "                       qid  ... target\n",
              "3000  0000163e3ea7c7a74cd7  ...    NaN\n",
              "3001  00002bd4fb5d505b9161  ...    NaN\n",
              "3002  00007756b4a147d2b0b3  ...    NaN\n",
              "3003  000086e4b7e1c7146103  ...    NaN\n",
              "3004  0000c4c3fbe8785a3090  ...    NaN\n",
              "\n",
              "[5 rows x 3 columns]"
            ]
          },
          "metadata": {
            "tags": []
          },
          "execution_count": 15
        }
      ]
    },
    {
      "cell_type": "markdown",
      "metadata": {
        "colab_type": "text",
        "id": "2WBcMJc4CeKE"
      },
      "source": [
        "#### 3.2 Apply preprocessing Function"
      ]
    },
    {
      "cell_type": "code",
      "metadata": {
        "colab_type": "code",
        "id": "fQNtFg8TCeKF",
        "outputId": "b6f99cab-5f3b-4270-ced7-d5cfaf6a0f55",
        "colab": {
          "base_uri": "https://localhost:8080/",
          "height": 35
        }
      },
      "source": [
        "# Apply preprocessing Function\n",
        "os.system('echo Applying preprocessing functions..')\n",
        "df[\"question_text\"] = df[\"question_text\"].fillna(\" \").apply(lambda x: preprocessing(x))\n",
        "os.system('echo prepocessing done')"
      ],
      "execution_count": 16,
      "outputs": [
        {
          "output_type": "execute_result",
          "data": {
            "text/plain": [
              "0"
            ]
          },
          "metadata": {
            "tags": []
          },
          "execution_count": 16
        }
      ]
    },
    {
      "cell_type": "markdown",
      "metadata": {
        "colab_type": "text",
        "id": "EmBIPm2iCeKK"
      },
      "source": [
        "#### 3.3 Extraction questions and target labels from data frame"
      ]
    },
    {
      "cell_type": "code",
      "metadata": {
        "colab_type": "code",
        "id": "K2_TAUGhFY2W",
        "outputId": "7db690aa-a4f3-41df-a0cb-f8b136b6acae",
        "colab": {
          "base_uri": "https://localhost:8080/",
          "height": 54
        }
      },
      "source": [
        "# Create datasets (Only take up to maxlen words for memory)\n",
        "train_text = df['question_text'].tolist()\n",
        "train_text = [' '.join(t.split()[0:maxlen]) for t in train_text] # splits sentences at space in tokens and uses only 150 words per sentence\n",
        "X = np.array(train_text, dtype=object)[:, np.newaxis]\n",
        "y = df['target'].tolist()\n",
        "\n",
        "print('Shape data tensor:', X.shape) \n",
        "print('Shape target tensor:', len(y)) # 1D Tensor"
      ],
      "execution_count": 17,
      "outputs": [
        {
          "output_type": "stream",
          "text": [
            "Shape data tensor: (4000, 1)\n",
            "Shape target tensor: 4000\n"
          ],
          "name": "stdout"
        }
      ]
    },
    {
      "cell_type": "markdown",
      "metadata": {
        "colab_type": "text",
        "id": "s4ghAQkjCeKs"
      },
      "source": [
        "# Modeling\n",
        "\n",
        "* 1 - This section contains the function which defines the model architecture\n",
        "* 2 - This section contains callback function to evaluate model performance (respectivly the learning process of the model)\n",
        "* 3 - This section contains the actual training of the model"
      ]
    },
    {
      "cell_type": "markdown",
      "metadata": {
        "colab_type": "text",
        "id": "OENkbQNmCeKt"
      },
      "source": [
        "### 1. Definition model architecture\n",
        "\n",
        "* architecture is wrapped into the function get_keras_model \n",
        "\n",
        "\n",
        "* **Embedding Layer:**\n",
        "\n",
        "    * The elmo module available via TensorflowHub is used: https://tfhub.dev/google/elmo/2\n",
        "    * **TensorflowHub is a \"library for reusable machine learning modules\" (enables transfer learning by using pre-trained models)**\n",
        "    * elmo returns fixed fixed embeddings<br></br>\n",
        "   \n",
        "* **Dense Layer:**\n",
        "    \n",
        "    * Fully connected layer.\n",
        "    * gives the model more trainable parameters (model capacity)\n",
        " \n",
        " \n",
        "* **Model Regularization:**\n",
        "\n",
        "    * **Dropout vs. SpatialDropout1D:** Dropout is a popular technique to regularize Neural Networks. The normal Dropout can be used here because the returned tensor of the elmo module is only 2D. SpatialDropout as used in the final prototype is not necessary. \n",
        "       \n",
        "   \n",
        "* **Final Dense Layer (Classifier):**\n",
        "\n",
        "     * **activation function:** State-of-the-Art is the use of sigmoid or relu as the activation function in a binary classification model. The function returns a probability to which the model thinks a sample belongs to one class.\n",
        "     \n",
        "\n",
        "* **Model configuration:**\n",
        "   \n",
        "     * **loss function:** state-of-the-art loss function for binary classification tasks: **binary_crossentropy**\n",
        "     * **optimizer:** **rmsprop** is in most-cases a good choice according to present research papers\n",
        "     * **learning rate:** using the default learning rate of rmsprop is recommended and applied here\n",
        "     * **metrics:** must be defined, default \"accuracy\" is used but not followed up. The Accuracy IS NOT suitable to evaluate model the performance of imbalanced class datasets\n",
        "     \n"
      ]
    },
    {
      "cell_type": "code",
      "metadata": {
        "colab_type": "code",
        "id": "t7bKnI2TCeKw",
        "outputId": "b70df3c3-9ba1-42a9-d11e-a02363210d74",
        "colab": {
          "base_uri": "https://localhost:8080/",
          "height": 994
        }
      },
      "source": [
        "def get_keras_model():\n",
        "\n",
        "    input_text = layers.Input(shape=(1,), dtype=\"string\")\n",
        "    embedding = ElmoEmbeddingLayer()(input_text)\n",
        "    dense = layers.Dense(256, activation='relu')(embedding)\n",
        "    drop = layers.Dropout(0.3)(dense)\n",
        "    \"\"\"https://stackoverflow.com/questions/54638544/elmo-embedding-layer-with-keras\n",
        "    Elmo already uses an LSTM to embed a sequence of words, so own LSTM does not make much sense\n",
        "    \"\"\"\n",
        "    #bi1 = layers.Bidirectional(CuDNNLSTM(32, return_sequences=True))(spat) # \n",
        "    #bi2 = layers.Bidirectional(CuDNNLSTM(32, return_sequences=True))(bi1)\n",
        "    #glob = layers.GlobalMaxPooling1D()(bi2)\n",
        "    pred = layers.Dense(1, activation='sigmoid')(drop) # final -  binary classifier\n",
        "\n",
        "    model = Model(inputs=[input_text], outputs=pred)\n",
        "    \n",
        "    model.compile(optimizer='rmsprop',\n",
        "                  loss='binary_crossentropy',\n",
        "                  metrics=['accuracy'])\n",
        "        \n",
        "    return model\n",
        "\n",
        "get_keras_model().summary()"
      ],
      "execution_count": 18,
      "outputs": [
        {
          "output_type": "stream",
          "text": [
            "WARNING:tensorflow:From /usr/local/lib/python3.6/dist-packages/keras/backend/tensorflow_backend.py:66: The name tf.get_default_graph is deprecated. Please use tf.compat.v1.get_default_graph instead.\n",
            "\n",
            "WARNING:tensorflow:From /usr/local/lib/python3.6/dist-packages/keras/backend/tensorflow_backend.py:541: The name tf.placeholder is deprecated. Please use tf.compat.v1.placeholder instead.\n",
            "\n",
            "INFO:tensorflow:Saver not created because there are no variables in the graph to restore\n"
          ],
          "name": "stdout"
        },
        {
          "output_type": "stream",
          "text": [
            "INFO:tensorflow:Saver not created because there are no variables in the graph to restore\n"
          ],
          "name": "stderr"
        },
        {
          "output_type": "stream",
          "text": [
            "WARNING:tensorflow:From /usr/local/lib/python3.6/dist-packages/keras/backend/tensorflow_backend.py:4432: The name tf.random_uniform is deprecated. Please use tf.random.uniform instead.\n",
            "\n"
          ],
          "name": "stdout"
        },
        {
          "output_type": "stream",
          "text": [
            "WARNING:tensorflow:From /usr/local/lib/python3.6/dist-packages/keras/backend/tensorflow_backend.py:4432: The name tf.random_uniform is deprecated. Please use tf.random.uniform instead.\n",
            "\n"
          ],
          "name": "stderr"
        },
        {
          "output_type": "stream",
          "text": [
            "WARNING:tensorflow:From /usr/local/lib/python3.6/dist-packages/keras/backend/tensorflow_backend.py:148: The name tf.placeholder_with_default is deprecated. Please use tf.compat.v1.placeholder_with_default instead.\n",
            "\n"
          ],
          "name": "stdout"
        },
        {
          "output_type": "stream",
          "text": [
            "WARNING:tensorflow:From /usr/local/lib/python3.6/dist-packages/keras/backend/tensorflow_backend.py:148: The name tf.placeholder_with_default is deprecated. Please use tf.compat.v1.placeholder_with_default instead.\n",
            "\n"
          ],
          "name": "stderr"
        },
        {
          "output_type": "stream",
          "text": [
            "WARNING:tensorflow:From /usr/local/lib/python3.6/dist-packages/keras/backend/tensorflow_backend.py:3733: calling dropout (from tensorflow.python.ops.nn_ops) with keep_prob is deprecated and will be removed in a future version.\n",
            "Instructions for updating:\n",
            "Please use `rate` instead of `keep_prob`. Rate should be set to `rate = 1 - keep_prob`.\n"
          ],
          "name": "stdout"
        },
        {
          "output_type": "stream",
          "text": [
            "WARNING:tensorflow:From /usr/local/lib/python3.6/dist-packages/keras/backend/tensorflow_backend.py:3733: calling dropout (from tensorflow.python.ops.nn_ops) with keep_prob is deprecated and will be removed in a future version.\n",
            "Instructions for updating:\n",
            "Please use `rate` instead of `keep_prob`. Rate should be set to `rate = 1 - keep_prob`.\n"
          ],
          "name": "stderr"
        },
        {
          "output_type": "stream",
          "text": [
            "WARNING:tensorflow:From /usr/local/lib/python3.6/dist-packages/keras/optimizers.py:793: The name tf.train.Optimizer is deprecated. Please use tf.compat.v1.train.Optimizer instead.\n",
            "\n"
          ],
          "name": "stdout"
        },
        {
          "output_type": "stream",
          "text": [
            "WARNING:tensorflow:From /usr/local/lib/python3.6/dist-packages/keras/optimizers.py:793: The name tf.train.Optimizer is deprecated. Please use tf.compat.v1.train.Optimizer instead.\n",
            "\n"
          ],
          "name": "stderr"
        },
        {
          "output_type": "stream",
          "text": [
            "WARNING:tensorflow:From /usr/local/lib/python3.6/dist-packages/keras/backend/tensorflow_backend.py:3657: The name tf.log is deprecated. Please use tf.math.log instead.\n",
            "\n"
          ],
          "name": "stdout"
        },
        {
          "output_type": "stream",
          "text": [
            "WARNING:tensorflow:From /usr/local/lib/python3.6/dist-packages/keras/backend/tensorflow_backend.py:3657: The name tf.log is deprecated. Please use tf.math.log instead.\n",
            "\n"
          ],
          "name": "stderr"
        },
        {
          "output_type": "stream",
          "text": [
            "WARNING:tensorflow:From /usr/local/lib/python3.6/dist-packages/tensorflow_core/python/ops/nn_impl.py:183: where (from tensorflow.python.ops.array_ops) is deprecated and will be removed in a future version.\n",
            "Instructions for updating:\n",
            "Use tf.where in 2.0, which has the same broadcast rule as np.where\n"
          ],
          "name": "stdout"
        },
        {
          "output_type": "stream",
          "text": [
            "WARNING:tensorflow:From /usr/local/lib/python3.6/dist-packages/tensorflow_core/python/ops/nn_impl.py:183: where (from tensorflow.python.ops.array_ops) is deprecated and will be removed in a future version.\n",
            "Instructions for updating:\n",
            "Use tf.where in 2.0, which has the same broadcast rule as np.where\n"
          ],
          "name": "stderr"
        },
        {
          "output_type": "stream",
          "text": [
            "Model: \"model_1\"\n",
            "_________________________________________________________________\n",
            "Layer (type)                 Output Shape              Param #   \n",
            "=================================================================\n",
            "input_1 (InputLayer)         (None, 1)                 0         \n",
            "_________________________________________________________________\n",
            "elmo_embedding_layer_1 (Elmo (None, 1024)              4         \n",
            "_________________________________________________________________\n",
            "dense_1 (Dense)              (None, 256)               262400    \n",
            "_________________________________________________________________\n",
            "dropout_1 (Dropout)          (None, 256)               0         \n",
            "_________________________________________________________________\n",
            "dense_2 (Dense)              (None, 1)                 257       \n",
            "=================================================================\n",
            "Total params: 262,661\n",
            "Trainable params: 262,661\n",
            "Non-trainable params: 0\n",
            "_________________________________________________________________\n"
          ],
          "name": "stdout"
        }
      ]
    },
    {
      "cell_type": "markdown",
      "metadata": {
        "colab_type": "text",
        "id": "kH08BMYzCeK0"
      },
      "source": [
        "### 2. Definition callback function to evaluate model performance\n",
        "\n",
        "* Callback is used to monitor learning process of model during training (regarding overfitting/underfitting)\n",
        "* Callback calculates F1-Score after each model epoch.\n",
        "* Parts of code adapted from https://medium.com/@thongonary/how-to-compute-f1-score-for-each-epoch-in-keras-a1acd17715a2\n",
        "* To calculate F1-Score distinct class labels are needed. However final classifier (sigmoid-function) only returns probabilites. For this reason during callback an F1-optimal threshold is estimated.\n",
        "* Threshold defines which probability (sample) belongs to which class\n",
        "* Suitable Evaluation metrics: Precision, Recall and F1-Score as combination of both. Since these metric functions were removed in Keras 2.0, metrics are implemented within an own callback below. "
      ]
    },
    {
      "cell_type": "code",
      "metadata": {
        "colab_type": "code",
        "id": "1TArWN9ZCeK1",
        "colab": {}
      },
      "source": [
        "class CustomMetric(Callback):\n",
        "    \"\"\"\n",
        "    calculates F1-optimal threshold\n",
        "    calculates F1-Score after each epoch\n",
        "    \"\"\"\n",
        "\n",
        "\n",
        "    # Create Instance at the beginning of each epoch\n",
        "    def on_train_begin(self, logs={}):\n",
        "        self.best_val_f1s = [] # collects best f1 after each epoch with best threshold\n",
        "        \n",
        "    \n",
        "    # Function called at the end of ery epoch\n",
        "    def on_epoch_end(self, epoch, logs={}):\n",
        "        t0 = time.time()\n",
        "        \n",
        "        val_predict = np.asarray(self.model.predict(self.validation_data[0])) \n",
        "        val_target = self.validation_data[1]\n",
        "        \n",
        "        # Find best threshold for prediction\n",
        "        best_f1 = 0               \n",
        "        for threshold in np.arange(0.2,0.401, 0.01):\n",
        "            val_f1 = f1_score(y_true = val_target, y_pred = val_predict >= threshold)\n",
        "            if val_f1 > best_f1:\n",
        "                best_f1 = val_f1\n",
        "\n",
        "        \n",
        "        # Collect best F1-Scores\n",
        "        self.best_val_f1s.append(best_f1)\n",
        "        \n",
        "               \n",
        "        t1 = time.time()\n",
        "        if epoch % 2 == 0:\n",
        "            print(\"  -- epoch: {}\".format(epoch))  \n",
        "            print(\"Execution time on_epoch_end {}\".format(t1-t0))\n",
        "            os.system(\"echo  -- epoch: {}\".format(epoch))\n",
        "            os.system(\"echo Execution time on_epoch_end {}\".format(t1-t0))\n",
        "        return"
      ],
      "execution_count": 0,
      "outputs": []
    },
    {
      "cell_type": "markdown",
      "metadata": {
        "colab_type": "text",
        "id": "xWIxzePlCeK4"
      },
      "source": [
        "### 3. Training Model wih samples generated by StratifiedShuffleSplit\n",
        "\n",
        "* StratifiedKFold: training is performed \"kfold\"- time (defined by hyperparamter kfolds)\n",
        "* within each fold several epochs are run (defined by hyperparameter epochs)\n",
        "\n",
        "* Input for model are batches of integer sequences (see Data Preparation - Section 4.4)\n",
        "        * Input shape: 2D tensor(matrix): (batch_size, sequence_length).\n",
        "* each sequence has a maximum length of maxlen (here: 130)\n",
        "* a batch size of 512 comprises a good tradeoff between runtime and model performance (larger batch size -> faster learning process)"
      ]
    },
    {
      "cell_type": "code",
      "metadata": {
        "colab_type": "code",
        "id": "UgSmD0z8CeK7",
        "outputId": "218a3453-cde7-429b-eeed-1eb54df4e7ac",
        "colab": {
          "base_uri": "https://localhost:8080/",
          "height": 790
        }
      },
      "source": [
        "my_y_val_questions = {} # dictionary to store questions used for validation\n",
        "my_y_val_preds = {} # dictionary to collect model predictions at the end of each split\n",
        "my_y_val_targets = {} # dictionary of true classes at the end of each split\n",
        "\n",
        "my_history_dict = {} # collect accuracy of each epoch\n",
        "my_metrics_dict = {} # collect best f1 of each epoch\n",
        "\n",
        "best_f1_dict = {} # final evaluation at the end of training (after last epoch)\n",
        "best_threshold_dict = {} # collects best thresholds\n",
        "best_confmatrix_dict = {} # collects confusion_matrices\n",
        "best_precision_dict = {} # collects precison_scores\n",
        "best_recall_dict = {} # collects recall_scores\n",
        "\n",
        "\n",
        "# fold_list contains train and validation indices (folds) for each split\n",
        "'''random_state parameter is used to make results comparable/stable'''\n",
        "folds = StratifiedShuffleSplit(n_splits=kfolds, test_size=0.2, random_state=123).split(X[:total_train_samples], y[:total_train_samples])\n",
        "\n",
        "\n",
        "tf.logging.set_verbosity(tf.logging.ERROR) # dont show warnings (e.g. tensorflow version problems)\n",
        "for i, (train_indices, val_indices) in enumerate(folds):\n",
        "    start_fold = time.time()\n",
        "    \n",
        "    print('\\nSplit: {}  \\n '.format(i))\n",
        "    os.system(\"echo running split {}\".format(i))\n",
        "    \n",
        "    # Selection of samples for current fold\n",
        "    X_train, X_val = X[train_indices], X[val_indices] \n",
        "    y = np.array(y)\n",
        "    y_train, y_val = y[train_indices], y[val_indices] \n",
        "\n",
        "    model = get_keras_model() # create new model for current split\n",
        "    my_metrics = CustomMetric() # create new metrics instance\n",
        " \n",
        "    # Training process is logged in history object for visualisation purposes\n",
        "    # within each split setting the model is trained several epochs (complete fit)\n",
        "    history = model.fit(X_train, y_train,\n",
        "                        epochs = model_epochs, \n",
        "                        batch_size= 256,\n",
        "                        verbose = 0, \n",
        "                        validation_data=(X_val, y_val),\n",
        "                        callbacks = [my_metrics])\n",
        "    \n",
        "    ############## at the end of each training process: ##################\n",
        "    \n",
        "    my_history_dict[i] = history\n",
        "    my_metrics_dict[i] = my_metrics\n",
        "    \n",
        "    # Store model prediction probabilites on validation set for evaluation purposes\n",
        "    y_val_pred = model.predict(X_val) # prediction on valiation set\n",
        "    my_y_val_questions[i] = X_val\n",
        "    my_y_val_preds[i] = y_val_pred \n",
        "    my_y_val_targets[i] = y_val\n",
        "    \n",
        "    # Find best threshold for prediction - this threshold later is used for the submission file predictions\n",
        "    best_f1 = 0\n",
        "    best_threshold = 0\n",
        "    for threshold in np.arange(0.1,0.5, 0.01):\n",
        "        # calucate f1 score for allowed thresholds\n",
        "        f1_score_threshold = f1_score(y_true = y_val ,\n",
        "                                              y_pred = y_val_pred >= threshold) # 0 or 1\n",
        "        if f1_score_threshold > best_f1:\n",
        "            best_f1 = f1_score_threshold\n",
        "            best_threshold = threshold\n",
        "            best_f1_dict[i] = best_f1\n",
        "            best_threshold_dict[i] = best_threshold\n",
        "    \n",
        "    # Use threshold of the the best f1 score to calculate confusion matrix, precision and recall\n",
        "    best_confmatrix_dict[i] = confusion_matrix(y_true = y_val ,y_pred = y_val_pred >= best_threshold, labels=[0, 1])\n",
        "    best_precision_dict[i] = precision_score(y_true = y_val ,y_pred = y_val_pred >= best_threshold, average='binary') \n",
        "    best_recall_dict[i] = recall_score(y_true = y_val ,y_pred = y_val_pred >= best_threshold, average='binary')\n",
        "            \n",
        "    stop_fold = time.time()\n",
        "    print(\"Execution time Fold {}: {}.\".format(i, (stop_fold - start_fold)))\n",
        "    os.system(\"echo Execution time Fold {}: {}.\".format(i, (stop_fold - start_fold))) "
      ],
      "execution_count": 20,
      "outputs": [
        {
          "output_type": "stream",
          "text": [
            "\n",
            "Split: 0  \n",
            " \n",
            "  -- epoch: 0\n",
            "Execution time on_epoch_end 3.7589592933654785\n",
            "  -- epoch: 2\n",
            "Execution time on_epoch_end 2.3633575439453125\n",
            "  -- epoch: 4\n",
            "Execution time on_epoch_end 2.315457344055176\n",
            "  -- epoch: 6\n",
            "Execution time on_epoch_end 2.351938009262085\n",
            "  -- epoch: 8\n",
            "Execution time on_epoch_end 2.383800506591797\n",
            "Execution time Fold 0: 139.08634877204895.\n",
            "\n",
            "Split: 1  \n",
            " \n",
            "  -- epoch: 0\n",
            "Execution time on_epoch_end 3.3912220001220703\n",
            "  -- epoch: 2\n",
            "Execution time on_epoch_end 2.3142409324645996\n",
            "  -- epoch: 4\n",
            "Execution time on_epoch_end 2.3584306240081787\n",
            "  -- epoch: 6\n",
            "Execution time on_epoch_end 2.3103346824645996\n",
            "  -- epoch: 8\n",
            "Execution time on_epoch_end 2.311549186706543\n",
            "Execution time Fold 1: 130.0203800201416.\n",
            "\n",
            "Split: 2  \n",
            " \n",
            "  -- epoch: 0\n",
            "Execution time on_epoch_end 3.8811755180358887\n",
            "  -- epoch: 2\n",
            "Execution time on_epoch_end 2.5405266284942627\n",
            "  -- epoch: 4\n",
            "Execution time on_epoch_end 2.5521247386932373\n",
            "  -- epoch: 6\n",
            "Execution time on_epoch_end 2.541374444961548\n",
            "  -- epoch: 8\n",
            "Execution time on_epoch_end 2.545530319213867\n",
            "Execution time Fold 2: 130.7157006263733.\n"
          ],
          "name": "stdout"
        }
      ]
    },
    {
      "cell_type": "code",
      "metadata": {
        "colab_type": "code",
        "id": "VD1ILMa_CeK_",
        "colab": {
          "base_uri": "https://localhost:8080/",
          "height": 127
        },
        "outputId": "23b9de76-4888-4a77-df59-f6a2666676e5"
      },
      "source": [
        "thresh_avg = 0\n",
        "thresh_sum = 0\n",
        "f1_avg = 0\n",
        "f1_sum = 0\n",
        "\n",
        "for key, value in best_f1_dict.items():\n",
        "    print(\"Split: {} : Best F1 score: {:6.4f} reached with a threshold of {:6.4f}\"\n",
        "          .format(key, best_f1_dict[key], best_threshold_dict[key]))\n",
        "    thresh_sum += best_threshold_dict[key] \n",
        "    thresh_avg = thresh_sum/kfolds\n",
        "    f1_sum += best_f1_dict[key] \n",
        "    f1_avg = f1_sum/kfolds\n",
        "   \n",
        "print(\"\")\n",
        "print(\"Threshold for prediction: {:6.4f}\".format(thresh_avg))\n",
        "print(\"Average F1-Score: {:5.3f}\".format(f1_avg))"
      ],
      "execution_count": 21,
      "outputs": [
        {
          "output_type": "stream",
          "text": [
            "Split: 0 : Best F1 score: 0.5106 reached with a threshold of 0.1400\n",
            "Split: 1 : Best F1 score: 0.5870 reached with a threshold of 0.2800\n",
            "Split: 2 : Best F1 score: 0.5542 reached with a threshold of 0.2000\n",
            "\n",
            "Threshold for prediction: 0.2067\n",
            "Average F1-Score: 0.551\n"
          ],
          "name": "stdout"
        }
      ]
    },
    {
      "cell_type": "markdown",
      "metadata": {
        "colab_type": "text",
        "id": "NKZMuhdrCeLD"
      },
      "source": [
        "# Evaluation\n",
        "\n",
        "* 1 - This section contains the evaluation of callback results (loss function and F1-Score) \n",
        "* 2 - Evaluation of model predictions based on metrics for binary classification tasks (precision ,recall, confusin matrix) \n",
        "* 3 - This section inspects model prediciton in detail and aims at understanding what kind of error the model makes "
      ]
    },
    {
      "cell_type": "markdown",
      "metadata": {
        "colab_type": "text",
        "id": "iq4d9cnCCeLF"
      },
      "source": [
        "### 1. Evaluation of callback results (regarding Over-/Underfitting) \n",
        "\n",
        "* For the evaluation of unbalanced datasets the accuracy as implemented in SKLEARN's function cross_val_score() is NOT recommended\n",
        "* A high F1 score is the target in this competition and combines precision and recall\n",
        "* **Plotting information were captured during training by History and Callback Object**\n",
        "* **Cross Validation** is used to evaluate the model regarding Over/Underfitting\n",
        "* **Evaluation based on loss function and F1-Score captured during training for each model epoch**"
      ]
    },
    {
      "cell_type": "code",
      "metadata": {
        "colab_type": "code",
        "id": "pGrdai3nCeLG",
        "colab": {
          "base_uri": "https://localhost:8080/",
          "height": 696
        },
        "outputId": "9b561fa9-7e63-4834-cc7b-0daa4b4edcad"
      },
      "source": [
        "for i in my_history_dict:\n",
        "    \n",
        "    print('Split: {} '.format(i))\n",
        "    loss = my_history_dict[i].history['loss']\n",
        "    val_loss = my_history_dict[i].history['val_loss']\n",
        "    epochs = np.arange(1, len(loss) +1, 1) # x-axis\n",
        "\n",
        "    # Plotting:\n",
        "    f = plt.figure(figsize=(10,3))\n",
        "    # plots loss\n",
        "    f.add_subplot(1, 2, 1) # number of rows, number of columns,subplot you're currently on.\n",
        "    plt.xticks(epochs)\n",
        "    plt.plot(epochs, loss, 'bo', label='Loss Training', color = 'black')\n",
        "    plt.plot(epochs, val_loss, 'b', label='Loss Validation')\n",
        "    plt.title('Loss function Training / Validation')\n",
        "    plt.legend()\n",
        " \n",
        "    # plots f1 score\n",
        "    f.add_subplot(1, 2, 2)\n",
        "    best_val_f1s = my_metrics_dict[i].best_val_f1s\n",
        "   # plt.figure()\n",
        "    plt.xticks(epochs)\n",
        "    plt.plot(epochs, best_val_f1s, 'b', label='F1 Validation')\n",
        "    plt.title('F1 Validation')\n",
        "    plt.legend()\n",
        "    \n",
        "    #plt.subplots_adjust(wspace=0.30) # width reserved for blank space between subplots\n",
        "    f.tight_layout()\n",
        "    plt.show()"
      ],
      "execution_count": 22,
      "outputs": [
        {
          "output_type": "stream",
          "text": [
            "Split: 0 \n"
          ],
          "name": "stdout"
        },
        {
          "output_type": "display_data",
          "data": {
            "image/png": "[encoded data removed]",
            "text/plain": [
              "<Figure size 720x216 with 2 Axes>"
            ]
          },
          "metadata": {
            "tags": []
          }
        },
        {
          "output_type": "stream",
          "text": [
            "Split: 1 \n"
          ],
          "name": "stdout"
        },
        {
          "output_type": "display_data",
          "data": {
            "image/png": "[encoded data removed]",
            "text/plain": [
              "<Figure size 720x216 with 2 Axes>"
            ]
          },
          "metadata": {
            "tags": []
          }
        },
        {
          "output_type": "stream",
          "text": [
            "Split: 2 \n"
          ],
          "name": "stdout"
        },
        {
          "output_type": "display_data",
          "data": {
            "image/png": "[encoded data removed]",
            "text/plain": [
              "<Figure size 720x216 with 2 Axes>"
            ]
          },
          "metadata": {
            "tags": []
          }
        }
      ]
    },
    {
      "cell_type": "markdown",
      "metadata": {
        "colab_type": "text",
        "id": "kY_o-FlTCeLT"
      },
      "source": [
        "### 2. Evaluation of model predictions based on metrics for binary classification tasks\n",
        "\n",
        "* As illustrated in the Data Exploration Kernel the Quora dataset is a highly imbalanced dataset. The insincere class (1) only has a small number of samples. For this the keras model has to be careful predicting the toxic class. There are two imporant aspects that should be examined:\n",
        "\n",
        "        a) Does the model only label a sample as class 1, if it is quite sure ? \n",
        "        b) Or does the model make a lot of class 1 predictions in order to cover most of class 1   \n",
        "           members?\n",
        "        \n",
        "*** Confusion matrix, precision and recall is calculated and interpreted**"
      ]
    },
    {
      "cell_type": "code",
      "metadata": {
        "colab_type": "code",
        "id": "SBTV5dyNCeLU",
        "colab": {
          "base_uri": "https://localhost:8080/",
          "height": 403
        },
        "outputId": "92de1636-7813-4671-849c-0269c20493ae"
      },
      "source": [
        "# Confusion Matrix, Precision and Recall after each Split\n",
        "for key, value in best_f1_dict.items():\n",
        "    print(\" Split: {} \\n Best F1 score: {:6.4f} reached with a threshold of {:6.4f} \\n\"\n",
        "          .format(key, best_f1_dict[key], best_threshold_dict[key]))\n",
        "    print(\" Confusion Matrix    Precision    Recall  \\n {}{:17.3f}{:10.3f}\\n\".format(best_confmatrix_dict[key],\n",
        "                                                                                     best_precision_dict[key],\n",
        "                                                                                     best_recall_dict[key]))"
      ],
      "execution_count": 23,
      "outputs": [
        {
          "output_type": "stream",
          "text": [
            " Split: 0 \n",
            " Best F1 score: 0.5106 reached with a threshold of 0.1400 \n",
            "\n",
            " Confusion Matrix    Precision    Recall  \n",
            " [[530  31]\n",
            " [ 15  24]]            0.436     0.615\n",
            "\n",
            " Split: 1 \n",
            " Best F1 score: 0.5870 reached with a threshold of 0.2800 \n",
            "\n",
            " Confusion Matrix    Precision    Recall  \n",
            " [[535  26]\n",
            " [ 12  27]]            0.509     0.692\n",
            "\n",
            " Split: 2 \n",
            " Best F1 score: 0.5542 reached with a threshold of 0.2000 \n",
            "\n",
            " Confusion Matrix    Precision    Recall  \n",
            " [[540  21]\n",
            " [ 16  23]]            0.523     0.590\n",
            "\n"
          ],
          "name": "stdout"
        }
      ]
    },
    {
      "cell_type": "markdown",
      "metadata": {
        "colab_type": "text",
        "id": "L4t2jBn7CeLY"
      },
      "source": [
        "### 3. Inspecting model predictions in detail\n",
        "\n",
        "* So far, evaluated model predictions always were transformed into binary class labels based on a threshold. This helps to get a basic understanding about model performance, but does do give enough insights to understand why the model behaves as it does. This section is targeted to **understand why the model makes errors**. Questions to be answered are:\n",
        "        a) What are insincere questions where the model strongly believes to be sincere ?\n",
        "        b) What are sincere questions where the model strongly believes to be insincere ?\n",
        "        c) What are insincere questions where the model is uncertain how to classify ?\n",
        "        d) What are sincere questions where the model is uncertain how to classify?\n",
        "    \n",
        "* Moreover\n",
        "        e) what kind to questions the model is able to classify correctly with high confidence?"
      ]
    },
    {
      "cell_type": "code",
      "metadata": {
        "colab_type": "code",
        "id": "DaYsJyDJCeLZ",
        "colab": {}
      },
      "source": [
        "# Create DataFrame for e.g. Split 1 predictions \n",
        "i = 1\n",
        "\n",
        "#q = tokenizer.sequences_to_texts(my_y_val_questions[i]) # transform integer sequences back to questions after preprocessing\n",
        "\n",
        "# Creates data for DataFrame\n",
        "d = {'validation_questions (after preprocessing)': my_y_val_questions[i].flatten(),\n",
        "     'true_labels': my_y_val_targets[i],\n",
        "     'predicted_probabilities': list(my_y_val_preds[i]),\n",
        "     'predicted_labels': list(my_y_val_preds[i] >= best_threshold_dict[i]),\n",
        "    }\n",
        "preds_in_detail = pd.DataFrame(data=d)"
      ],
      "execution_count": 0,
      "outputs": []
    },
    {
      "cell_type": "code",
      "metadata": {
        "colab_type": "code",
        "id": "hZPt6di3CeLc",
        "colab": {
          "base_uri": "https://localhost:8080/",
          "height": 241
        },
        "outputId": "d8d66234-4d4a-4abd-ad16-0f17e81eef75"
      },
      "source": [
        "preds_in_detail.predicted_labels = preds_in_detail.predicted_labels.astype(int)\n",
        "preds_in_detail.true_labels = preds_in_detail.true_labels.astype(int)\n",
        "preds_in_detail.head()"
      ],
      "execution_count": 25,
      "outputs": [
        {
          "output_type": "execute_result",
          "data": {
            "text/html": [
              "<div>\n",
              "<style scoped>\n",
              "    .dataframe tbody tr th:only-of-type {\n",
              "        vertical-align: middle;\n",
              "    }\n",
              "\n",
              "    .dataframe tbody tr th {\n",
              "        vertical-align: top;\n",
              "    }\n",
              "\n",
              "    .dataframe thead th {\n",
              "        text-align: right;\n",
              "    }\n",
              "</style>\n",
              "<table border=\"1\" class=\"dataframe\">\n",
              "  <thead>\n",
              "    <tr style=\"text-align: right;\">\n",
              "      <th></th>\n",
              "      <th>validation_questions (after preprocessing)</th>\n",
              "      <th>true_labels</th>\n",
              "      <th>predicted_probabilities</th>\n",
              "      <th>predicted_labels</th>\n",
              "    </tr>\n",
              "  </thead>\n",
              "  <tbody>\n",
              "    <tr>\n",
              "      <th>0</th>\n",
              "      <td>Do FL police record any data when they check a citizen 's ID without issuance of any citations or infractions ?</td>\n",
              "      <td>0</td>\n",
              "      <td>[0.035562396]</td>\n",
              "      <td>0</td>\n",
              "    </tr>\n",
              "    <tr>\n",
              "      <th>1</th>\n",
              "      <td>Where can I buy unique and quirky products online ?</td>\n",
              "      <td>0</td>\n",
              "      <td>[0.00093594193]</td>\n",
              "      <td>0</td>\n",
              "    </tr>\n",
              "    <tr>\n",
              "      <th>2</th>\n",
              "      <td>Why do Chinese eat snakes , dogs , crocodiles , alligators , insects , scorpions and everything they could find ?</td>\n",
              "      <td>1</td>\n",
              "      <td>[0.49885005]</td>\n",
              "      <td>1</td>\n",
              "    </tr>\n",
              "    <tr>\n",
              "      <th>3</th>\n",
              "      <td>What countries play a leading military role in NATO ?</td>\n",
              "      <td>0</td>\n",
              "      <td>[0.01356402]</td>\n",
              "      <td>0</td>\n",
              "    </tr>\n",
              "    <tr>\n",
              "      <th>4</th>\n",
              "      <td>Can you get sick from old water ?</td>\n",
              "      <td>0</td>\n",
              "      <td>[0.0419285]</td>\n",
              "      <td>0</td>\n",
              "    </tr>\n",
              "  </tbody>\n",
              "</table>\n",
              "</div>"
            ],
            "text/plain": [
              "                                                                          validation_questions (after preprocessing)  ...  predicted_labels\n",
              "0    Do FL police record any data when they check a citizen 's ID without issuance of any citations or infractions ?  ...                 0\n",
              "1                                                                Where can I buy unique and quirky products online ?  ...                 0\n",
              "2  Why do Chinese eat snakes , dogs , crocodiles , alligators , insects , scorpions and everything they could find ?  ...                 1\n",
              "3                                                              What countries play a leading military role in NATO ?  ...                 0\n",
              "4                                                                                  Can you get sick from old water ?  ...                 0\n",
              "\n",
              "[5 rows x 4 columns]"
            ]
          },
          "metadata": {
            "tags": []
          },
          "execution_count": 25
        }
      ]
    },
    {
      "cell_type": "markdown",
      "metadata": {
        "colab_type": "text",
        "id": "lEvxFGFFCeLl"
      },
      "source": [
        "####       a) What are insincere questions where the model strongly believes to be sincere ?\n",
        "\n",
        "* This is the most important question. A machine learning model for toxic coment classification should be able to clearly identify insincere questions. Attacks against individuals or groups must be reduced to the minimum to keep online conversations fruitful. It is better if the model identifies some non-toxic questions as toxic than the other way around. \n",
        "\n",
        "* Code section from above were necessary information for this section were gathered:\n",
        "        y_val_pred = model.predict(X_val) # prediction on valiation set\n",
        "        my_y_val_questions[i] = X_val\n",
        "        my_y_val_preds[i] = y_val_pred \n",
        "        my_y_val_targets[i] = y_val"
      ]
    },
    {
      "cell_type": "code",
      "metadata": {
        "colab_type": "code",
        "id": "Hm4CDXDECeLn",
        "colab": {
          "base_uri": "https://localhost:8080/",
          "height": 433
        },
        "outputId": "7ce52119-ce95-4a4b-db78-e083756eaa35"
      },
      "source": [
        "# Inspecting Wrong Labels: true class is toxic (1), but models predics sincere (0)\n",
        "wrong_labels = preds_in_detail\n",
        "wrong_labels['wrong label'] = (preds_in_detail['true_labels'] == 1) & (preds_in_detail['predicted_labels'] == 0) \n",
        "wrong_labels = wrong_labels[wrong_labels['wrong label'] == True]\n",
        "\n",
        "# Top 10 \n",
        "wrong_labels.sort_values(by=['predicted_probabilities'], ascending = False).head(10)"
      ],
      "execution_count": 26,
      "outputs": [
        {
          "output_type": "execute_result",
          "data": {
            "text/html": [
              "<div>\n",
              "<style scoped>\n",
              "    .dataframe tbody tr th:only-of-type {\n",
              "        vertical-align: middle;\n",
              "    }\n",
              "\n",
              "    .dataframe tbody tr th {\n",
              "        vertical-align: top;\n",
              "    }\n",
              "\n",
              "    .dataframe thead th {\n",
              "        text-align: right;\n",
              "    }\n",
              "</style>\n",
              "<table border=\"1\" class=\"dataframe\">\n",
              "  <thead>\n",
              "    <tr style=\"text-align: right;\">\n",
              "      <th></th>\n",
              "      <th>validation_questions (after preprocessing)</th>\n",
              "      <th>true_labels</th>\n",
              "      <th>predicted_probabilities</th>\n",
              "      <th>predicted_labels</th>\n",
              "      <th>wrong label</th>\n",
              "    </tr>\n",
              "  </thead>\n",
              "  <tbody>\n",
              "    <tr>\n",
              "      <th>481</th>\n",
              "      <td>Does the African-American culture not value fatherhood ?</td>\n",
              "      <td>1</td>\n",
              "      <td>[0.23048246]</td>\n",
              "      <td>0</td>\n",
              "      <td>True</td>\n",
              "    </tr>\n",
              "    <tr>\n",
              "      <th>159</th>\n",
              "      <td>Why has artificial intellect from Amazon been colored with bias against Christianity and Pro-Islam ?</td>\n",
              "      <td>1</td>\n",
              "      <td>[0.20025122]</td>\n",
              "      <td>0</td>\n",
              "      <td>True</td>\n",
              "    </tr>\n",
              "    <tr>\n",
              "      <th>503</th>\n",
              "      <td>Who is paying for the royal family besides the Brits ?</td>\n",
              "      <td>1</td>\n",
              "      <td>[0.19494548]</td>\n",
              "      <td>0</td>\n",
              "      <td>True</td>\n",
              "    </tr>\n",
              "    <tr>\n",
              "      <th>249</th>\n",
              "      <td>Psychologist form relationships w clients for money , and induce clients to replicate relationships with them . Are they manipulative whores ?</td>\n",
              "      <td>1</td>\n",
              "      <td>[0.18010396]</td>\n",
              "      <td>0</td>\n",
              "      <td>True</td>\n",
              "    </tr>\n",
              "    <tr>\n",
              "      <th>26</th>\n",
              "      <td>Look in the mirror &amp; find yourself too attractive , that is not Freudian mental health , so what about those attracted to the same sex , similar problem ?</td>\n",
              "      <td>1</td>\n",
              "      <td>[0.14107883]</td>\n",
              "      <td>0</td>\n",
              "      <td>True</td>\n",
              "    </tr>\n",
              "    <tr>\n",
              "      <th>217</th>\n",
              "      <td>How do I train my dogs to kill raccoons ?</td>\n",
              "      <td>1</td>\n",
              "      <td>[0.11998731]</td>\n",
              "      <td>0</td>\n",
              "      <td>True</td>\n",
              "    </tr>\n",
              "    <tr>\n",
              "      <th>150</th>\n",
              "      <td>What is so wrong with the mental health of Indian men ?</td>\n",
              "      <td>1</td>\n",
              "      <td>[0.104120016]</td>\n",
              "      <td>0</td>\n",
              "      <td>True</td>\n",
              "    </tr>\n",
              "    <tr>\n",
              "      <th>490</th>\n",
              "      <td>Which babies are more sweeter to their parents ? Dark skin babies or light skin babies ?</td>\n",
              "      <td>1</td>\n",
              "      <td>[0.10221285]</td>\n",
              "      <td>0</td>\n",
              "      <td>True</td>\n",
              "    </tr>\n",
              "    <tr>\n",
              "      <th>169</th>\n",
              "      <td>Is Mercedes R. Lackey jealous of the amount of praises Elon musk gets on Quora ?</td>\n",
              "      <td>1</td>\n",
              "      <td>[0.09590563]</td>\n",
              "      <td>0</td>\n",
              "      <td>True</td>\n",
              "    </tr>\n",
              "    <tr>\n",
              "      <th>407</th>\n",
              "      <td>How do I marry an American woman for a Green Card ? How much do they charge ?</td>\n",
              "      <td>1</td>\n",
              "      <td>[0.094560534]</td>\n",
              "      <td>0</td>\n",
              "      <td>True</td>\n",
              "    </tr>\n",
              "  </tbody>\n",
              "</table>\n",
              "</div>"
            ],
            "text/plain": [
              "                                                                                                                     validation_questions (after preprocessing)  ...  wrong label\n",
              "481                                                                                                    Does the African-American culture not value fatherhood ?  ...         True\n",
              "159                                                        Why has artificial intellect from Amazon been colored with bias against Christianity and Pro-Islam ?  ...         True\n",
              "503                                                                                                      Who is paying for the royal family besides the Brits ?  ...         True\n",
              "249              Psychologist form relationships w clients for money , and induce clients to replicate relationships with them . Are they manipulative whores ?  ...         True\n",
              "26   Look in the mirror & find yourself too attractive , that is not Freudian mental health , so what about those attracted to the same sex , similar problem ?  ...         True\n",
              "217                                                                                                                   How do I train my dogs to kill raccoons ?  ...         True\n",
              "150                                                                                                     What is so wrong with the mental health of Indian men ?  ...         True\n",
              "490                                                                    Which babies are more sweeter to their parents ? Dark skin babies or light skin babies ?  ...         True\n",
              "169                                                                            Is Mercedes R. Lackey jealous of the amount of praises Elon musk gets on Quora ?  ...         True\n",
              "407                                                                               How do I marry an American woman for a Green Card ? How much do they charge ?  ...         True\n",
              "\n",
              "[10 rows x 5 columns]"
            ]
          },
          "metadata": {
            "tags": []
          },
          "execution_count": 26
        }
      ]
    },
    {
      "cell_type": "code",
      "metadata": {
        "colab_type": "code",
        "id": "dN8jtg4PCeLr",
        "colab": {
          "base_uri": "https://localhost:8080/",
          "height": 35
        },
        "outputId": "07930d65-4fce-419f-8946-9bb3492f35b4"
      },
      "source": [
        "del wrong_labels; gc.collect()"
      ],
      "execution_count": 27,
      "outputs": [
        {
          "output_type": "execute_result",
          "data": {
            "text/plain": [
              "11115"
            ]
          },
          "metadata": {
            "tags": []
          },
          "execution_count": 27
        }
      ]
    },
    {
      "cell_type": "markdown",
      "metadata": {
        "colab_type": "text",
        "id": "KL6m0rdxCeLz"
      },
      "source": [
        "#### b) What are sincere questions where the network strongly believes to be insincere ?"
      ]
    },
    {
      "cell_type": "code",
      "metadata": {
        "colab_type": "code",
        "id": "dSfo_oTkCeL2",
        "colab": {
          "base_uri": "https://localhost:8080/",
          "height": 467
        },
        "outputId": "5c929230-a98c-47c1-e879-ef46641ed68e"
      },
      "source": [
        "# Inspecting Wrong Labels: true class is bot-toxic (1), but models predics insincere (1)\n",
        "wrong_labels = preds_in_detail\n",
        "wrong_labels['wrong label'] = (preds_in_detail['true_labels'] == 0) & (preds_in_detail['predicted_labels'] == 1) \n",
        "wrong_labels = wrong_labels[wrong_labels['wrong label'] == True]\n",
        "\n",
        "# Top 10 \n",
        "wrong_labels.sort_values(by=['predicted_probabilities'], ascending = False).head(10)"
      ],
      "execution_count": 28,
      "outputs": [
        {
          "output_type": "execute_result",
          "data": {
            "text/html": [
              "<div>\n",
              "<style scoped>\n",
              "    .dataframe tbody tr th:only-of-type {\n",
              "        vertical-align: middle;\n",
              "    }\n",
              "\n",
              "    .dataframe tbody tr th {\n",
              "        vertical-align: top;\n",
              "    }\n",
              "\n",
              "    .dataframe thead th {\n",
              "        text-align: right;\n",
              "    }\n",
              "</style>\n",
              "<table border=\"1\" class=\"dataframe\">\n",
              "  <thead>\n",
              "    <tr style=\"text-align: right;\">\n",
              "      <th></th>\n",
              "      <th>validation_questions (after preprocessing)</th>\n",
              "      <th>true_labels</th>\n",
              "      <th>predicted_probabilities</th>\n",
              "      <th>predicted_labels</th>\n",
              "      <th>wrong label</th>\n",
              "    </tr>\n",
              "  </thead>\n",
              "  <tbody>\n",
              "    <tr>\n",
              "      <th>580</th>\n",
              "      <td>Why do you think moderate and low functioning people with autism are trained to be heroes like being nice to other ones who 're a lot like them ?</td>\n",
              "      <td>0</td>\n",
              "      <td>[0.76517797]</td>\n",
              "      <td>1</td>\n",
              "      <td>True</td>\n",
              "    </tr>\n",
              "    <tr>\n",
              "      <th>106</th>\n",
              "      <td>Why super respectful and successful entrepreneurs who are millionaires or billionaires do not want to be lead in politics ?</td>\n",
              "      <td>0</td>\n",
              "      <td>[0.749891]</td>\n",
              "      <td>1</td>\n",
              "      <td>True</td>\n",
              "    </tr>\n",
              "    <tr>\n",
              "      <th>455</th>\n",
              "      <td>Why does not the world acknowledge that Hitler was a result of a cruel society ? Whats to stop another occurrence in this society ?</td>\n",
              "      <td>0</td>\n",
              "      <td>[0.7036246]</td>\n",
              "      <td>1</td>\n",
              "      <td>True</td>\n",
              "    </tr>\n",
              "    <tr>\n",
              "      <th>202</th>\n",
              "      <td>How can I forcibly convert all Chinese people to Sunni Wahabbi Islam ?</td>\n",
              "      <td>0</td>\n",
              "      <td>[0.6793042]</td>\n",
              "      <td>1</td>\n",
              "      <td>True</td>\n",
              "    </tr>\n",
              "    <tr>\n",
              "      <th>562</th>\n",
              "      <td>Why do so many Asians wear masks ?</td>\n",
              "      <td>0</td>\n",
              "      <td>[0.67480063]</td>\n",
              "      <td>1</td>\n",
              "      <td>True</td>\n",
              "    </tr>\n",
              "    <tr>\n",
              "      <th>78</th>\n",
              "      <td>Girls hate me , but they hate me even more when boys are around me , what do I do ?</td>\n",
              "      <td>0</td>\n",
              "      <td>[0.65813595]</td>\n",
              "      <td>1</td>\n",
              "      <td>True</td>\n",
              "    </tr>\n",
              "    <tr>\n",
              "      <th>165</th>\n",
              "      <td>can not we live without the protection of religion as we see every religion is full of conservative ideas ?</td>\n",
              "      <td>0</td>\n",
              "      <td>[0.64758646]</td>\n",
              "      <td>1</td>\n",
              "      <td>True</td>\n",
              "    </tr>\n",
              "    <tr>\n",
              "      <th>190</th>\n",
              "      <td>Why does it seem like humans prefer to conquer and dominate other cultures and nature , rather than more peaceful alternatives ?</td>\n",
              "      <td>0</td>\n",
              "      <td>[0.6196599]</td>\n",
              "      <td>1</td>\n",
              "      <td>True</td>\n",
              "    </tr>\n",
              "    <tr>\n",
              "      <th>478</th>\n",
              "      <td>Would you say nosy people are untrustworthy and have bad intentions ?</td>\n",
              "      <td>0</td>\n",
              "      <td>[0.5966112]</td>\n",
              "      <td>1</td>\n",
              "      <td>True</td>\n",
              "    </tr>\n",
              "    <tr>\n",
              "      <th>91</th>\n",
              "      <td>Has Donald Trump perpetuated sexism ?</td>\n",
              "      <td>0</td>\n",
              "      <td>[0.59166676]</td>\n",
              "      <td>1</td>\n",
              "      <td>True</td>\n",
              "    </tr>\n",
              "  </tbody>\n",
              "</table>\n",
              "</div>"
            ],
            "text/plain": [
              "                                                                                                            validation_questions (after preprocessing)  ...  wrong label\n",
              "580  Why do you think moderate and low functioning people with autism are trained to be heroes like being nice to other ones who 're a lot like them ?  ...         True\n",
              "106                        Why super respectful and successful entrepreneurs who are millionaires or billionaires do not want to be lead in politics ?  ...         True\n",
              "455                Why does not the world acknowledge that Hitler was a result of a cruel society ? Whats to stop another occurrence in this society ?  ...         True\n",
              "202                                                                             How can I forcibly convert all Chinese people to Sunni Wahabbi Islam ?  ...         True\n",
              "562                                                                                                                 Why do so many Asians wear masks ?  ...         True\n",
              "78                                                                 Girls hate me , but they hate me even more when boys are around me , what do I do ?  ...         True\n",
              "165                                        can not we live without the protection of religion as we see every religion is full of conservative ideas ?  ...         True\n",
              "190                   Why does it seem like humans prefer to conquer and dominate other cultures and nature , rather than more peaceful alternatives ?  ...         True\n",
              "478                                                                              Would you say nosy people are untrustworthy and have bad intentions ?  ...         True\n",
              "91                                                                                                               Has Donald Trump perpetuated sexism ?  ...         True\n",
              "\n",
              "[10 rows x 5 columns]"
            ]
          },
          "metadata": {
            "tags": []
          },
          "execution_count": 28
        }
      ]
    },
    {
      "cell_type": "code",
      "metadata": {
        "colab_type": "code",
        "id": "aFvIZDazCeL8",
        "colab": {
          "base_uri": "https://localhost:8080/",
          "height": 35
        },
        "outputId": "6ab43f28-8ba3-4fbd-d4c9-cdd76711fb1e"
      },
      "source": [
        "del wrong_labels; gc.collect()"
      ],
      "execution_count": 29,
      "outputs": [
        {
          "output_type": "execute_result",
          "data": {
            "text/plain": [
              "11"
            ]
          },
          "metadata": {
            "tags": []
          },
          "execution_count": 29
        }
      ]
    },
    {
      "cell_type": "markdown",
      "metadata": {
        "colab_type": "text",
        "id": "6udcEfv7CeMD"
      },
      "source": [
        "#### c) What are insincere questions where the model is uncertain how to classify ?\n",
        "\n",
        "* uncertainty in this case means, that the predicted probability of a sample is at or close around the decision boundary (threshold)"
      ]
    },
    {
      "cell_type": "code",
      "metadata": {
        "colab_type": "code",
        "id": "QEQSQrF-CeMD",
        "colab": {}
      },
      "source": [
        "# Finds top N closest numbers to threshold of split i\n",
        "x0 = best_threshold_dict[i]\n",
        "n = 100\n",
        "mylist = preds_in_detail['predicted_probabilities']\n",
        "n_closest = heapq.nsmallest(n, mylist, key=lambda x: abs(x-x0))"
      ],
      "execution_count": 0,
      "outputs": []
    },
    {
      "cell_type": "code",
      "metadata": {
        "colab_type": "code",
        "id": "GwZYMxfaCeMF",
        "colab": {
          "base_uri": "https://localhost:8080/",
          "height": 450
        },
        "outputId": "980d0050-014f-4f04-a551-612c028f5169"
      },
      "source": [
        "# Inspecting Wrong Labels: true class is toxic (1), but models is unsure (probablity close to threshold)\n",
        "wrong_labels = preds_in_detail\n",
        "wrong_labels['wrong label'] = (preds_in_detail['true_labels'] == 1) & (preds_in_detail.predicted_probabilities.isin(n_closest) )\n",
        "wrong_labels = wrong_labels[wrong_labels['wrong label'] == True]\n",
        "\n",
        "# Top 10 \n",
        "wrong_labels.head(10)"
      ],
      "execution_count": 31,
      "outputs": [
        {
          "output_type": "execute_result",
          "data": {
            "text/html": [
              "<div>\n",
              "<style scoped>\n",
              "    .dataframe tbody tr th:only-of-type {\n",
              "        vertical-align: middle;\n",
              "    }\n",
              "\n",
              "    .dataframe tbody tr th {\n",
              "        vertical-align: top;\n",
              "    }\n",
              "\n",
              "    .dataframe thead th {\n",
              "        text-align: right;\n",
              "    }\n",
              "</style>\n",
              "<table border=\"1\" class=\"dataframe\">\n",
              "  <thead>\n",
              "    <tr style=\"text-align: right;\">\n",
              "      <th></th>\n",
              "      <th>validation_questions (after preprocessing)</th>\n",
              "      <th>true_labels</th>\n",
              "      <th>predicted_probabilities</th>\n",
              "      <th>predicted_labels</th>\n",
              "      <th>wrong label</th>\n",
              "    </tr>\n",
              "  </thead>\n",
              "  <tbody>\n",
              "    <tr>\n",
              "      <th>26</th>\n",
              "      <td>Look in the mirror &amp; find yourself too attractive , that is not Freudian mental health , so what about those attracted to the same sex , similar problem ?</td>\n",
              "      <td>1</td>\n",
              "      <td>[0.14107883]</td>\n",
              "      <td>0</td>\n",
              "      <td>True</td>\n",
              "    </tr>\n",
              "    <tr>\n",
              "      <th>56</th>\n",
              "      <td>Why do psychopaths rape animals ?</td>\n",
              "      <td>1</td>\n",
              "      <td>[0.39278802]</td>\n",
              "      <td>1</td>\n",
              "      <td>True</td>\n",
              "    </tr>\n",
              "    <tr>\n",
              "      <th>94</th>\n",
              "      <td>Would you date a girl who had sex with a horse or a bull ?</td>\n",
              "      <td>1</td>\n",
              "      <td>[0.3877418]</td>\n",
              "      <td>1</td>\n",
              "      <td>True</td>\n",
              "    </tr>\n",
              "    <tr>\n",
              "      <th>150</th>\n",
              "      <td>What is so wrong with the mental health of Indian men ?</td>\n",
              "      <td>1</td>\n",
              "      <td>[0.104120016]</td>\n",
              "      <td>0</td>\n",
              "      <td>True</td>\n",
              "    </tr>\n",
              "    <tr>\n",
              "      <th>159</th>\n",
              "      <td>Why has artificial intellect from Amazon been colored with bias against Christianity and Pro-Islam ?</td>\n",
              "      <td>1</td>\n",
              "      <td>[0.20025122]</td>\n",
              "      <td>0</td>\n",
              "      <td>True</td>\n",
              "    </tr>\n",
              "    <tr>\n",
              "      <th>169</th>\n",
              "      <td>Is Mercedes R. Lackey jealous of the amount of praises Elon musk gets on Quora ?</td>\n",
              "      <td>1</td>\n",
              "      <td>[0.09590563]</td>\n",
              "      <td>0</td>\n",
              "      <td>True</td>\n",
              "    </tr>\n",
              "    <tr>\n",
              "      <th>192</th>\n",
              "      <td>Why are South Indian dishes which are prepared by North Indians more tasty than dishes prepared by South Indian restaurants ?</td>\n",
              "      <td>1</td>\n",
              "      <td>[0.32416904]</td>\n",
              "      <td>1</td>\n",
              "      <td>True</td>\n",
              "    </tr>\n",
              "    <tr>\n",
              "      <th>217</th>\n",
              "      <td>How do I train my dogs to kill raccoons ?</td>\n",
              "      <td>1</td>\n",
              "      <td>[0.11998731]</td>\n",
              "      <td>0</td>\n",
              "      <td>True</td>\n",
              "    </tr>\n",
              "    <tr>\n",
              "      <th>249</th>\n",
              "      <td>Psychologist form relationships w clients for money , and induce clients to replicate relationships with them . Are they manipulative whores ?</td>\n",
              "      <td>1</td>\n",
              "      <td>[0.18010396]</td>\n",
              "      <td>0</td>\n",
              "      <td>True</td>\n",
              "    </tr>\n",
              "    <tr>\n",
              "      <th>271</th>\n",
              "      <td>Women 's are dangerous species in earth ?</td>\n",
              "      <td>1</td>\n",
              "      <td>[0.46739677]</td>\n",
              "      <td>1</td>\n",
              "      <td>True</td>\n",
              "    </tr>\n",
              "  </tbody>\n",
              "</table>\n",
              "</div>"
            ],
            "text/plain": [
              "                                                                                                                     validation_questions (after preprocessing)  ...  wrong label\n",
              "26   Look in the mirror & find yourself too attractive , that is not Freudian mental health , so what about those attracted to the same sex , similar problem ?  ...         True\n",
              "56                                                                                                                            Why do psychopaths rape animals ?  ...         True\n",
              "94                                                                                                   Would you date a girl who had sex with a horse or a bull ?  ...         True\n",
              "150                                                                                                     What is so wrong with the mental health of Indian men ?  ...         True\n",
              "159                                                        Why has artificial intellect from Amazon been colored with bias against Christianity and Pro-Islam ?  ...         True\n",
              "169                                                                            Is Mercedes R. Lackey jealous of the amount of praises Elon musk gets on Quora ?  ...         True\n",
              "192                               Why are South Indian dishes which are prepared by North Indians more tasty than dishes prepared by South Indian restaurants ?  ...         True\n",
              "217                                                                                                                   How do I train my dogs to kill raccoons ?  ...         True\n",
              "249              Psychologist form relationships w clients for money , and induce clients to replicate relationships with them . Are they manipulative whores ?  ...         True\n",
              "271                                                                                                                   Women 's are dangerous species in earth ?  ...         True\n",
              "\n",
              "[10 rows x 5 columns]"
            ]
          },
          "metadata": {
            "tags": []
          },
          "execution_count": 31
        }
      ]
    },
    {
      "cell_type": "code",
      "metadata": {
        "colab_type": "code",
        "id": "woZj2dWSCeMJ",
        "colab": {
          "base_uri": "https://localhost:8080/",
          "height": 35
        },
        "outputId": "068af808-1f71-4b2b-8774-943ffd18dec1"
      },
      "source": [
        "del wrong_labels; gc.collect() # Garbage Cleaner"
      ],
      "execution_count": 32,
      "outputs": [
        {
          "output_type": "execute_result",
          "data": {
            "text/plain": [
              "11"
            ]
          },
          "metadata": {
            "tags": []
          },
          "execution_count": 32
        }
      ]
    },
    {
      "cell_type": "markdown",
      "metadata": {
        "colab_type": "text",
        "id": "DkbOi6FpCeMN"
      },
      "source": [
        "#### d) What are sincere questions where the model is uncertain how to classify?"
      ]
    },
    {
      "cell_type": "code",
      "metadata": {
        "colab_type": "code",
        "id": "LQmyh0qACeMO",
        "colab": {
          "base_uri": "https://localhost:8080/",
          "height": 450
        },
        "outputId": "0c77e2c1-3c1f-4c28-8539-62406ec33851"
      },
      "source": [
        "# Inspecting Wrong Labels: true class is not toxic (0), but models is unsure (probablity close to threshold)\n",
        "wrong_labels = preds_in_detail\n",
        "wrong_labels['wrong label'] = (preds_in_detail['true_labels'] == 0) & (preds_in_detail.predicted_probabilities.isin(n_closest) )\n",
        "wrong_labels = wrong_labels[wrong_labels['wrong label'] == True]\n",
        "\n",
        "# Top 10 \n",
        "wrong_labels.head(10)"
      ],
      "execution_count": 33,
      "outputs": [
        {
          "output_type": "execute_result",
          "data": {
            "text/html": [
              "<div>\n",
              "<style scoped>\n",
              "    .dataframe tbody tr th:only-of-type {\n",
              "        vertical-align: middle;\n",
              "    }\n",
              "\n",
              "    .dataframe tbody tr th {\n",
              "        vertical-align: top;\n",
              "    }\n",
              "\n",
              "    .dataframe thead th {\n",
              "        text-align: right;\n",
              "    }\n",
              "</style>\n",
              "<table border=\"1\" class=\"dataframe\">\n",
              "  <thead>\n",
              "    <tr style=\"text-align: right;\">\n",
              "      <th></th>\n",
              "      <th>validation_questions (after preprocessing)</th>\n",
              "      <th>true_labels</th>\n",
              "      <th>predicted_probabilities</th>\n",
              "      <th>predicted_labels</th>\n",
              "      <th>wrong label</th>\n",
              "    </tr>\n",
              "  </thead>\n",
              "  <tbody>\n",
              "    <tr>\n",
              "      <th>7</th>\n",
              "      <td>How can I volunteer to go to Puerto Rico to help with the problem of no drivers to get the products inland from the docks ?</td>\n",
              "      <td>0</td>\n",
              "      <td>[0.08401698]</td>\n",
              "      <td>0</td>\n",
              "      <td>True</td>\n",
              "    </tr>\n",
              "    <tr>\n",
              "      <th>12</th>\n",
              "      <td>Would you like to kiss a guy , after he is been down there doing great job , having all your juices on his mouth ?</td>\n",
              "      <td>0</td>\n",
              "      <td>[0.16486478]</td>\n",
              "      <td>0</td>\n",
              "      <td>True</td>\n",
              "    </tr>\n",
              "    <tr>\n",
              "      <th>21</th>\n",
              "      <td>Why are all fitness YouTubers way stronger than everyone I see at my gym ?</td>\n",
              "      <td>0</td>\n",
              "      <td>[0.21106866]</td>\n",
              "      <td>0</td>\n",
              "      <td>True</td>\n",
              "    </tr>\n",
              "    <tr>\n",
              "      <th>27</th>\n",
              "      <td>What would you do if you had total obedience over all living creatures for one day ?</td>\n",
              "      <td>0</td>\n",
              "      <td>[0.14428094]</td>\n",
              "      <td>0</td>\n",
              "      <td>True</td>\n",
              "    </tr>\n",
              "    <tr>\n",
              "      <th>29</th>\n",
              "      <td>Why does my grandmother call wrestling wrastling ?</td>\n",
              "      <td>0</td>\n",
              "      <td>[0.19145164]</td>\n",
              "      <td>0</td>\n",
              "      <td>True</td>\n",
              "    </tr>\n",
              "    <tr>\n",
              "      <th>35</th>\n",
              "      <td>Do all public school teachers automatically get vacation whenever they ask for it ?</td>\n",
              "      <td>0</td>\n",
              "      <td>[0.18584663]</td>\n",
              "      <td>0</td>\n",
              "      <td>True</td>\n",
              "    </tr>\n",
              "    <tr>\n",
              "      <th>41</th>\n",
              "      <td>Do people from Northern Ireland consider themselves to be Irish ?</td>\n",
              "      <td>0</td>\n",
              "      <td>[0.24531844]</td>\n",
              "      <td>0</td>\n",
              "      <td>True</td>\n",
              "    </tr>\n",
              "    <tr>\n",
              "      <th>44</th>\n",
              "      <td>Which are the best books to read for Indian politics and which tells truth about all the political matter ?</td>\n",
              "      <td>0</td>\n",
              "      <td>[0.14515758]</td>\n",
              "      <td>0</td>\n",
              "      <td>True</td>\n",
              "    </tr>\n",
              "    <tr>\n",
              "      <th>50</th>\n",
              "      <td>How do I make a girlfriend in Bangalore ? I work in IT , have sufficient money , and I am good looking . And No girls at workplace .</td>\n",
              "      <td>0</td>\n",
              "      <td>[0.123604625]</td>\n",
              "      <td>0</td>\n",
              "      <td>True</td>\n",
              "    </tr>\n",
              "    <tr>\n",
              "      <th>61</th>\n",
              "      <td>Why did Krishna show the universal from answer ?</td>\n",
              "      <td>0</td>\n",
              "      <td>[0.10795522]</td>\n",
              "      <td>0</td>\n",
              "      <td>True</td>\n",
              "    </tr>\n",
              "  </tbody>\n",
              "</table>\n",
              "</div>"
            ],
            "text/plain": [
              "                                                                                              validation_questions (after preprocessing)  ...  wrong label\n",
              "7            How can I volunteer to go to Puerto Rico to help with the problem of no drivers to get the products inland from the docks ?  ...         True\n",
              "12                    Would you like to kiss a guy , after he is been down there doing great job , having all your juices on his mouth ?  ...         True\n",
              "21                                                            Why are all fitness YouTubers way stronger than everyone I see at my gym ?  ...         True\n",
              "27                                                  What would you do if you had total obedience over all living creatures for one day ?  ...         True\n",
              "29                                                                                    Why does my grandmother call wrestling wrastling ?  ...         True\n",
              "35                                                   Do all public school teachers automatically get vacation whenever they ask for it ?  ...         True\n",
              "41                                                                     Do people from Northern Ireland consider themselves to be Irish ?  ...         True\n",
              "44                           Which are the best books to read for Indian politics and which tells truth about all the political matter ?  ...         True\n",
              "50  How do I make a girlfriend in Bangalore ? I work in IT , have sufficient money , and I am good looking . And No girls at workplace .  ...         True\n",
              "61                                                                                      Why did Krishna show the universal from answer ?  ...         True\n",
              "\n",
              "[10 rows x 5 columns]"
            ]
          },
          "metadata": {
            "tags": []
          },
          "execution_count": 33
        }
      ]
    },
    {
      "cell_type": "code",
      "metadata": {
        "colab_type": "code",
        "id": "SfJFkFbQCeMS",
        "colab": {
          "base_uri": "https://localhost:8080/",
          "height": 35
        },
        "outputId": "1add9a45-0112-4c92-c99d-3a251f158077"
      },
      "source": [
        "del wrong_labels; gc.collect()"
      ],
      "execution_count": 34,
      "outputs": [
        {
          "output_type": "execute_result",
          "data": {
            "text/plain": [
              "11"
            ]
          },
          "metadata": {
            "tags": []
          },
          "execution_count": 34
        }
      ]
    },
    {
      "cell_type": "markdown",
      "metadata": {
        "colab_type": "text",
        "id": "mbs2xLoSCeMU"
      },
      "source": [
        "#### e) what kind to questions the model is able to classify correctly with high confidence?"
      ]
    },
    {
      "cell_type": "code",
      "metadata": {
        "colab_type": "code",
        "id": "C2SIz1Y_CeMV",
        "colab": {
          "base_uri": "https://localhost:8080/",
          "height": 206
        },
        "outputId": "61efad7c-2cee-4c58-ccde-b988fb5b58b1"
      },
      "source": [
        "# Top 5 were the model is quite sure that sample belongs to class 0\n",
        "preds_in_detail.sort_values(by = ['predicted_probabilities'], ascending = True)[:5]"
      ],
      "execution_count": 35,
      "outputs": [
        {
          "output_type": "execute_result",
          "data": {
            "text/html": [
              "<div>\n",
              "<style scoped>\n",
              "    .dataframe tbody tr th:only-of-type {\n",
              "        vertical-align: middle;\n",
              "    }\n",
              "\n",
              "    .dataframe tbody tr th {\n",
              "        vertical-align: top;\n",
              "    }\n",
              "\n",
              "    .dataframe thead th {\n",
              "        text-align: right;\n",
              "    }\n",
              "</style>\n",
              "<table border=\"1\" class=\"dataframe\">\n",
              "  <thead>\n",
              "    <tr style=\"text-align: right;\">\n",
              "      <th></th>\n",
              "      <th>validation_questions (after preprocessing)</th>\n",
              "      <th>true_labels</th>\n",
              "      <th>predicted_probabilities</th>\n",
              "      <th>predicted_labels</th>\n",
              "      <th>wrong label</th>\n",
              "    </tr>\n",
              "  </thead>\n",
              "  <tbody>\n",
              "    <tr>\n",
              "      <th>45</th>\n",
              "      <td>What creative jobs can I take up and where ?</td>\n",
              "      <td>0</td>\n",
              "      <td>[3.7372112e-05]</td>\n",
              "      <td>0</td>\n",
              "      <td>False</td>\n",
              "    </tr>\n",
              "    <tr>\n",
              "      <th>456</th>\n",
              "      <td>What was Miranda Cosgrove 's childhood like ?</td>\n",
              "      <td>0</td>\n",
              "      <td>[4.145503e-05]</td>\n",
              "      <td>0</td>\n",
              "      <td>False</td>\n",
              "    </tr>\n",
              "    <tr>\n",
              "      <th>440</th>\n",
              "      <td>What exactly are atoms ?</td>\n",
              "      <td>0</td>\n",
              "      <td>[4.7773123e-05]</td>\n",
              "      <td>0</td>\n",
              "      <td>False</td>\n",
              "    </tr>\n",
              "    <tr>\n",
              "      <th>445</th>\n",
              "      <td>What is CDP in network interface ?</td>\n",
              "      <td>0</td>\n",
              "      <td>[6.017089e-05]</td>\n",
              "      <td>0</td>\n",
              "      <td>False</td>\n",
              "    </tr>\n",
              "    <tr>\n",
              "      <th>483</th>\n",
              "      <td>What is osn ?</td>\n",
              "      <td>0</td>\n",
              "      <td>[7.3969364e-05]</td>\n",
              "      <td>0</td>\n",
              "      <td>False</td>\n",
              "    </tr>\n",
              "  </tbody>\n",
              "</table>\n",
              "</div>"
            ],
            "text/plain": [
              "        validation_questions (after preprocessing)  ...  wrong label\n",
              "45    What creative jobs can I take up and where ?  ...        False\n",
              "456  What was Miranda Cosgrove 's childhood like ?  ...        False\n",
              "440                       What exactly are atoms ?  ...        False\n",
              "445             What is CDP in network interface ?  ...        False\n",
              "483                                  What is osn ?  ...        False\n",
              "\n",
              "[5 rows x 5 columns]"
            ]
          },
          "metadata": {
            "tags": []
          },
          "execution_count": 35
        }
      ]
    },
    {
      "cell_type": "code",
      "metadata": {
        "colab_type": "code",
        "id": "K6q0dB-9CeMZ",
        "colab": {
          "base_uri": "https://localhost:8080/",
          "height": 276
        },
        "outputId": "aaa69966-3e83-4b4f-de19-b2866515d9e5"
      },
      "source": [
        "# Top 5 were the model is quite sure that sample belongs to class 1\n",
        "preds_in_detail.sort_values(by = ['predicted_probabilities'], ascending = False)[:5]"
      ],
      "execution_count": 36,
      "outputs": [
        {
          "output_type": "execute_result",
          "data": {
            "text/html": [
              "<div>\n",
              "<style scoped>\n",
              "    .dataframe tbody tr th:only-of-type {\n",
              "        vertical-align: middle;\n",
              "    }\n",
              "\n",
              "    .dataframe tbody tr th {\n",
              "        vertical-align: top;\n",
              "    }\n",
              "\n",
              "    .dataframe thead th {\n",
              "        text-align: right;\n",
              "    }\n",
              "</style>\n",
              "<table border=\"1\" class=\"dataframe\">\n",
              "  <thead>\n",
              "    <tr style=\"text-align: right;\">\n",
              "      <th></th>\n",
              "      <th>validation_questions (after preprocessing)</th>\n",
              "      <th>true_labels</th>\n",
              "      <th>predicted_probabilities</th>\n",
              "      <th>predicted_labels</th>\n",
              "      <th>wrong label</th>\n",
              "    </tr>\n",
              "  </thead>\n",
              "  <tbody>\n",
              "    <tr>\n",
              "      <th>359</th>\n",
              "      <td>Is Indians are slave of English , why they think that guys who can speak English are more smarter than Hindi speaking person ?</td>\n",
              "      <td>1</td>\n",
              "      <td>[0.9299609]</td>\n",
              "      <td>1</td>\n",
              "      <td>False</td>\n",
              "    </tr>\n",
              "    <tr>\n",
              "      <th>248</th>\n",
              "      <td>If blacks support school choice and mandatory sentencing for criminals why do not they vote Republican ?</td>\n",
              "      <td>1</td>\n",
              "      <td>[0.9017024]</td>\n",
              "      <td>1</td>\n",
              "      <td>False</td>\n",
              "    </tr>\n",
              "    <tr>\n",
              "      <th>304</th>\n",
              "      <td>What do liberals think the NRA is ? Why do they protest the NRA and feel they are evil ?</td>\n",
              "      <td>1</td>\n",
              "      <td>[0.8791982]</td>\n",
              "      <td>1</td>\n",
              "      <td>False</td>\n",
              "    </tr>\n",
              "    <tr>\n",
              "      <th>85</th>\n",
              "      <td>Why does every vegan think that they are saving the planet ?</td>\n",
              "      <td>1</td>\n",
              "      <td>[0.80210733]</td>\n",
              "      <td>1</td>\n",
              "      <td>False</td>\n",
              "    </tr>\n",
              "    <tr>\n",
              "      <th>389</th>\n",
              "      <td>Why are liberal minorities so voilent towards poeple with diffrent poltical beleifs ? Should supporting trump be a sentence to be imprisoned or savegely attacked ?</td>\n",
              "      <td>1</td>\n",
              "      <td>[0.78565764]</td>\n",
              "      <td>1</td>\n",
              "      <td>False</td>\n",
              "    </tr>\n",
              "  </tbody>\n",
              "</table>\n",
              "</div>"
            ],
            "text/plain": [
              "                                                                                                                              validation_questions (after preprocessing)  ...  wrong label\n",
              "359                                       Is Indians are slave of English , why they think that guys who can speak English are more smarter than Hindi speaking person ?  ...        False\n",
              "248                                                             If blacks support school choice and mandatory sentencing for criminals why do not they vote Republican ?  ...        False\n",
              "304                                                                             What do liberals think the NRA is ? Why do they protest the NRA and feel they are evil ?  ...        False\n",
              "85                                                                                                          Why does every vegan think that they are saving the planet ?  ...        False\n",
              "389  Why are liberal minorities so voilent towards poeple with diffrent poltical beleifs ? Should supporting trump be a sentence to be imprisoned or savegely attacked ?  ...        False\n",
              "\n",
              "[5 rows x 5 columns]"
            ]
          },
          "metadata": {
            "tags": []
          },
          "execution_count": 36
        }
      ]
    },
    {
      "cell_type": "code",
      "metadata": {
        "colab_type": "code",
        "id": "tKqXOICiCeMb",
        "colab": {
          "base_uri": "https://localhost:8080/",
          "height": 35
        },
        "outputId": "0839c77a-7300-4c10-cb57-91d8945431be"
      },
      "source": [
        "del preds_in_detail; gc.collect()"
      ],
      "execution_count": 37,
      "outputs": [
        {
          "output_type": "execute_result",
          "data": {
            "text/plain": [
              "22"
            ]
          },
          "metadata": {
            "tags": []
          },
          "execution_count": 37
        }
      ]
    },
    {
      "cell_type": "markdown",
      "metadata": {
        "colab_type": "text",
        "id": "0JOJVgaVCeMv"
      },
      "source": [
        "# Submission (Prediction)\n",
        "\n",
        "* Test data was loaded in section \"Execution Data Preparation Functions\" - 4.1\n",
        "* Preprocessing Function was applied to test data in section \"Execution Data Preparation Functions\" - 4.2\n",
        "* Test data questions were extracted in section \"Execution Data Preparation Functions\" - 4.3\n",
        "* My_tokenizer function was applied to test data in section \"Execution Data Preparation Functions\" - 4.4\n",
        "\n",
        "\n",
        "  **-> Test data is available as padded integer sequences**\n",
        "     \n",
        "\n",
        "* 1 - This section contains the model prediction to create the submission file\n",
        "* 2 - This section saved the submission file as kernel output to get a score within the competition"
      ]
    },
    {
      "cell_type": "code",
      "metadata": {
        "colab_type": "code",
        "id": "Q8DHDmiPCeMw",
        "colab": {
          "base_uri": "https://localhost:8080/",
          "height": 72
        },
        "outputId": "da495182-bf38-46e2-ac8d-562e58bd4a96"
      },
      "source": [
        "padded_seq_test = X[total_train_samples:]\n",
        "print(\"Length numpy array testset:\", len(padded_seq_test))\n",
        "padded_seq_test[0] #sfirst sample a predictipn is made for"
      ],
      "execution_count": 38,
      "outputs": [
        {
          "output_type": "stream",
          "text": [
            "Length numpy array testset: 1000\n"
          ],
          "name": "stdout"
        },
        {
          "output_type": "execute_result",
          "data": {
            "text/plain": [
              "array(['Why do so many women become so rude and arrogant when they get just a little bit of wealth and power ?'],\n",
              "      dtype=object)"
            ]
          },
          "metadata": {
            "tags": []
          },
          "execution_count": 38
        }
      ]
    },
    {
      "cell_type": "markdown",
      "metadata": {
        "colab_type": "text",
        "id": "_vdqt1h0CeM5"
      },
      "source": [
        "### 1. Model prediction\n",
        "\n",
        "* model predicts a class probability\n",
        "* class probability is converted to distinct class labels via a threshold, resulting in question labeling as\n",
        "         0 (insincere questions) or 1 (sincere questions)\n",
        "* the optimal threshold was examined during model training (Modeling -  section 3)"
      ]
    },
    {
      "cell_type": "code",
      "metadata": {
        "colab_type": "code",
        "id": "jjkAf9NPCeM6",
        "colab": {
          "base_uri": "https://localhost:8080/",
          "height": 243
        },
        "outputId": "f6b99ea5-2030-4d8b-e13b-2569e073fc93"
      },
      "source": [
        "# Model Prediction\n",
        "preds = model.predict(padded_seq_test, batch_size = 256, verbose = 1)\n",
        "final_preds = preds\n",
        "\n",
        "# Create a submission dataframe and append relevant columns\n",
        "submission = pd.DataFrame()\n",
        "submission['qid'] = test['qid'].values\n",
        "submission['prediction'] = (final_preds > 0.38).astype(int) # round sigmoid results to integers\n",
        "\n",
        "# Do test and my submission Dataframe have the same length?\n",
        "if len(submission) == len(test):\n",
        "    print(\"Submission dataframe has the same length as test dataframe with shape:{}\".format(submission.shape))\n",
        "else:\n",
        "    print(\"Something is wrong!\")\n",
        "    \n",
        "submission.head()"
      ],
      "execution_count": 39,
      "outputs": [
        {
          "output_type": "stream",
          "text": [
            "1000/1000 [==============================] - 4s 4ms/step\n",
            "Submission dataframe has the same length as test dataframe with shape:(1000, 2)\n"
          ],
          "name": "stdout"
        },
        {
          "output_type": "execute_result",
          "data": {
            "text/html": [
              "<div>\n",
              "<style scoped>\n",
              "    .dataframe tbody tr th:only-of-type {\n",
              "        vertical-align: middle;\n",
              "    }\n",
              "\n",
              "    .dataframe tbody tr th {\n",
              "        vertical-align: top;\n",
              "    }\n",
              "\n",
              "    .dataframe thead th {\n",
              "        text-align: right;\n",
              "    }\n",
              "</style>\n",
              "<table border=\"1\" class=\"dataframe\">\n",
              "  <thead>\n",
              "    <tr style=\"text-align: right;\">\n",
              "      <th></th>\n",
              "      <th>qid</th>\n",
              "      <th>prediction</th>\n",
              "    </tr>\n",
              "  </thead>\n",
              "  <tbody>\n",
              "    <tr>\n",
              "      <th>0</th>\n",
              "      <td>0000163e3ea7c7a74cd7</td>\n",
              "      <td>1</td>\n",
              "    </tr>\n",
              "    <tr>\n",
              "      <th>1</th>\n",
              "      <td>00002bd4fb5d505b9161</td>\n",
              "      <td>0</td>\n",
              "    </tr>\n",
              "    <tr>\n",
              "      <th>2</th>\n",
              "      <td>00007756b4a147d2b0b3</td>\n",
              "      <td>0</td>\n",
              "    </tr>\n",
              "    <tr>\n",
              "      <th>3</th>\n",
              "      <td>000086e4b7e1c7146103</td>\n",
              "      <td>0</td>\n",
              "    </tr>\n",
              "    <tr>\n",
              "      <th>4</th>\n",
              "      <td>0000c4c3fbe8785a3090</td>\n",
              "      <td>0</td>\n",
              "    </tr>\n",
              "  </tbody>\n",
              "</table>\n",
              "</div>"
            ],
            "text/plain": [
              "                    qid  prediction\n",
              "0  0000163e3ea7c7a74cd7           1\n",
              "1  00002bd4fb5d505b9161           0\n",
              "2  00007756b4a147d2b0b3           0\n",
              "3  000086e4b7e1c7146103           0\n",
              "4  0000c4c3fbe8785a3090           0"
            ]
          },
          "metadata": {
            "tags": []
          },
          "execution_count": 39
        }
      ]
    },
    {
      "cell_type": "markdown",
      "metadata": {
        "colab_type": "text",
        "id": "ZVui3tvqCeM8"
      },
      "source": [
        "### 2. Submission of predictions\n",
        "\n",
        "* submission file is saved as kernel output\n",
        "* based on the submission file the competiton F1-score is calculated"
      ]
    },
    {
      "cell_type": "code",
      "metadata": {
        "colab_type": "code",
        "id": "MFvre_MiCeM8",
        "colab": {}
      },
      "source": [
        "# Submission File as Output\n",
        "#submission.to_csv('submission.csv', index = False)"
      ],
      "execution_count": 0,
      "outputs": []
    },
    {
      "cell_type": "markdown",
      "metadata": {
        "id": "LknvUcW5o323",
        "colab_type": "text"
      },
      "source": [
        "# Further Information"
      ]
    },
    {
      "cell_type": "markdown",
      "metadata": {
        "id": "KJtuA8qfo324",
        "colab_type": "text"
      },
      "source": [
        "* Parts of the Code adapted from: Code from:  https://github.com/strongio/keras-elmo/blob/master/Elmo%20Keras.ipynb\n",
        "* TensorflowHub: https://tfhub.dev/\n",
        "* ElMO on TF Hub: https://tfhub.dev/google/elmo/3 "
      ]
    }
  ]
}