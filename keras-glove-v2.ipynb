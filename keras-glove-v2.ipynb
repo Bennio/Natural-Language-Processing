{
 "cells": [
  {
   "cell_type": "markdown",
   "metadata": {},
   "source": [
    "### Load Data, extract text corpus and target"
   ]
  },
  {
   "cell_type": "code",
   "execution_count": 1,
   "metadata": {},
   "outputs": [
    {
     "name": "stdout",
     "output_type": "stream",
     "text": [
      "1306122 3\n",
      "Type train X <class 'numpy.ndarray'>\n",
      "Type target y:  <class 'numpy.ndarray'>\n"
     ]
    }
   ],
   "source": [
    "import pandas as pd\n",
    "import numpy as np\n",
    "\n",
    "df = pd.read_csv(\"../input/train.csv\")\n",
    "# df = df[:10000] # for Testing purposes\n",
    "num_samples,n = df.shape\n",
    "print(num_samples, n)\n",
    "\n",
    "X = df.loc[:, 'question_text'].values\n",
    "y = df.loc[:, 'target'].values\n",
    "\n",
    "print(\"Type train X\", type(X))\n",
    "print(\"Type target y: \", type(y))"
   ]
  },
  {
   "cell_type": "code",
   "execution_count": 2,
   "metadata": {},
   "outputs": [
    {
     "data": {
      "text/plain": [
       "'How did Quebec nationalists see their province as a nation in the 1960s?'"
      ]
     },
     "execution_count": 2,
     "metadata": {},
     "output_type": "execute_result"
    }
   ],
   "source": [
    "X[0] # First Question in dataset"
   ]
  },
  {
   "cell_type": "code",
   "execution_count": 3,
   "metadata": {},
   "outputs": [
    {
     "data": {
      "text/plain": [
       "0"
      ]
     },
     "execution_count": 3,
     "metadata": {},
     "output_type": "execute_result"
    }
   ],
   "source": [
    "y[0] # classification of first sentence. 0 means NOT insincere"
   ]
  },
  {
   "cell_type": "markdown",
   "metadata": {},
   "source": [
    "**Preprocessing Function**\n",
    "\n",
    "* lower case everything\n",
    "* remove punctuation and stopwords"
   ]
  },
  {
   "cell_type": "code",
   "execution_count": 4,
   "metadata": {},
   "outputs": [],
   "source": [
    "import re\n",
    "import nltk\n",
    "from nltk.corpus import stopwords\n",
    "stop = set(stopwords.words('english'))\n",
    "\n",
    "def my_preprocessor(text):\n",
    "        ## Iterate over the data to preprocess by removing stopwords\n",
    "        lines_without_stopwords=[] \n",
    "        for line in text: \n",
    "            line = line.lower()\n",
    "            line_by_words = re.findall(r'(?:\\w+)', line, flags = re.UNICODE)\n",
    "              #  # remove punctuation ans split\n",
    "            new_line=[]\n",
    "            for word in line_by_words:\n",
    "                if word not in stop:\n",
    "                    new_line.append(word)\n",
    "            lines_without_stopwords.append(new_line)\n",
    "        texts = lines_without_stopwords\n",
    "        return texts"
   ]
  },
  {
   "cell_type": "code",
   "execution_count": 5,
   "metadata": {},
   "outputs": [
    {
     "data": {
      "text/plain": [
       "[['quebec', 'nationalists', 'see', 'province', 'nation', '1960s']]"
      ]
     },
     "execution_count": 5,
     "metadata": {},
     "output_type": "execute_result"
    }
   ],
   "source": [
    "my_preprocessor(X[[0]])"
   ]
  },
  {
   "cell_type": "markdown",
   "metadata": {},
   "source": [
    "### Tokenisation with Keras Tokenizer Class\n",
    "\n",
    "-  https://keras.io/preprocessing/text/"
   ]
  },
  {
   "cell_type": "code",
   "execution_count": 6,
   "metadata": {},
   "outputs": [
    {
     "name": "stderr",
     "output_type": "stream",
     "text": [
      "Using TensorFlow backend.\n"
     ]
    },
    {
     "name": "stdout",
     "output_type": "stream",
     "text": [
      "First Sentence sequenced:  [9, 48, 6683, 7219, 158, 55, 6107, 36, 4, 1206, 6, 1, 8333]\n",
      "First word how within word-index.dictionary:  9\n",
      "222161 unique Tokens within word_index dict.\n"
     ]
    }
   ],
   "source": [
    "from keras.preprocessing.text import Tokenizer\n",
    "from keras.preprocessing.sequence import pad_sequences\n",
    "import numpy as np\n",
    "\n",
    "maxlen = 100 # max seuquence length (max 100 words of each question is used)\n",
    "max_words = 10000 # only 10k most frequent are used to create the vocabulary\n",
    "\n",
    "tokenizer = Tokenizer(num_words=max_words)\n",
    "tokenizer.fit_on_texts(X) \n",
    "  # fit method creates vocabulary index based on word frequency\n",
    "  # each found word gets unique integer e.g. {how: 1, the: 2, ...}\n",
    "sequences = tokenizer.texts_to_sequences(X)\n",
    "  # texts_to_sequences method converts a text to a sequence of words (or tokens)\n",
    "print(\"First Sentence sequenced: \", sequences[0])\n",
    "word_index = tokenizer.word_index\n",
    "  # contains vocabulary\n",
    "print(\"First word \"\"how\"\" within word-index.dictionary: \", word_index.get(\"how\"))\n",
    "print(\"{} unique Tokens within word_index dict.\" .format(len(word_index)))\n",
    "\n",
    "# shorten/fill sequences to maxlen\n",
    "data = pad_sequences(sequences, maxlen=maxlen) "
   ]
  },
  {
   "cell_type": "markdown",
   "metadata": {},
   "source": [
    "**Split validation & Transformation of target**"
   ]
  },
  {
   "cell_type": "code",
   "execution_count": 7,
   "metadata": {},
   "outputs": [
    {
     "name": "stdout",
     "output_type": "stream",
     "text": [
      "Number used training_samples:  1044897\n",
      "Shape data tensors: (1306122, 100)\n",
      "Shape target tensors: (1306122,)\n"
     ]
    }
   ],
   "source": [
    "\n",
    "training_samples = int(num_samples * 0.8)\n",
    "print(\"Number used training_samples: \", training_samples)\n",
    "# validation_samples = num_samples * 0.2\n",
    "\n",
    "# Transformation target labels to \n",
    "labels = np.asarray(y)\n",
    "print('Shape data tensors:', data.shape) # 10k samples, each sequene equal length 100 \n",
    "print('Shape target tensors:', labels.shape) # 1D Tensor\n",
    "\n",
    "# Mixing data to ensure both train and validation set contain both classes\n",
    "# (stratifed sampling better method - maybe later)\n",
    "indices = np.arange(data.shape[0])\n",
    "np.random.shuffle(indices)  # Mixing\n",
    "data = data[indices]\n",
    "labels = labels[indices]\n",
    "\n",
    "# Erstelung Validation set\n",
    "x_train = data[:training_samples] \n",
    "y_train = labels[:training_samples]\n",
    "x_val = data[training_samples:]\n",
    "y_val = labels[training_samples:]"
   ]
  },
  {
   "cell_type": "code",
   "execution_count": 8,
   "metadata": {},
   "outputs": [
    {
     "data": {
      "text/plain": [
       "array([  0,   0,   0,   0,   0,   0,   0,   0,   0,   0,   0,   0,   0,\n",
       "         0,   0,   0,   0,   0,   0,   0,   0,   0,   0,   0,   0,   0,\n",
       "         0,   0,   0,   0,   0,   0,   0,   0,   0,   0,   0,   0,   0,\n",
       "         0,   0,   0,   0,   0,   0,   0,   0,   0,   0,   0,   0,   0,\n",
       "         0,   0,   0,   0,   0,   0,   0,   0,   0,   0,   0,   0,   0,\n",
       "         0,   0,   0,   0,   0,   0,   0,   0,   0,   0,   0,   0,   0,\n",
       "         0,   0,   0,   0,   0,   0,   0,   0,   0,   0,   0,   0,   0,\n",
       "         0,   0,   0,   0,  15,   8, 952, 218,  57], dtype=int32)"
      ]
     },
     "execution_count": 8,
     "metadata": {},
     "output_type": "execute_result"
    }
   ],
   "source": [
    "# Exemplary look at the new (because shuffled) first sequence in train set\n",
    "x_train[0]"
   ]
  },
  {
   "cell_type": "markdown",
   "metadata": {},
   "source": []
  },
  {
   "cell_type": "markdown",
   "metadata": {},
   "source": [
    "### Preprocessing glove embeddings"
   ]
  },
  {
   "cell_type": "code",
   "execution_count": 9,
   "metadata": {},
   "outputs": [
    {
     "name": "stdout",
     "output_type": "stream",
     "text": [
      "Embedding loaded\n",
      "2196016 word vectors within embeddings_dict.\n"
     ]
    }
   ],
   "source": [
    "embeddings_dict = {} # create empty embedding dictionary\n",
    "# Open glove file (vector size 300!)\n",
    "embedding_file = open('../input/embeddings/glove.840B.300d/glove.840B.300d.txt')\n",
    "\n",
    "# Fill embedding dict with word: vector(coefs) pairs\n",
    "for line in embedding_file:\n",
    "    line_values = line.split(' ') # read in values of respective line (= vector)\n",
    "    word = line_values[0] #  # first value in line represents the word\n",
    "    coefs = np.asarray(line_values[1:], dtype='float32') \n",
    "      # # all other values in line represent the word vector\n",
    "    embeddings_dict[word] = coefs # add key(word), value(vector) pairs to dict\n",
    "\n",
    "embedding_file.close() \n",
    "print('Embedding loaded')\n",
    "print('{} word vectors within embeddings_dict.'.format(len(embeddings_dict)))\n",
    " "
   ]
  },
  {
   "cell_type": "markdown",
   "metadata": {},
   "source": [
    "**Creation Embedding Matrix**\n",
    "\n",
    "* embeddings_dict now contains about 2.2 million words with corresponding vector representation\n",
    "* However not all these word: vector pairs are needed\n",
    "* A word representation from the embedding only has to be found for the most frequent 10.000 word within the text corpus (= the questions)\n",
    "* These 10k words already are contained within word_index dict which was created earlier\n",
    "* In the following code a embedding matrix is created for the 10k words"
   ]
  },
  {
   "cell_type": "code",
   "execution_count": 10,
   "metadata": {},
   "outputs": [
    {
     "name": "stdout",
     "output_type": "stream",
     "text": [
      "Embeddings_matrix created\n",
      "Shape embedding_matrix: (10000, 300)\n"
     ]
    }
   ],
   "source": [
    "embedding_dim = 300 # (vector size 300!)\n",
    "# Creation empty matrix\n",
    "embedding_matrix = np.zeros((max_words, embedding_dim))\n",
    "\n",
    "# Filling up matrix\n",
    "for word, i in word_index.items(): \n",
    "        # in index data is stored: {word:index, word_index, ..}\n",
    "    if i < max_words: # only use 10k most frequent words\n",
    "        embedding_vector = embeddings_dict.get(word) \n",
    "          # get vector for word from embedding\n",
    "        if embedding_vector is not None:\n",
    "            embedding_matrix[i] = embedding_vector\n",
    "              # implies that word that are not found get zero vector\n",
    "                \n",
    "print('Embeddings_matrix created')\n",
    "print('Shape embedding_matrix: {}'.format(embedding_matrix.shape))\n"
   ]
  },
  {
   "cell_type": "code",
   "execution_count": 11,
   "metadata": {},
   "outputs": [
    {
     "name": "stdout",
     "output_type": "stream",
     "text": [
      "First two words in word_index: [('the', 1), ('what', 2)] \n"
     ]
    }
   ],
   "source": [
    "# Having a look at the first two lines within the created matrix:\n",
    "\n",
    "# embedding_matrix[0] # Why is this vector zero?\n",
    "# embedding_matrix[1] # Why does this vector contain coefs?\n",
    "\n",
    "print(\"First two words in word_index: {} \" .format(list(word_index.items())[0:2])) \n",
    "\n",
    "# Explanation: The Word_index starts at 1, not at 0\n",
    "# This means the first i returned in the above loop through word index is 1\n",
    "# embedding_matrix[0] never is touched - stays zero\n",
    "# embedding_matrix[1] is the first row that is filled with coefs"
   ]
  },
  {
   "cell_type": "markdown",
   "metadata": {},
   "source": [
    "**Memory management**\n",
    "\n",
    "* The embeddings_dict consumes much RAM but is not needed anymore. "
   ]
  },
  {
   "cell_type": "code",
   "execution_count": 12,
   "metadata": {},
   "outputs": [
    {
     "name": "stdout",
     "output_type": "stream",
     "text": [
      "Garbage collector: collected 0 objects.\n"
     ]
    }
   ],
   "source": [
    "del embeddings_dict\n",
    "import gc; \n",
    "collected = gc.collect() \n",
    "print(\"Garbage collector: collected {} objects.\".format((collected))) "
   ]
  },
  {
   "cell_type": "markdown",
   "metadata": {},
   "source": [
    "### Definition Keras Model\n",
    "\n",
    "-  Input for model are batches of sequences\n",
    "   -  Input shape: 2D tensor(matrix): (batch_size, sequence_length). \n",
    "-  each sequence has a maximum length of maxlen (here: 100)\n",
    "-  Embedding Layer translates Integers of each sequence into dense vectors    \n",
    "  (comp. https://keras.io/layers/embeddings/)\n",
    "   -  input_length: Length of input sequence\n",
    "-  embedding_matrix translates integers into into 3D Tensores of shape:\n",
    "   - Output shape: (batch_size, sequence_length, output_dim) "
   ]
  },
  {
   "cell_type": "code",
   "execution_count": 13,
   "metadata": {},
   "outputs": [
    {
     "name": "stdout",
     "output_type": "stream",
     "text": [
      "WARNING:tensorflow:From /opt/conda/lib/python3.6/site-packages/tensorflow/python/framework/op_def_library.py:263: colocate_with (from tensorflow.python.framework.ops) is deprecated and will be removed in a future version.\n",
      "Instructions for updating:\n",
      "Colocations handled automatically by placer.\n",
      "WARNING:tensorflow:From /opt/conda/lib/python3.6/site-packages/keras/backend/tensorflow_backend.py:3445: calling dropout (from tensorflow.python.ops.nn_ops) with keep_prob is deprecated and will be removed in a future version.\n",
      "Instructions for updating:\n",
      "Please use `rate` instead of `keep_prob`. Rate should be set to `rate = 1 - keep_prob`.\n",
      "_________________________________________________________________\n",
      "Layer (type)                 Output Shape              Param #   \n",
      "=================================================================\n",
      "embedding_1 (Embedding)      (None, 100, 300)          3000000   \n",
      "_________________________________________________________________\n",
      "dropout_1 (Dropout)          (None, 100, 300)          0         \n",
      "_________________________________________________________________\n",
      "conv1d_1 (Conv1D)            (None, 96, 64)            96064     \n",
      "_________________________________________________________________\n",
      "max_pooling1d_1 (MaxPooling1 (None, 24, 64)            0         \n",
      "_________________________________________________________________\n",
      "lstm_1 (LSTM)                (None, 100)               66000     \n",
      "_________________________________________________________________\n",
      "dense_1 (Dense)              (None, 1)                 101       \n",
      "=================================================================\n",
      "Total params: 3,162,165\n",
      "Trainable params: 162,165\n",
      "Non-trainable params: 3,000,000\n",
      "_________________________________________________________________\n"
     ]
    }
   ],
   "source": [
    "from keras.models import Sequential\n",
    "from keras.layers import Embedding, Flatten, Dense\n",
    "from keras.layers import Dropout, Conv1D, MaxPooling1D, LSTM\n",
    "model = Sequential()\n",
    "model.add(Embedding(input_dim = max_words, # 10k different words/integers\n",
    "                    output_dim = embedding_dim, # Vector 300\n",
    "                    input_length = maxlen)) # seqeuence length 100\n",
    "\n",
    "# after the first layer, size of the input must not be specified anymore:\n",
    "# https://keras.io/layers/core/\n",
    "\n",
    "#model.add(Flatten()) # reduction 3D tensor(embedding output) to 2D tensor: \n",
    "model.add(Dropout(0.2))\n",
    "model.add(Conv1D(64, 5, activation='relu'))\n",
    "model.add(MaxPooling1D(pool_size=4))\n",
    "model.add(LSTM(100))\n",
    "# model.add(Dense(32, activation='relu')) # implements the operation: output = activation(dot(input, kernel) + bias)\n",
    "# output array of shape (*, 32)\n",
    "model.add(Dense(1, activation='sigmoid')) # final -  binary classifier\n",
    "\n",
    "# Weights of embedding layer shall nt be trainable because doing so\n",
    "# one would lose the benefit of using pretrained embeddings\n",
    "# Created embedding matrix is set as weights for embedding layer\n",
    "model.layers[0].set_weights([embedding_matrix]) \n",
    "# Setting weights not trainable \n",
    "model.layers[0].trainable = False \n",
    "\n",
    "model.summary()"
   ]
  },
  {
   "cell_type": "markdown",
   "metadata": {},
   "source": [
    "### Training Model"
   ]
  },
  {
   "cell_type": "code",
   "execution_count": 14,
   "metadata": {},
   "outputs": [
    {
     "name": "stdout",
     "output_type": "stream",
     "text": [
      "WARNING:tensorflow:From /opt/conda/lib/python3.6/site-packages/tensorflow/python/ops/math_ops.py:3066: to_int32 (from tensorflow.python.ops.math_ops) is deprecated and will be removed in a future version.\n",
      "Instructions for updating:\n",
      "Use tf.cast instead.\n",
      "Train on 1044897 samples, validate on 261225 samples\n",
      "Epoch 1/1\n",
      " 347360/1044897 [========>.....................] - ETA: 14:22 - loss: 0.1290 - acc: 0.9504"
     ]
    }
   ],
   "source": [
    "model.compile(optimizer='adam', # rmsprop bad results\n",
    "              loss='binary_crossentropy',\n",
    "              metrics=['accuracy'])\n",
    "\n",
    "# Training process is logged in history object for visualition purposes\n",
    "history = model.fit(x_train, y_train,\n",
    "                    epochs = 1, # optimal number of epochs?\n",
    "                    batch_size= 32, # optimal batch size ?\n",
    "                    validation_data=(x_val, y_val))"
   ]
  },
  {
   "cell_type": "markdown",
   "metadata": {},
   "source": [
    "### Evaluation Modell"
   ]
  },
  {
   "cell_type": "code",
   "execution_count": 15,
   "metadata": {},
   "outputs": [
    {
     "data": {
      "image/png": "[encoded data removed]",
      "text/plain": [
       "<Figure size 432x288 with 1 Axes>"
      ]
     },
     "metadata": {},
     "output_type": "display_data"
    },
    {
     "data": {
      "image/png": "[encoded data removed]",
      "text/plain": [
       "<Figure size 432x288 with 1 Axes>"
      ]
     },
     "metadata": {},
     "output_type": "display_data"
    }
   ],
   "source": [
    "import matplotlib.pyplot as plt\n",
    "acc = history.history['acc']\n",
    "val_acc = history.history['val_acc']\n",
    "loss = history.history['loss']\n",
    "val_loss = history.history['val_loss']\n",
    "epochs = range(1, len(acc) + 1)\n",
    "plt.plot(epochs, acc, 'bo', label='Training')\n",
    "plt.plot(epochs, val_acc, 'b', label='Validation')\n",
    "plt.title('Accuracy Training/Validierung')\n",
    "plt.legend()\n",
    "plt.figure()\n",
    "plt.plot(epochs, loss, 'bo', label='Loss Training')\n",
    "plt.plot(epochs, val_loss, 'b', label='Loss Validation')\n",
    "plt.title('Loss function Training/Validierung')\n",
    "plt.legend()\n",
    "plt.show()"
   ]
  },
  {
   "cell_type": "markdown",
   "metadata": {},
   "source": [
    "**Prediction and Submission**"
   ]
  },
  {
   "cell_type": "code",
   "execution_count": 16,
   "metadata": {},
   "outputs": [
    {
     "name": "stdout",
     "output_type": "stream",
     "text": [
      "375806/375806 [==============================] - 158s 421us/step\n",
      "Submission dataframe has the same length as test dataframe with shape:(375806, 2)\n"
     ]
    },
    {
     "data": {
      "text/html": [
       "<div>\n",
       "<style scoped>\n",
       "    .dataframe tbody tr th:only-of-type {\n",
       "        vertical-align: middle;\n",
       "    }\n",
       "\n",
       "    .dataframe tbody tr th {\n",
       "        vertical-align: top;\n",
       "    }\n",
       "\n",
       "    .dataframe thead th {\n",
       "        text-align: right;\n",
       "    }\n",
       "</style>\n",
       "<table border=\"1\" class=\"dataframe\">\n",
       "  <thead>\n",
       "    <tr style=\"text-align: right;\">\n",
       "      <th></th>\n",
       "      <th>qid</th>\n",
       "      <th>prediction</th>\n",
       "    </tr>\n",
       "  </thead>\n",
       "  <tbody>\n",
       "    <tr>\n",
       "      <th>0</th>\n",
       "      <td>0000163e3ea7c7a74cd7</td>\n",
       "      <td>1</td>\n",
       "    </tr>\n",
       "    <tr>\n",
       "      <th>1</th>\n",
       "      <td>00002bd4fb5d505b9161</td>\n",
       "      <td>0</td>\n",
       "    </tr>\n",
       "    <tr>\n",
       "      <th>2</th>\n",
       "      <td>00007756b4a147d2b0b3</td>\n",
       "      <td>0</td>\n",
       "    </tr>\n",
       "    <tr>\n",
       "      <th>3</th>\n",
       "      <td>000086e4b7e1c7146103</td>\n",
       "      <td>0</td>\n",
       "    </tr>\n",
       "    <tr>\n",
       "      <th>4</th>\n",
       "      <td>0000c4c3fbe8785a3090</td>\n",
       "      <td>0</td>\n",
       "    </tr>\n",
       "  </tbody>\n",
       "</table>\n",
       "</div>"
      ],
      "text/plain": [
       "                    qid  prediction\n",
       "0  0000163e3ea7c7a74cd7           1\n",
       "1  00002bd4fb5d505b9161           0\n",
       "2  00007756b4a147d2b0b3           0\n",
       "3  000086e4b7e1c7146103           0\n",
       "4  0000c4c3fbe8785a3090           0"
      ]
     },
     "execution_count": 16,
     "metadata": {},
     "output_type": "execute_result"
    }
   ],
   "source": [
    "# Load test file\n",
    "test = pd.read_csv(\"../input/test.csv\")\n",
    "# test = test[:10] # for Testing purposes\n",
    "X_test = test.loc[:, 'question_text'].values\n",
    "\n",
    "# Preprocessing\n",
    "X_test = my_preprocessor(X_test)\n",
    "\n",
    "# Transformation question to Integer sequence\n",
    "sequences = tokenizer.texts_to_sequences(X_test) # text to int\n",
    "data = pad_sequences(sequences, maxlen=maxlen) # padding to length 100\n",
    "\n",
    "# My predictions\n",
    "predictions = model.predict(data, batch_size = 32, verbose = 1)\n",
    "\n",
    "# Create a submission dataframe and append relevant columns\n",
    "submission = pd.DataFrame()\n",
    "submission['qid'] = test['qid'].values\n",
    "submission['prediction'] = np.round(predictions).astype(int) # round sigmoid results to integers\n",
    "\n",
    "# Do test and my submission Dataframe have the same length?\n",
    "if len(submission) == len(test):\n",
    "    print(\"Submission dataframe has the same length as test dataframe with shape:{}\".format(submission.shape))\n",
    "else:\n",
    "    print(\"Something is wrong!\")\n",
    "    \n",
    "submission.head()"
   ]
  },
  {
   "cell_type": "code",
   "execution_count": 17,
   "metadata": {},
   "outputs": [],
   "source": [
    "# Submission as Output\n",
    "submission.to_csv('submission.csv', index = False)"
   ]
  },
  {
   "cell_type": "code",
   "execution_count": 18,
   "metadata": {},
   "outputs": [],
   "source": []
  }
 ],
 "metadata": {
  "kernelspec": {
   "display_name": "Python 3",
   "language": "python",
   "name": "python3"
  },
  "language_info": {
   "codemirror_mode": {
    "name": "ipython",
    "version": 3
   },
   "file_extension": ".py",
   "mimetype": "text/x-python",
   "name": "python",
   "nbconvert_exporter": "python",
   "pygments_lexer": "ipython3",
   "version": "3.6.8"
  }
 },
 "nbformat": 4,
 "nbformat_minor": 1
}
